{
 "cells": [
  {
   "cell_type": "code",
   "execution_count": null,
   "metadata": {},
   "outputs": [],
   "source": [
    "import cv2\n",
    "import pandas as pd \n",
    "import ipywidgets as widgets\n",
    "import matplotlib.pyplot as plt\n",
    "import matplotlib.image as mpimg\n",
    "import plotly.express as px\n",
    "import deeplabcut\n",
    "from  triangulation import *\n",
    "\n",
    "from mpl_toolkits.mplot3d import Axes3D\n",
    "from zedStereoUtility import *\n",
    "\n",
    "with open('selected_indices.pkl', 'rb') as file:\n",
    "    saved_indices = pkl.load(file)\n",
    "\n",
    "cup_tb_true_pos = [(0, 0, 0), (1, 0, 0), (2, 0, 0), (3, 0, 0), (4, 0, 0), (5, 0, 0), (6, 0, 0), (7, 0, 0), \n",
    "                   (8, 0, 0), (9, 0, 0), (9, 1, 0), (9, 2, 0), (9, 3, 0), (9, 4, 0), (9, 5, 0), (9, 6, 0), \n",
    "                   (8, 6, 0), (7, 5, 0), (6, 4, 0), (5, 3, 0), (4, 2, 0), (3, 1, 0), (2, 0, 0)]\n",
    "pitcher_true_pos =  [(0, 0, 0), (1, 0, 0), (2, 0, 0), (3, 0, 0), (4, 0, 0), (5, 0, 0), (6, 0, 0), (7, 0, 0), \n",
    "                (7, 1, 0), (7, 2, 0), (7, 3, 0), (7, 4, 0), (6, 3, 0), (5, 2, 0), (4, 1, 0), (3, 0, 0)]"
   ]
  },
  {
   "cell_type": "code",
   "execution_count": null,
   "metadata": {
    "scrolled": true
   },
   "outputs": [],
   "source": [
    "# test_folder = '1642520848'\n",
    "# video_folder = '/home/ychen/Desktop/make_tea/camera-main/videos/{}'.format(test_folder)\n",
    "# config_path3d = '/home/ychen/Desktop/make_tea/dlc3D/pitcher_3d/config.yaml'\n",
    "# triangulate(config_path3d, video_folder, videotype='mp4', filterpredictions=True,\n",
    "#             destfolder=video_folder, save_as_csv=True)"
   ]
  },
  {
   "cell_type": "markdown",
   "metadata": {},
   "source": [
    "## Model Comparison over teabag"
   ]
  },
  {
   "cell_type": "code",
   "execution_count": null,
   "metadata": {
    "scrolled": true
   },
   "outputs": [],
   "source": [
    "# Getting the coordinate from the dlc folder for now\n",
    "object_set = 1642519365\n",
    "l_tb_img_dir = './dataset/{}/left/'.format(object_set)\n",
    "r_tb_img_dir = './dataset/{}/right/'.format(object_set)\n",
    "tb_disp_path = './dataset/{}/disparity/'.format(object_set)\n",
    "\n",
    "l_tb_datafile = '../camera-main/videos/{}/{}-leftDLC_dlcrnetms5_make_tea_01052022Jan5shuffle1_40000_full.pickle'.format(object_set, object_set)\n",
    "r_tb_datafile = '../camera-main/videos/{}/{}-rightDLC_dlcrnetms5_make_tea_01052022Jan5shuffle1_40000_full.pickle'.format(object_set, object_set)\n",
    "\n",
    "with open(r_tb_datafile, 'rb') as file:\n",
    "    r_tb_data = pkl.load(file)\n",
    "with open(l_tb_datafile, 'rb') as file:\n",
    "    l_tb_data = pkl.load(file)\n",
    "tb_coordinate3D = LEAStereoCoordinate(l_tb_img_dir, tb_disp_path, l_tb_data)\n",
    "\n",
    "cup_tb_true_vect = []\n",
    "cup_tb_true_dist = []\n",
    "prev = False\n",
    "for pos in cup_tb_true_pos:\n",
    "    if prev: cup_tb_true_vect.append([pos[i] - prev[i] for i in range(len(pos))])\n",
    "    prev = pos\n",
    "    \n",
    "for vec in cup_tb_true_vect:\n",
    "    vec = [GRID_LENGTH*i for i in vec]\n",
    "    cup_tb_true_dist.append(distanceCal(*vec))\n",
    "    \n",
    "tb_model_pos = []        \n",
    "for i in tb_coordinate3D.keys():\n",
    "    holder = []\n",
    "    for pos in tb_coordinate3D[i][:2]:\n",
    "        holder.append([pos['X'], pos['Y'], pos['Z']])\n",
    "    tb_model_pos.append(holder)\n",
    "\n",
    "tb_model_vect, tb_model_dist = getMeasurements(tb_model_pos)\n",
    "# print([tb_true_dist[i] - tb_model_dist[i] for i in range(7)])\n",
    "print('TB LEAstereo MSE:', mean_squared_error(cup_tb_true_dist, tb_model_dist))\n",
    "\n",
    "xaxis_model_loss = consistencyLoss(tb_model_vect[:9])\n",
    "yaxis_model_loss = consistencyLoss(tb_model_vect[9:16])\n",
    "diagonal_model_loss = consistencyLoss(tb_model_vect[16:])\n",
    "print('TB Axis Consistency Loss(LEAStereo):', xaxis_model_loss, yaxis_model_loss, diagonal_model_loss)"
   ]
  },
  {
   "cell_type": "code",
   "execution_count": null,
   "metadata": {},
   "outputs": [],
   "source": [
    "tb_dlc_pos = []\n",
    "tb3d_path = '../camera-main/videos/{}/{}_make_tea_3D.csv'.format(object_set, object_set)\n",
    "tb3d_csv = pd.read_csv(tb3d_path)\n",
    "part1 = tb3d_csv.iloc[0].tolist()\n",
    "part2 = tb3d_csv.iloc[1].tolist()\n",
    "part3 = tb3d_csv.iloc[2].tolist()\n",
    "\n",
    "new_headers = formHeaders(part1, [part2, part3])\n",
    "new_tb3d_csv = tb3d_csv[3:].copy()\n",
    "new_tb3d_csv.columns = new_headers\n",
    "\n",
    "new_tb3d_csv.reset_index(inplace=True)\n",
    "new_tb3d_csv = new_tb3d_csv.loc[:,['ind1-head-x', 'ind1-head-y', 'ind1-head-z',\n",
    "                                    'ind1-tail-x', 'ind1-tail-y', 'ind1-tail-z']]\n",
    "for i in saved_indices[object_set]:\n",
    "    row = [float(i) for i in new_tb3d_csv.iloc[i].tolist()]\n",
    "    tb_dlc_pos.append([row[:3], row[3:6]])\n",
    "    \n",
    "tb_dlc_vect, tb_dlc_dist = getMeasurements(tb_dlc_pos)\n",
    "scales = np.arange(1.5, 3, 0.05)\n",
    "error = findError(cup_tb_true_dist, tb_dlc_dist, scales)\n",
    "\n",
    "plt.plot(scales, error)\n",
    "print('TB Min MSE:', min(error))\n",
    "\n",
    "xaxis_dlc_loss = consistency(tb_dlc_vect[:9])\n",
    "yaxis_dlc_loss = consistency(tb_dlc_vect[9:16])\n",
    "diagonal_dlc_loss = consistency(tb_dlc_vect[16:])\n",
    "print('TB Axis Consistency Loss(DLC):', xaxis_dlc_loss, yaxis_dlc_loss, diagonal_dlc_loss)"
   ]
  },
  {
   "cell_type": "markdown",
   "metadata": {},
   "source": [
    "### 3D Trackerlet Plot for Teabag using LEAStereo"
   ]
  },
  {
   "cell_type": "code",
   "execution_count": null,
   "metadata": {
    "scrolled": false
   },
   "outputs": [],
   "source": [
    "tb_model_df = pd.DataFrame(np.array(tb_model_pos).reshape(-1, 3))\n",
    "tb_model_df['time'] = tb_model_df.index\n",
    "fig = px.scatter_3d(tb_model_df,x=0,y=1,z=2, color='time')\n",
    "fig.update_traces(marker=dict(size=3))\n",
    "fig.show()"
   ]
  },
  {
   "cell_type": "markdown",
   "metadata": {},
   "source": [
    "### 3D Trackerlet Plot for Teabag using DLC"
   ]
  },
  {
   "cell_type": "code",
   "execution_count": null,
   "metadata": {
    "scrolled": false
   },
   "outputs": [],
   "source": [
    "tb_dlc_df = pd.DataFrame(np.array(tb_dlc_pos).reshape(-1, 3))\n",
    "tb_dlc_df['time'] = tb_dlc_df.index\n",
    "fig = px.scatter_3d(tb_dlc_df,x=0,y=1,z=2, color='time')\n",
    "fig.update_traces(marker=dict(size=3))\n",
    "fig.show()"
   ]
  },
  {
   "cell_type": "code",
   "execution_count": null,
   "metadata": {},
   "outputs": [],
   "source": [
    "# with open('../dlc/make_tea_3d-Luke_Yinghan-2022-01-13-3d/camera_matrix/stereo_params.pickle', 'rb') as file:\n",
    "#     params = pkl.load(file)\n",
    "# outputs_l = []\n",
    "# for i in tb_dlc_pos:\n",
    "# #     output = np.transpose(np.dot(params['left-right']['R'], np.transpose(i)))\n",
    "# #     output = [[row[j] + params['left-right']['T'][j][0] for j in range(3)] for row in output]\n",
    "# #     print(output)\n",
    "#     output = np.transpose(np.dot(params['left-right']['cameraMatrix1'], np.transpose(i)))\n",
    "#     outputs_l.append((output[1]/output[1,2])[:2])\n",
    "\n",
    "# outputs_r = []\n",
    "# for i in tb_dlc_pos:\n",
    "#     output = np.transpose(np.dot(params['left-right']['cameraMatrix2'], np.transpose(i)))\n",
    "#     outputs_r.append((output[1]/output[1,2])[:2])"
   ]
  },
  {
   "cell_type": "code",
   "execution_count": null,
   "metadata": {
    "scrolled": true
   },
   "outputs": [],
   "source": [
    "# count = 1\n",
    "# for ind, key in enumerate(tb_coordinate3D.keys()):\n",
    "#     lx, ly, rx = [], [], [] \n",
    "#     dlc_ry, dlc_rx = [], [] \n",
    "#     right_coord = r_tb_data[key]['coordinates'][0]\n",
    "#     for k, _ in enumerate(right_coord):\n",
    "#         confid_k = list(np.reshape(r_tb_data[key]['confidence'][k], (-1)))\n",
    "#         best_index = confid_k.index(max(confid_k))\n",
    "#         pix = right_coord[k][best_index]\n",
    "#         if len(pix) == 0: continue\n",
    "#         x_l, y_l = (int(i) for dim, i in enumerate(pix))\n",
    "#         dlc_ry.append(y_l)\n",
    "#         dlc_rx.append(x_l)\n",
    "#     for coor in tb_coordinate3D[key][:2]:\n",
    "#         lx.append(coor['left_x'])\n",
    "#         ly.append(coor['left_y'])\n",
    "#         rx.append(coor['right_x'])\n",
    "#     img_file = '{}.jpg'.format(key)\n",
    "#     img_left = imageio.imread(l_tb_img_dir + img_file)\n",
    "#     img_right = imageio.imread(r_tb_img_dir + img_file)\n",
    "\n",
    "#     disp_path = \"{}_disp.npy\".format(tb_disp_path + img_file.split('.')[0])\n",
    "#     img_disparity = np.load(disp_path)\n",
    "#     fig = plt.figure(figsize=(20, 40))\n",
    "\n",
    "#     fig.add_subplot(15, 4, count)\n",
    "#     plt.title('Left Image')\n",
    "#     plt.imshow(img_left)\n",
    "    \n",
    "#     plt.scatter(lx, ly)\n",
    "    \n",
    "#     fig.add_subplot(15, 4, count+1)\n",
    "#     plt.title('Right Image')\n",
    "#     plt.imshow(img_right)\n",
    "#     plt.scatter(rx, ly)\n",
    "#     plt.scatter(dlc_rx, dlc_ry)\n",
    "#     count += 2\n",
    "# #     fig.add_subplot(3, 1, 3)\n",
    "# #     plt.title('Disparity (Left-Camerea View)')\n",
    "# #     plt.imshow(img_disparity)"
   ]
  },
  {
   "cell_type": "markdown",
   "metadata": {},
   "source": [
    "## Model Comparison over Cup Object"
   ]
  },
  {
   "cell_type": "code",
   "execution_count": null,
   "metadata": {},
   "outputs": [],
   "source": [
    "# Getting the coordinate from the dlc folder for now\n",
    "cup_object_set = 1642520604\n",
    "l_cup_img_dir = './dataset/{}/left/'.format(cup_object_set)\n",
    "r_cup_img_dir = './dataset/{}/right/'.format(cup_object_set)\n",
    "cup_disp_path = './dataset/{}/disparity/'.format(cup_object_set)\n",
    "\n",
    "l_cup_datafile = '../camera-main/videos/{}/{}-leftDLC_dlcrnetms5_cupJun15shuffle1_140000_full.pickle'.format(cup_object_set, cup_object_set)\n",
    "r_cup_datafile = '../camera-main/videos/{}/{}-rightDLC_dlcrnetms5_cupJun15shuffle1_140000_full.pickle'.format(cup_object_set, cup_object_set)\n",
    "\n",
    "\n",
    "with open(r_cup_datafile, 'rb') as file:\n",
    "    r_cup_data = pkl.load(file)\n",
    "with open(l_cup_datafile, 'rb') as file:\n",
    "    l_cup_data = pkl.load(file)\n",
    "\n",
    "cup_coordinate3D = LEAStereoCoordinate(l_cup_img_dir, cup_disp_path, l_cup_data)\n",
    "cup_model_pos = []\n",
    "for i in cup_coordinate3D.keys():\n",
    "    holder = []\n",
    "    for pos in cup_coordinate3D[i][2:5]:\n",
    "        holder.append([pos['X'], pos['Y'], pos['Z']])\n",
    "    cup_model_pos.append(holder)\n",
    "    \n",
    "cup_model_vect, cup_model_dist = getMeasurements(cup_model_pos)\n",
    "# print([cup_true_dist[i] - cup_model_dist[i] for i in range(len(cup_true_dist))])\n",
    "print('Cup LEAstereo MSE:', mean_squared_error(cup_tb_true_dist, cup_model_dist))\n",
    "\n",
    "xaxis_cup_model_loss = consistency(cup_model_vect[:9])\n",
    "yaxis_cup_model_loss = consistency(cup_model_vect[9:16])\n",
    "diagon_cup_model_loss = consistency(cup_model_vect[16:])\n",
    "print('Cup Axis Model Loss(LEAStereo):', xaxis_cup_model_loss, yaxis_cup_model_loss, diagon_cup_model_loss)"
   ]
  },
  {
   "cell_type": "code",
   "execution_count": null,
   "metadata": {},
   "outputs": [],
   "source": [
    "cup_dlc_pos = []\n",
    "cup3d_path = '../camera-main/videos/{}/{}_make_tea_3D.csv'.format(cup_object_set,cup_object_set)\n",
    "cup3d_csv = pd.read_csv(cup3d_path)\n",
    "part1 = cup3d_csv.iloc[0].tolist()\n",
    "part2 = cup3d_csv.iloc[1].tolist()\n",
    "part3 = cup3d_csv.iloc[2].tolist()\n",
    "\n",
    "new_headers = formHeaders(part1, [part2, part3])\n",
    "new_cup3d_csv = cup3d_csv[3:].copy()\n",
    "new_cup3d_csv.columns = new_headers\n",
    "new_cup3d_csv.reset_index(inplace=True)\n",
    "new_cup3d_csv = new_cup3d_csv.loc[:,['single-cup_h-x', 'single-cup_h-y', 'single-cup_h-z',\n",
    "                                    'single-cup_m-x', 'single-cup_m-y', 'single-cup_m-z',\n",
    "                                    'single-cup_t-x', 'single-cup_t-y', 'single-cup_t-z']]\n",
    "\n",
    "\n",
    "# new_tap3d_csv = new_tap3d_csv.drop(new_tap3d_csv.columns[[0]], axis=1) \n",
    "for i in saved_indices[cup_object_set]:\n",
    "    row = [float(i) for i in new_cup3d_csv.iloc[i].tolist()]\n",
    "    cup_dlc_pos.append([row[:3], row[3:6], row[6:9]])\n",
    "    \n",
    "cup_dlc_vect, cup_dlc_dist = getMeasurements(cup_dlc_pos)\n",
    "scales = np.arange(1.5, 3, 0.05)\n",
    "loss = findError(cup_tb_true_dist, cup_dlc_dist, scales)\n",
    "\n",
    "plt.plot(scales, error)\n",
    "print('Cup Min DLC MSE:', min(error))\n",
    "xaxis_cup_dlc_loss = consistency(cup_dlc_vect[:9])\n",
    "yaxis_cup_dlc_loss = consistency(cup_dlc_vect[9:16])\n",
    "diagon_cup_dlc_loss = consistency(cup_dlc_vect[16:])\n",
    "print('Cup Axis Consistency Loss(DLC):', xaxis_cup_dlc_loss, yaxis_cup_dlc_loss, diagon_cup_dlc_loss)"
   ]
  },
  {
   "cell_type": "markdown",
   "metadata": {},
   "source": [
    "### 3D Trackerlet Plot for Cup using LEAStereo"
   ]
  },
  {
   "cell_type": "code",
   "execution_count": null,
   "metadata": {},
   "outputs": [],
   "source": [
    "cup_model_df = pd.DataFrame(np.array(cup_model_pos).reshape(-1, 3))\n",
    "cup_model_df['time'] = cup_model_df.index\n",
    "fig = px.scatter_3d(cup_model_df,x=0,y=1,z=2,color='time')\n",
    "fig.update_traces(marker=dict(size=3))\n",
    "fig.show()"
   ]
  },
  {
   "cell_type": "markdown",
   "metadata": {},
   "source": [
    "### 3D Trackerlet Plot for Cup using DLC"
   ]
  },
  {
   "cell_type": "code",
   "execution_count": null,
   "metadata": {},
   "outputs": [],
   "source": [
    "cup_dlc_df = pd.DataFrame(np.array(cup_dlc_pos).reshape(-1, 3))\n",
    "cup_dlc_df['time'] = cup_dlc_df.index\n",
    "fig = px.scatter_3d(cup_dlc_df, x=0, y=1, z=2, color='time')\n",
    "fig.update_traces(marker=dict(size=3))\n",
    "fig.show()"
   ]
  },
  {
   "cell_type": "markdown",
   "metadata": {},
   "source": [
    "## Model Comparison over Pitcher"
   ]
  },
  {
   "cell_type": "code",
   "execution_count": 1,
   "metadata": {},
   "outputs": [
    {
     "name": "stdout",
     "output_type": "stream",
     "text": [
      "Loading DLC 2.2.1.1...\n"
     ]
    },
    {
     "name": "stderr",
     "output_type": "stream",
     "text": [
      "/home/ychen/anaconda3/envs/DEEPLABCUT/lib/python3.8/site-packages/deeplabcut/__init__.py:81: UserWarning: \n",
      "        As PyTorch is not installed, unsupervised identity learning will not be available.\n",
      "        Please run `pip install torch`, or ignore this warning.\n",
      "        \n",
      "  warnings.warn(\n"
     ]
    }
   ],
   "source": [
    "import cv2\n",
    "import pandas as pd \n",
    "import ipywidgets as widgets\n",
    "import matplotlib.pyplot as plt\n",
    "import matplotlib.image as mpimg\n",
    "import plotly.express as px\n",
    "import deeplabcut\n",
    "from  triangulation import *\n",
    "\n",
    "from mpl_toolkits.mplot3d import Axes3D\n",
    "from zedStereoUtility import *\n",
    "\n",
    "with open('selected_indices.pkl', 'rb') as file:\n",
    "    saved_indices = pkl.load(file)\n",
    "\n",
    "cup_tb_true_pos = [(0, 0, 0), (1, 0, 0), (2, 0, 0), (3, 0, 0), (4, 0, 0), (5, 0, 0), (6, 0, 0), (7, 0, 0), \n",
    "                   (8, 0, 0), (9, 0, 0), (9, 1, 0), (9, 2, 0), (9, 3, 0), (9, 4, 0), (9, 5, 0), (9, 6, 0), \n",
    "                   (8, 6, 0), (7, 5, 0), (6, 4, 0), (5, 3, 0), (4, 2, 0), (3, 1, 0), (2, 0, 0)]\n",
    "pitcher_true_pos =  [(0, 0, 0), (1, 0, 0), (2, 0, 0), (3, 0, 0), (4, 0, 0), (5, 0, 0), (6, 0, 0), (7, 0, 0), \n",
    "                (7, 1, 0), (7, 2, 0), (7, 3, 0), (7, 4, 0), (6, 3, 0), (5, 2, 0), (4, 1, 0), (3, 0, 0)]"
   ]
  },
  {
   "cell_type": "code",
   "execution_count": 27,
   "metadata": {},
   "outputs": [
    {
     "name": "stderr",
     "output_type": "stream",
     "text": [
      "/home/ychen/Desktop/make_tea/LEAstereo/zedStereoUtility.py:88: RuntimeWarning:\n",
      "\n",
      "divide by zero encountered in double_scalars\n",
      "\n"
     ]
    },
    {
     "name": "stdout",
     "output_type": "stream",
     "text": [
      "Pitcher LEAstereo MSE: 0.21395992049706417\n",
      "Pitcher Axis Consistency Loss(LEAStereo): 0.04478024602485481 0.10589606788376879 0.044393701524836106\n"
     ]
    }
   ],
   "source": [
    "## Getting the coordinate from the dlc folder for now\n",
    "pitcher_object_set = 1642520848\n",
    "l_pitcher_img_dir = './dataset/{}/left/'.format(pitcher_object_set)\n",
    "r_pitcher_img_dir = './dataset/{}/right/'.format(pitcher_object_set)\n",
    "pitcher_disp_path = './dataset/{}/disparity/'.format(pitcher_object_set)\n",
    "\n",
    "l_pitcher_datafile = '../camera-main/videos/{}/{}-leftDLC_dlcrnetms5_make_tea_revised_pitcherJun14shuffle1_50000_full.pickle'.format(pitcher_object_set, pitcher_object_set)\n",
    "r_pitcher_datafile = '../camera-main/videos/{}/{}-rightDLC_dlcrnetms5_make_tea_revised_pitcherJun14shuffle1_50000_full.pickle'.format(pitcher_object_set, pitcher_object_set)\n",
    "\n",
    "with open(r_pitcher_datafile, 'rb') as file:\n",
    "    r_pitcher_data = pkl.load(file)\n",
    "with open(l_pitcher_datafile, 'rb') as file:\n",
    "    l_pitcher_data = pkl.load(file)\n",
    "\n",
    "    \n",
    "pitcher_true_vect = []\n",
    "pitcher_true_dist = []\n",
    "prev = False\n",
    "for pos in pitcher_true_pos:\n",
    "    if prev: pitcher_true_vect.append([pos[i] - prev[i] for i in range(len(pos))])\n",
    "    prev = pos\n",
    "    \n",
    "for vec in pitcher_true_vect:\n",
    "    vec = [GRID_LENGTH*i for i in vec]\n",
    "    pitcher_true_dist.append(distanceCal(*vec))\n",
    "    \n",
    "pitcher_coordinate3D = LEAStereoCoordinate(l_pitcher_img_dir, pitcher_disp_path, l_pitcher_data)\n",
    "\n",
    "# keep only the points that are alway shown in all frames\n",
    "tracked_pitcher_pts = [True for _ in range(4)]\n",
    "for fid, obj_pts in pitcher_coordinate3D.items():\n",
    "    for k, pt in enumerate(obj_pts):\n",
    "        if pt==False:\n",
    "            tracked_pitcher_pts[k] = False      \n",
    "\n",
    "# extract the points from pitcher.\n",
    "pitcher_model_pos = []\n",
    "for i in pitcher_coordinate3D.keys():\n",
    "    holder = []\n",
    "    for p, pos in enumerate(pitcher_coordinate3D[i]):\n",
    "        if p==1:\n",
    "            holder.append([pos['X'], pos['Y'], pos['Z']])\n",
    "    pitcher_model_pos.append(holder)\n",
    "    \n",
    "    \n",
    "pitcher_model_vect, pitcher_model_dist = getMeasurements(pitcher_model_pos)\n",
    "# print([pitcher_true_dist[i] - pitcher_model_dist[i] for i in range(len(pitcher_true_dist))])\n",
    "print('Pitcher LEAstereo MSE:', mean_squared_error(pitcher_true_dist, pitcher_model_dist))\n",
    "\n",
    "xaxis_pitcher_model_loss = consistency(pitcher_model_vect[:7])\n",
    "yaxis_pitcher_model_loss = consistency(pitcher_model_vect[7:11])\n",
    "diagon_pitcher_model_loss = consistency(pitcher_model_vect[11:])\n",
    "print('Pitcher Axis Consistency Loss(LEAStereo):', xaxis_pitcher_model_loss, yaxis_pitcher_model_loss, diagon_pitcher_model_loss)"
   ]
  },
  {
   "cell_type": "code",
   "execution_count": 36,
   "metadata": {},
   "outputs": [
    {
     "data": {
      "text/plain": [
       "[[[4.632152622068839, 0.33133962381282345, -0.4004264919114888]],\n",
       " [[4.7918746511161565, 0.05275892244997138, -0.8887387852759119]],\n",
       " [[5.059386377430593, -0.25349501517031925, 0.0014994189925445767]],\n",
       " [[4.739095596863069, 0.04032214671923029, -0.6480339710983358]],\n",
       " [[4.637760312459453, 0.17509402841233523, -0.3177931018169673]],\n",
       " [[5.2704988230906, -0.0934228291989605, -0.08744979026872102]],\n",
       " [[4.782787721158417, 0.014234560722414358, -0.5593444098984506]],\n",
       " [[-0.5809787376229743, 3.591274730195533, -2.0353760224198325]],\n",
       " [[-0.5269322225649091, 4.23061763283801, -2.8352957031715107]],\n",
       " [[-0.14270191995799664, 3.7832604965258003, -2.250879934580979]],\n",
       " [[0.200832505473155, 3.9818493263014014, -0.9155819377568477]],\n",
       " [[-5.184301146656248, -4.120651822974865, 1.6347658583447284]],\n",
       " [[-4.231062411605251, -3.6362129465869852, 2.1824389086087947]],\n",
       " [[-4.364306606808215, -4.218150177170086, 2.697778172844451]],\n",
       " [[-4.725033604416531, -3.8405798380793534, 3.217268780945389]]]"
      ]
     },
     "execution_count": 36,
     "metadata": {},
     "output_type": "execute_result"
    }
   ],
   "source": [
    "pitcher_model_vect"
   ]
  },
  {
   "cell_type": "code",
   "execution_count": 35,
   "metadata": {},
   "outputs": [
    {
     "data": {
      "text/plain": [
       "[[[8.973503353813896, -1.059597354821598, 4.538986753396188]],\n",
       " [[3.785518683979973, 0.4547618108970042, -2.9154104367597]],\n",
       " [[5.4830854648301965, 0.2045000442380669, -0.8340634383769157]],\n",
       " [[8.692670890523914, -1.026089640598478, 2.593982857900855]],\n",
       " [[7.026757724852402, -0.2573215266907205, 1.049945684695757]],\n",
       " [[5.857006313884398, 0.15174770469713295, -0.9770900489280194]],\n",
       " [[5.688542312081154, -0.02250630954778643, -0.7707463156145451]],\n",
       " [[-6.9122381713977745, 4.611366615494401, -3.919979734425908]],\n",
       " [[-11.370070107463548, 5.8872438813986, -8.139982971318204]],\n",
       " [[-5.230286253490121, 4.698318186472807, -2.7631919074695332]],\n",
       " [[-8.953940491850176, 5.212113034619855, -6.052914185130206]],\n",
       " [[3.255910055023321, -5.38696361399409, 6.821620294448152]],\n",
       " [[-0.7745596875564758, -4.4164169843494445, 2.418948870270654]],\n",
       " [[0.8326522177308391, -4.779829241324098, 3.7546152494264646]],\n",
       " [[6.008755873366752, -6.025805522474126, 10.634240909441559]]]"
      ]
     },
     "execution_count": 35,
     "metadata": {},
     "output_type": "execute_result"
    }
   ],
   "source": [
    "pitcher_dlc_vect"
   ]
  },
  {
   "cell_type": "code",
   "execution_count": 37,
   "metadata": {},
   "outputs": [
    {
     "data": {
      "text/plain": [
       "[10.111820298183718,\n",
       " 4.799643531157202,\n",
       " 5.549928675394186,\n",
       " 9.129300861982195,\n",
       " 7.109425042342214,\n",
       " 5.939886807884196,\n",
       " 5.740563565830489,\n",
       " 9.187490392862163,\n",
       " 15.172259473824317,\n",
       " 7.554158959956692,\n",
       " 11.999039242781016,\n",
       " 9.28196265379931,\n",
       " 5.094702672994911,\n",
       " 6.134917518853431,\n",
       " 13.619932417616452]"
      ]
     },
     "execution_count": 37,
     "metadata": {},
     "output_type": "execute_result"
    }
   ],
   "source": [
    "pitcher_dlc_dist"
   ]
  },
  {
   "cell_type": "code",
   "execution_count": 38,
   "metadata": {},
   "outputs": [
    {
     "name": "stdout",
     "output_type": "stream",
     "text": [
      "Pitcher LEAstereo MSE: 18.872531078671194\n",
      "Pitcher DLC3D MSE: 18.87253107867119\n",
      "Pitcher Axis Consistency Loss(DLC): 1.324675103154159 0.17439497472552248 0.6833519947626949\n"
     ]
    }
   ],
   "source": [
    "pitcher_dlc_pos = []\n",
    "pitcher3d_path = '../camera-main/videos/{}/{}_pitcher3d.csv'.format(pitcher_object_set, pitcher_object_set)\n",
    "pitcher3d_csv = pd.read_csv(pitcher3d_path)\n",
    "part1 = pitcher3d_csv.iloc[0].tolist()\n",
    "part2 = pitcher3d_csv.iloc[1].tolist()\n",
    "part3 = pitcher3d_csv.iloc[2].tolist()\n",
    "\n",
    "new_headers = formHeaders(part1, [part2, part3])\n",
    "new_pitcher3d_csv = pitcher3d_csv[3:].copy()\n",
    "new_pitcher3d_csv.columns = new_headers\n",
    "\n",
    "new_pitcher3d_csv.reset_index(inplace=True)\n",
    "new_pitcher3d_csv = new_pitcher3d_csv.loc[:,['pitcher-tip-x', 'pitcher-tip-y', 'pitcher-tip-z',\n",
    "                                             'pitcher-top_handle_inner-x', 'pitcher-top_handle_inner-y', 'pitcher-top_handle_inner-z',\n",
    "                                             'pitcher-top_handle_outer-x', 'pitcher-top_handle_outer-y', 'pitcher-top_handle_outer-z',\n",
    "                                             'pitcher-bottom_handle_outer-x', 'pitcher-bottom_handle_outer-y', 'pitcher-bottom_handle_outer-z']]\n",
    "for i in saved_indices[pitcher_object_set]:\n",
    "    row = [float(i) for i in new_pitcher3d_csv.iloc[i].tolist()]\n",
    "    pitcher_dlc_pos.append([[j/10 for j in row[3:6]]])\n",
    "    \n",
    "pitcher_dlc_vect, pitcher_dlc_dist = getMeasurements(pitcher_dlc_pos)\n",
    "\n",
    "print('Pitcher LEAstereo MSE:', mean_squared_error(pitcher_true_dist, pitcher_dlc_dist))\n",
    "print('Pitcher DLC3D MSE:', min(error))\n",
    "\n",
    "xaxis_dlc_loss = consistency(pitcher_dlc_vect[:7])\n",
    "yaxis_dlc_loss = consistency(pitcher_dlc_vect[7:11])\n",
    "diagonal_dlc_loss = consistency(pitcher_dlc_vect[11:])\n",
    "print('Pitcher Axis Consistency Loss(DLC):', xaxis_dlc_loss, yaxis_dlc_loss, diagonal_dlc_loss)"
   ]
  },
  {
   "cell_type": "markdown",
   "metadata": {},
   "source": [
    "### 3D Trackerlet Plot for Pitcher using LEAStereo"
   ]
  },
  {
   "cell_type": "code",
   "execution_count": 39,
   "metadata": {},
   "outputs": [
    {
     "data": {
      "application/vnd.plotly.v1+json": {
       "config": {
        "plotlyServerURL": "https://plot.ly"
       },
       "data": [
        {
         "hovertemplate": "0=%{x}<br>1=%{y}<br>2=%{z}<br>time=%{marker.color}<extra></extra>",
         "legendgroup": "",
         "marker": {
          "color": [
           0,
           1,
           2,
           3,
           4,
           5,
           6,
           7,
           8,
           9,
           10,
           11,
           12,
           13,
           14,
           15
          ],
          "coloraxis": "coloraxis",
          "size": 3,
          "symbol": "circle"
         },
         "mode": "markers",
         "name": "",
         "scene": "scene",
         "showlegend": false,
         "type": "scatter3d",
         "x": [
          -12.712601129089217,
          -8.080448507020378,
          -3.2885738559042212,
          1.7708125215263717,
          6.509908118389441,
          11.147668430848894,
          16.418167253939494,
          21.20095497509791,
          20.619976237474937,
          20.093044014910028,
          19.95034209495203,
          20.151174600425186,
          14.966873453768939,
          10.735811042163688,
          6.371504435355472,
          1.6464708309389415
         ],
         "y": [
          -22.39224665885258,
          -22.060907035039758,
          -22.008148112589787,
          -22.261643127760106,
          -22.221320981040876,
          -22.04622695262854,
          -22.1396497818275,
          -22.125415221105087,
          -18.534140490909554,
          -14.303522858071544,
          -10.520262361545743,
          -6.538413035244342,
          -10.659064858219207,
          -14.295277804806192,
          -18.513427981976278,
          -22.35400782005563
         ],
         "z": [
          64.53097019842242,
          64.13054370651093,
          63.24180492123502,
          63.24330434022757,
          62.59527036912923,
          62.277477267312264,
          62.19002747704354,
          61.63068306714509,
          59.59530704472526,
          56.76001134155375,
          54.50913140697277,
          53.59354946921592,
          55.22831532756065,
          57.410754236169446,
          60.1085324090139,
          63.325801189959286
         ]
        }
       ],
       "layout": {
        "coloraxis": {
         "colorbar": {
          "title": {
           "text": "time"
          }
         },
         "colorscale": [
          [
           0,
           "#0d0887"
          ],
          [
           0.1111111111111111,
           "#46039f"
          ],
          [
           0.2222222222222222,
           "#7201a8"
          ],
          [
           0.3333333333333333,
           "#9c179e"
          ],
          [
           0.4444444444444444,
           "#bd3786"
          ],
          [
           0.5555555555555556,
           "#d8576b"
          ],
          [
           0.6666666666666666,
           "#ed7953"
          ],
          [
           0.7777777777777778,
           "#fb9f3a"
          ],
          [
           0.8888888888888888,
           "#fdca26"
          ],
          [
           1,
           "#f0f921"
          ]
         ]
        },
        "legend": {
         "tracegroupgap": 0
        },
        "margin": {
         "t": 60
        },
        "scene": {
         "domain": {
          "x": [
           0,
           1
          ],
          "y": [
           0,
           1
          ]
         },
         "xaxis": {
          "title": {
           "text": "0"
          }
         },
         "yaxis": {
          "title": {
           "text": "1"
          }
         },
         "zaxis": {
          "title": {
           "text": "2"
          }
         }
        },
        "template": {
         "data": {
          "bar": [
           {
            "error_x": {
             "color": "#2a3f5f"
            },
            "error_y": {
             "color": "#2a3f5f"
            },
            "marker": {
             "line": {
              "color": "#E5ECF6",
              "width": 0.5
             },
             "pattern": {
              "fillmode": "overlay",
              "size": 10,
              "solidity": 0.2
             }
            },
            "type": "bar"
           }
          ],
          "barpolar": [
           {
            "marker": {
             "line": {
              "color": "#E5ECF6",
              "width": 0.5
             },
             "pattern": {
              "fillmode": "overlay",
              "size": 10,
              "solidity": 0.2
             }
            },
            "type": "barpolar"
           }
          ],
          "carpet": [
           {
            "aaxis": {
             "endlinecolor": "#2a3f5f",
             "gridcolor": "white",
             "linecolor": "white",
             "minorgridcolor": "white",
             "startlinecolor": "#2a3f5f"
            },
            "baxis": {
             "endlinecolor": "#2a3f5f",
             "gridcolor": "white",
             "linecolor": "white",
             "minorgridcolor": "white",
             "startlinecolor": "#2a3f5f"
            },
            "type": "carpet"
           }
          ],
          "choropleth": [
           {
            "colorbar": {
             "outlinewidth": 0,
             "ticks": ""
            },
            "type": "choropleth"
           }
          ],
          "contour": [
           {
            "colorbar": {
             "outlinewidth": 0,
             "ticks": ""
            },
            "colorscale": [
             [
              0,
              "#0d0887"
             ],
             [
              0.1111111111111111,
              "#46039f"
             ],
             [
              0.2222222222222222,
              "#7201a8"
             ],
             [
              0.3333333333333333,
              "#9c179e"
             ],
             [
              0.4444444444444444,
              "#bd3786"
             ],
             [
              0.5555555555555556,
              "#d8576b"
             ],
             [
              0.6666666666666666,
              "#ed7953"
             ],
             [
              0.7777777777777778,
              "#fb9f3a"
             ],
             [
              0.8888888888888888,
              "#fdca26"
             ],
             [
              1,
              "#f0f921"
             ]
            ],
            "type": "contour"
           }
          ],
          "contourcarpet": [
           {
            "colorbar": {
             "outlinewidth": 0,
             "ticks": ""
            },
            "type": "contourcarpet"
           }
          ],
          "heatmap": [
           {
            "colorbar": {
             "outlinewidth": 0,
             "ticks": ""
            },
            "colorscale": [
             [
              0,
              "#0d0887"
             ],
             [
              0.1111111111111111,
              "#46039f"
             ],
             [
              0.2222222222222222,
              "#7201a8"
             ],
             [
              0.3333333333333333,
              "#9c179e"
             ],
             [
              0.4444444444444444,
              "#bd3786"
             ],
             [
              0.5555555555555556,
              "#d8576b"
             ],
             [
              0.6666666666666666,
              "#ed7953"
             ],
             [
              0.7777777777777778,
              "#fb9f3a"
             ],
             [
              0.8888888888888888,
              "#fdca26"
             ],
             [
              1,
              "#f0f921"
             ]
            ],
            "type": "heatmap"
           }
          ],
          "heatmapgl": [
           {
            "colorbar": {
             "outlinewidth": 0,
             "ticks": ""
            },
            "colorscale": [
             [
              0,
              "#0d0887"
             ],
             [
              0.1111111111111111,
              "#46039f"
             ],
             [
              0.2222222222222222,
              "#7201a8"
             ],
             [
              0.3333333333333333,
              "#9c179e"
             ],
             [
              0.4444444444444444,
              "#bd3786"
             ],
             [
              0.5555555555555556,
              "#d8576b"
             ],
             [
              0.6666666666666666,
              "#ed7953"
             ],
             [
              0.7777777777777778,
              "#fb9f3a"
             ],
             [
              0.8888888888888888,
              "#fdca26"
             ],
             [
              1,
              "#f0f921"
             ]
            ],
            "type": "heatmapgl"
           }
          ],
          "histogram": [
           {
            "marker": {
             "pattern": {
              "fillmode": "overlay",
              "size": 10,
              "solidity": 0.2
             }
            },
            "type": "histogram"
           }
          ],
          "histogram2d": [
           {
            "colorbar": {
             "outlinewidth": 0,
             "ticks": ""
            },
            "colorscale": [
             [
              0,
              "#0d0887"
             ],
             [
              0.1111111111111111,
              "#46039f"
             ],
             [
              0.2222222222222222,
              "#7201a8"
             ],
             [
              0.3333333333333333,
              "#9c179e"
             ],
             [
              0.4444444444444444,
              "#bd3786"
             ],
             [
              0.5555555555555556,
              "#d8576b"
             ],
             [
              0.6666666666666666,
              "#ed7953"
             ],
             [
              0.7777777777777778,
              "#fb9f3a"
             ],
             [
              0.8888888888888888,
              "#fdca26"
             ],
             [
              1,
              "#f0f921"
             ]
            ],
            "type": "histogram2d"
           }
          ],
          "histogram2dcontour": [
           {
            "colorbar": {
             "outlinewidth": 0,
             "ticks": ""
            },
            "colorscale": [
             [
              0,
              "#0d0887"
             ],
             [
              0.1111111111111111,
              "#46039f"
             ],
             [
              0.2222222222222222,
              "#7201a8"
             ],
             [
              0.3333333333333333,
              "#9c179e"
             ],
             [
              0.4444444444444444,
              "#bd3786"
             ],
             [
              0.5555555555555556,
              "#d8576b"
             ],
             [
              0.6666666666666666,
              "#ed7953"
             ],
             [
              0.7777777777777778,
              "#fb9f3a"
             ],
             [
              0.8888888888888888,
              "#fdca26"
             ],
             [
              1,
              "#f0f921"
             ]
            ],
            "type": "histogram2dcontour"
           }
          ],
          "mesh3d": [
           {
            "colorbar": {
             "outlinewidth": 0,
             "ticks": ""
            },
            "type": "mesh3d"
           }
          ],
          "parcoords": [
           {
            "line": {
             "colorbar": {
              "outlinewidth": 0,
              "ticks": ""
             }
            },
            "type": "parcoords"
           }
          ],
          "pie": [
           {
            "automargin": true,
            "type": "pie"
           }
          ],
          "scatter": [
           {
            "marker": {
             "colorbar": {
              "outlinewidth": 0,
              "ticks": ""
             }
            },
            "type": "scatter"
           }
          ],
          "scatter3d": [
           {
            "line": {
             "colorbar": {
              "outlinewidth": 0,
              "ticks": ""
             }
            },
            "marker": {
             "colorbar": {
              "outlinewidth": 0,
              "ticks": ""
             }
            },
            "type": "scatter3d"
           }
          ],
          "scattercarpet": [
           {
            "marker": {
             "colorbar": {
              "outlinewidth": 0,
              "ticks": ""
             }
            },
            "type": "scattercarpet"
           }
          ],
          "scattergeo": [
           {
            "marker": {
             "colorbar": {
              "outlinewidth": 0,
              "ticks": ""
             }
            },
            "type": "scattergeo"
           }
          ],
          "scattergl": [
           {
            "marker": {
             "colorbar": {
              "outlinewidth": 0,
              "ticks": ""
             }
            },
            "type": "scattergl"
           }
          ],
          "scattermapbox": [
           {
            "marker": {
             "colorbar": {
              "outlinewidth": 0,
              "ticks": ""
             }
            },
            "type": "scattermapbox"
           }
          ],
          "scatterpolar": [
           {
            "marker": {
             "colorbar": {
              "outlinewidth": 0,
              "ticks": ""
             }
            },
            "type": "scatterpolar"
           }
          ],
          "scatterpolargl": [
           {
            "marker": {
             "colorbar": {
              "outlinewidth": 0,
              "ticks": ""
             }
            },
            "type": "scatterpolargl"
           }
          ],
          "scatterternary": [
           {
            "marker": {
             "colorbar": {
              "outlinewidth": 0,
              "ticks": ""
             }
            },
            "type": "scatterternary"
           }
          ],
          "surface": [
           {
            "colorbar": {
             "outlinewidth": 0,
             "ticks": ""
            },
            "colorscale": [
             [
              0,
              "#0d0887"
             ],
             [
              0.1111111111111111,
              "#46039f"
             ],
             [
              0.2222222222222222,
              "#7201a8"
             ],
             [
              0.3333333333333333,
              "#9c179e"
             ],
             [
              0.4444444444444444,
              "#bd3786"
             ],
             [
              0.5555555555555556,
              "#d8576b"
             ],
             [
              0.6666666666666666,
              "#ed7953"
             ],
             [
              0.7777777777777778,
              "#fb9f3a"
             ],
             [
              0.8888888888888888,
              "#fdca26"
             ],
             [
              1,
              "#f0f921"
             ]
            ],
            "type": "surface"
           }
          ],
          "table": [
           {
            "cells": {
             "fill": {
              "color": "#EBF0F8"
             },
             "line": {
              "color": "white"
             }
            },
            "header": {
             "fill": {
              "color": "#C8D4E3"
             },
             "line": {
              "color": "white"
             }
            },
            "type": "table"
           }
          ]
         },
         "layout": {
          "annotationdefaults": {
           "arrowcolor": "#2a3f5f",
           "arrowhead": 0,
           "arrowwidth": 1
          },
          "autotypenumbers": "strict",
          "coloraxis": {
           "colorbar": {
            "outlinewidth": 0,
            "ticks": ""
           }
          },
          "colorscale": {
           "diverging": [
            [
             0,
             "#8e0152"
            ],
            [
             0.1,
             "#c51b7d"
            ],
            [
             0.2,
             "#de77ae"
            ],
            [
             0.3,
             "#f1b6da"
            ],
            [
             0.4,
             "#fde0ef"
            ],
            [
             0.5,
             "#f7f7f7"
            ],
            [
             0.6,
             "#e6f5d0"
            ],
            [
             0.7,
             "#b8e186"
            ],
            [
             0.8,
             "#7fbc41"
            ],
            [
             0.9,
             "#4d9221"
            ],
            [
             1,
             "#276419"
            ]
           ],
           "sequential": [
            [
             0,
             "#0d0887"
            ],
            [
             0.1111111111111111,
             "#46039f"
            ],
            [
             0.2222222222222222,
             "#7201a8"
            ],
            [
             0.3333333333333333,
             "#9c179e"
            ],
            [
             0.4444444444444444,
             "#bd3786"
            ],
            [
             0.5555555555555556,
             "#d8576b"
            ],
            [
             0.6666666666666666,
             "#ed7953"
            ],
            [
             0.7777777777777778,
             "#fb9f3a"
            ],
            [
             0.8888888888888888,
             "#fdca26"
            ],
            [
             1,
             "#f0f921"
            ]
           ],
           "sequentialminus": [
            [
             0,
             "#0d0887"
            ],
            [
             0.1111111111111111,
             "#46039f"
            ],
            [
             0.2222222222222222,
             "#7201a8"
            ],
            [
             0.3333333333333333,
             "#9c179e"
            ],
            [
             0.4444444444444444,
             "#bd3786"
            ],
            [
             0.5555555555555556,
             "#d8576b"
            ],
            [
             0.6666666666666666,
             "#ed7953"
            ],
            [
             0.7777777777777778,
             "#fb9f3a"
            ],
            [
             0.8888888888888888,
             "#fdca26"
            ],
            [
             1,
             "#f0f921"
            ]
           ]
          },
          "colorway": [
           "#636efa",
           "#EF553B",
           "#00cc96",
           "#ab63fa",
           "#FFA15A",
           "#19d3f3",
           "#FF6692",
           "#B6E880",
           "#FF97FF",
           "#FECB52"
          ],
          "font": {
           "color": "#2a3f5f"
          },
          "geo": {
           "bgcolor": "white",
           "lakecolor": "white",
           "landcolor": "#E5ECF6",
           "showlakes": true,
           "showland": true,
           "subunitcolor": "white"
          },
          "hoverlabel": {
           "align": "left"
          },
          "hovermode": "closest",
          "mapbox": {
           "style": "light"
          },
          "paper_bgcolor": "white",
          "plot_bgcolor": "#E5ECF6",
          "polar": {
           "angularaxis": {
            "gridcolor": "white",
            "linecolor": "white",
            "ticks": ""
           },
           "bgcolor": "#E5ECF6",
           "radialaxis": {
            "gridcolor": "white",
            "linecolor": "white",
            "ticks": ""
           }
          },
          "scene": {
           "xaxis": {
            "backgroundcolor": "#E5ECF6",
            "gridcolor": "white",
            "gridwidth": 2,
            "linecolor": "white",
            "showbackground": true,
            "ticks": "",
            "zerolinecolor": "white"
           },
           "yaxis": {
            "backgroundcolor": "#E5ECF6",
            "gridcolor": "white",
            "gridwidth": 2,
            "linecolor": "white",
            "showbackground": true,
            "ticks": "",
            "zerolinecolor": "white"
           },
           "zaxis": {
            "backgroundcolor": "#E5ECF6",
            "gridcolor": "white",
            "gridwidth": 2,
            "linecolor": "white",
            "showbackground": true,
            "ticks": "",
            "zerolinecolor": "white"
           }
          },
          "shapedefaults": {
           "line": {
            "color": "#2a3f5f"
           }
          },
          "ternary": {
           "aaxis": {
            "gridcolor": "white",
            "linecolor": "white",
            "ticks": ""
           },
           "baxis": {
            "gridcolor": "white",
            "linecolor": "white",
            "ticks": ""
           },
           "bgcolor": "#E5ECF6",
           "caxis": {
            "gridcolor": "white",
            "linecolor": "white",
            "ticks": ""
           }
          },
          "title": {
           "x": 0.05
          },
          "xaxis": {
           "automargin": true,
           "gridcolor": "white",
           "linecolor": "white",
           "ticks": "",
           "title": {
            "standoff": 15
           },
           "zerolinecolor": "white",
           "zerolinewidth": 2
          },
          "yaxis": {
           "automargin": true,
           "gridcolor": "white",
           "linecolor": "white",
           "ticks": "",
           "title": {
            "standoff": 15
           },
           "zerolinecolor": "white",
           "zerolinewidth": 2
          }
         }
        }
       }
      },
      "text/html": [
       "<div>                            <div id=\"9e356622-2c4e-4509-8457-9bcb8529acb7\" class=\"plotly-graph-div\" style=\"height:525px; width:100%;\"></div>            <script type=\"text/javascript\">                require([\"plotly\"], function(Plotly) {                    window.PLOTLYENV=window.PLOTLYENV || {};                                    if (document.getElementById(\"9e356622-2c4e-4509-8457-9bcb8529acb7\")) {                    Plotly.newPlot(                        \"9e356622-2c4e-4509-8457-9bcb8529acb7\",                        [{\"hovertemplate\":\"0=%{x}<br>1=%{y}<br>2=%{z}<br>time=%{marker.color}<extra></extra>\",\"legendgroup\":\"\",\"marker\":{\"color\":[0,1,2,3,4,5,6,7,8,9,10,11,12,13,14,15],\"coloraxis\":\"coloraxis\",\"symbol\":\"circle\",\"size\":3},\"mode\":\"markers\",\"name\":\"\",\"scene\":\"scene\",\"showlegend\":false,\"x\":[-12.712601129089217,-8.080448507020378,-3.2885738559042212,1.7708125215263717,6.509908118389441,11.147668430848894,16.418167253939494,21.20095497509791,20.619976237474937,20.093044014910028,19.95034209495203,20.151174600425186,14.966873453768939,10.735811042163688,6.371504435355472,1.6464708309389415],\"y\":[-22.39224665885258,-22.060907035039758,-22.008148112589787,-22.261643127760106,-22.221320981040876,-22.04622695262854,-22.1396497818275,-22.125415221105087,-18.534140490909554,-14.303522858071544,-10.520262361545743,-6.538413035244342,-10.659064858219207,-14.295277804806192,-18.513427981976278,-22.35400782005563],\"z\":[64.53097019842242,64.13054370651093,63.24180492123502,63.24330434022757,62.59527036912923,62.277477267312264,62.19002747704354,61.63068306714509,59.59530704472526,56.76001134155375,54.50913140697277,53.59354946921592,55.22831532756065,57.410754236169446,60.1085324090139,63.325801189959286],\"type\":\"scatter3d\"}],                        {\"template\":{\"data\":{\"bar\":[{\"error_x\":{\"color\":\"#2a3f5f\"},\"error_y\":{\"color\":\"#2a3f5f\"},\"marker\":{\"line\":{\"color\":\"#E5ECF6\",\"width\":0.5},\"pattern\":{\"fillmode\":\"overlay\",\"size\":10,\"solidity\":0.2}},\"type\":\"bar\"}],\"barpolar\":[{\"marker\":{\"line\":{\"color\":\"#E5ECF6\",\"width\":0.5},\"pattern\":{\"fillmode\":\"overlay\",\"size\":10,\"solidity\":0.2}},\"type\":\"barpolar\"}],\"carpet\":[{\"aaxis\":{\"endlinecolor\":\"#2a3f5f\",\"gridcolor\":\"white\",\"linecolor\":\"white\",\"minorgridcolor\":\"white\",\"startlinecolor\":\"#2a3f5f\"},\"baxis\":{\"endlinecolor\":\"#2a3f5f\",\"gridcolor\":\"white\",\"linecolor\":\"white\",\"minorgridcolor\":\"white\",\"startlinecolor\":\"#2a3f5f\"},\"type\":\"carpet\"}],\"choropleth\":[{\"colorbar\":{\"outlinewidth\":0,\"ticks\":\"\"},\"type\":\"choropleth\"}],\"contour\":[{\"colorbar\":{\"outlinewidth\":0,\"ticks\":\"\"},\"colorscale\":[[0.0,\"#0d0887\"],[0.1111111111111111,\"#46039f\"],[0.2222222222222222,\"#7201a8\"],[0.3333333333333333,\"#9c179e\"],[0.4444444444444444,\"#bd3786\"],[0.5555555555555556,\"#d8576b\"],[0.6666666666666666,\"#ed7953\"],[0.7777777777777778,\"#fb9f3a\"],[0.8888888888888888,\"#fdca26\"],[1.0,\"#f0f921\"]],\"type\":\"contour\"}],\"contourcarpet\":[{\"colorbar\":{\"outlinewidth\":0,\"ticks\":\"\"},\"type\":\"contourcarpet\"}],\"heatmap\":[{\"colorbar\":{\"outlinewidth\":0,\"ticks\":\"\"},\"colorscale\":[[0.0,\"#0d0887\"],[0.1111111111111111,\"#46039f\"],[0.2222222222222222,\"#7201a8\"],[0.3333333333333333,\"#9c179e\"],[0.4444444444444444,\"#bd3786\"],[0.5555555555555556,\"#d8576b\"],[0.6666666666666666,\"#ed7953\"],[0.7777777777777778,\"#fb9f3a\"],[0.8888888888888888,\"#fdca26\"],[1.0,\"#f0f921\"]],\"type\":\"heatmap\"}],\"heatmapgl\":[{\"colorbar\":{\"outlinewidth\":0,\"ticks\":\"\"},\"colorscale\":[[0.0,\"#0d0887\"],[0.1111111111111111,\"#46039f\"],[0.2222222222222222,\"#7201a8\"],[0.3333333333333333,\"#9c179e\"],[0.4444444444444444,\"#bd3786\"],[0.5555555555555556,\"#d8576b\"],[0.6666666666666666,\"#ed7953\"],[0.7777777777777778,\"#fb9f3a\"],[0.8888888888888888,\"#fdca26\"],[1.0,\"#f0f921\"]],\"type\":\"heatmapgl\"}],\"histogram\":[{\"marker\":{\"pattern\":{\"fillmode\":\"overlay\",\"size\":10,\"solidity\":0.2}},\"type\":\"histogram\"}],\"histogram2d\":[{\"colorbar\":{\"outlinewidth\":0,\"ticks\":\"\"},\"colorscale\":[[0.0,\"#0d0887\"],[0.1111111111111111,\"#46039f\"],[0.2222222222222222,\"#7201a8\"],[0.3333333333333333,\"#9c179e\"],[0.4444444444444444,\"#bd3786\"],[0.5555555555555556,\"#d8576b\"],[0.6666666666666666,\"#ed7953\"],[0.7777777777777778,\"#fb9f3a\"],[0.8888888888888888,\"#fdca26\"],[1.0,\"#f0f921\"]],\"type\":\"histogram2d\"}],\"histogram2dcontour\":[{\"colorbar\":{\"outlinewidth\":0,\"ticks\":\"\"},\"colorscale\":[[0.0,\"#0d0887\"],[0.1111111111111111,\"#46039f\"],[0.2222222222222222,\"#7201a8\"],[0.3333333333333333,\"#9c179e\"],[0.4444444444444444,\"#bd3786\"],[0.5555555555555556,\"#d8576b\"],[0.6666666666666666,\"#ed7953\"],[0.7777777777777778,\"#fb9f3a\"],[0.8888888888888888,\"#fdca26\"],[1.0,\"#f0f921\"]],\"type\":\"histogram2dcontour\"}],\"mesh3d\":[{\"colorbar\":{\"outlinewidth\":0,\"ticks\":\"\"},\"type\":\"mesh3d\"}],\"parcoords\":[{\"line\":{\"colorbar\":{\"outlinewidth\":0,\"ticks\":\"\"}},\"type\":\"parcoords\"}],\"pie\":[{\"automargin\":true,\"type\":\"pie\"}],\"scatter\":[{\"marker\":{\"colorbar\":{\"outlinewidth\":0,\"ticks\":\"\"}},\"type\":\"scatter\"}],\"scatter3d\":[{\"line\":{\"colorbar\":{\"outlinewidth\":0,\"ticks\":\"\"}},\"marker\":{\"colorbar\":{\"outlinewidth\":0,\"ticks\":\"\"}},\"type\":\"scatter3d\"}],\"scattercarpet\":[{\"marker\":{\"colorbar\":{\"outlinewidth\":0,\"ticks\":\"\"}},\"type\":\"scattercarpet\"}],\"scattergeo\":[{\"marker\":{\"colorbar\":{\"outlinewidth\":0,\"ticks\":\"\"}},\"type\":\"scattergeo\"}],\"scattergl\":[{\"marker\":{\"colorbar\":{\"outlinewidth\":0,\"ticks\":\"\"}},\"type\":\"scattergl\"}],\"scattermapbox\":[{\"marker\":{\"colorbar\":{\"outlinewidth\":0,\"ticks\":\"\"}},\"type\":\"scattermapbox\"}],\"scatterpolar\":[{\"marker\":{\"colorbar\":{\"outlinewidth\":0,\"ticks\":\"\"}},\"type\":\"scatterpolar\"}],\"scatterpolargl\":[{\"marker\":{\"colorbar\":{\"outlinewidth\":0,\"ticks\":\"\"}},\"type\":\"scatterpolargl\"}],\"scatterternary\":[{\"marker\":{\"colorbar\":{\"outlinewidth\":0,\"ticks\":\"\"}},\"type\":\"scatterternary\"}],\"surface\":[{\"colorbar\":{\"outlinewidth\":0,\"ticks\":\"\"},\"colorscale\":[[0.0,\"#0d0887\"],[0.1111111111111111,\"#46039f\"],[0.2222222222222222,\"#7201a8\"],[0.3333333333333333,\"#9c179e\"],[0.4444444444444444,\"#bd3786\"],[0.5555555555555556,\"#d8576b\"],[0.6666666666666666,\"#ed7953\"],[0.7777777777777778,\"#fb9f3a\"],[0.8888888888888888,\"#fdca26\"],[1.0,\"#f0f921\"]],\"type\":\"surface\"}],\"table\":[{\"cells\":{\"fill\":{\"color\":\"#EBF0F8\"},\"line\":{\"color\":\"white\"}},\"header\":{\"fill\":{\"color\":\"#C8D4E3\"},\"line\":{\"color\":\"white\"}},\"type\":\"table\"}]},\"layout\":{\"annotationdefaults\":{\"arrowcolor\":\"#2a3f5f\",\"arrowhead\":0,\"arrowwidth\":1},\"autotypenumbers\":\"strict\",\"coloraxis\":{\"colorbar\":{\"outlinewidth\":0,\"ticks\":\"\"}},\"colorscale\":{\"diverging\":[[0,\"#8e0152\"],[0.1,\"#c51b7d\"],[0.2,\"#de77ae\"],[0.3,\"#f1b6da\"],[0.4,\"#fde0ef\"],[0.5,\"#f7f7f7\"],[0.6,\"#e6f5d0\"],[0.7,\"#b8e186\"],[0.8,\"#7fbc41\"],[0.9,\"#4d9221\"],[1,\"#276419\"]],\"sequential\":[[0.0,\"#0d0887\"],[0.1111111111111111,\"#46039f\"],[0.2222222222222222,\"#7201a8\"],[0.3333333333333333,\"#9c179e\"],[0.4444444444444444,\"#bd3786\"],[0.5555555555555556,\"#d8576b\"],[0.6666666666666666,\"#ed7953\"],[0.7777777777777778,\"#fb9f3a\"],[0.8888888888888888,\"#fdca26\"],[1.0,\"#f0f921\"]],\"sequentialminus\":[[0.0,\"#0d0887\"],[0.1111111111111111,\"#46039f\"],[0.2222222222222222,\"#7201a8\"],[0.3333333333333333,\"#9c179e\"],[0.4444444444444444,\"#bd3786\"],[0.5555555555555556,\"#d8576b\"],[0.6666666666666666,\"#ed7953\"],[0.7777777777777778,\"#fb9f3a\"],[0.8888888888888888,\"#fdca26\"],[1.0,\"#f0f921\"]]},\"colorway\":[\"#636efa\",\"#EF553B\",\"#00cc96\",\"#ab63fa\",\"#FFA15A\",\"#19d3f3\",\"#FF6692\",\"#B6E880\",\"#FF97FF\",\"#FECB52\"],\"font\":{\"color\":\"#2a3f5f\"},\"geo\":{\"bgcolor\":\"white\",\"lakecolor\":\"white\",\"landcolor\":\"#E5ECF6\",\"showlakes\":true,\"showland\":true,\"subunitcolor\":\"white\"},\"hoverlabel\":{\"align\":\"left\"},\"hovermode\":\"closest\",\"mapbox\":{\"style\":\"light\"},\"paper_bgcolor\":\"white\",\"plot_bgcolor\":\"#E5ECF6\",\"polar\":{\"angularaxis\":{\"gridcolor\":\"white\",\"linecolor\":\"white\",\"ticks\":\"\"},\"bgcolor\":\"#E5ECF6\",\"radialaxis\":{\"gridcolor\":\"white\",\"linecolor\":\"white\",\"ticks\":\"\"}},\"scene\":{\"xaxis\":{\"backgroundcolor\":\"#E5ECF6\",\"gridcolor\":\"white\",\"gridwidth\":2,\"linecolor\":\"white\",\"showbackground\":true,\"ticks\":\"\",\"zerolinecolor\":\"white\"},\"yaxis\":{\"backgroundcolor\":\"#E5ECF6\",\"gridcolor\":\"white\",\"gridwidth\":2,\"linecolor\":\"white\",\"showbackground\":true,\"ticks\":\"\",\"zerolinecolor\":\"white\"},\"zaxis\":{\"backgroundcolor\":\"#E5ECF6\",\"gridcolor\":\"white\",\"gridwidth\":2,\"linecolor\":\"white\",\"showbackground\":true,\"ticks\":\"\",\"zerolinecolor\":\"white\"}},\"shapedefaults\":{\"line\":{\"color\":\"#2a3f5f\"}},\"ternary\":{\"aaxis\":{\"gridcolor\":\"white\",\"linecolor\":\"white\",\"ticks\":\"\"},\"baxis\":{\"gridcolor\":\"white\",\"linecolor\":\"white\",\"ticks\":\"\"},\"bgcolor\":\"#E5ECF6\",\"caxis\":{\"gridcolor\":\"white\",\"linecolor\":\"white\",\"ticks\":\"\"}},\"title\":{\"x\":0.05},\"xaxis\":{\"automargin\":true,\"gridcolor\":\"white\",\"linecolor\":\"white\",\"ticks\":\"\",\"title\":{\"standoff\":15},\"zerolinecolor\":\"white\",\"zerolinewidth\":2},\"yaxis\":{\"automargin\":true,\"gridcolor\":\"white\",\"linecolor\":\"white\",\"ticks\":\"\",\"title\":{\"standoff\":15},\"zerolinecolor\":\"white\",\"zerolinewidth\":2}}},\"scene\":{\"domain\":{\"x\":[0.0,1.0],\"y\":[0.0,1.0]},\"xaxis\":{\"title\":{\"text\":\"0\"}},\"yaxis\":{\"title\":{\"text\":\"1\"}},\"zaxis\":{\"title\":{\"text\":\"2\"}}},\"coloraxis\":{\"colorbar\":{\"title\":{\"text\":\"time\"}},\"colorscale\":[[0.0,\"#0d0887\"],[0.1111111111111111,\"#46039f\"],[0.2222222222222222,\"#7201a8\"],[0.3333333333333333,\"#9c179e\"],[0.4444444444444444,\"#bd3786\"],[0.5555555555555556,\"#d8576b\"],[0.6666666666666666,\"#ed7953\"],[0.7777777777777778,\"#fb9f3a\"],[0.8888888888888888,\"#fdca26\"],[1.0,\"#f0f921\"]]},\"legend\":{\"tracegroupgap\":0},\"margin\":{\"t\":60}},                        {\"responsive\": true}                    ).then(function(){\n",
       "                            \n",
       "var gd = document.getElementById('9e356622-2c4e-4509-8457-9bcb8529acb7');\n",
       "var x = new MutationObserver(function (mutations, observer) {{\n",
       "        var display = window.getComputedStyle(gd).display;\n",
       "        if (!display || display === 'none') {{\n",
       "            console.log([gd, 'removed!']);\n",
       "            Plotly.purge(gd);\n",
       "            observer.disconnect();\n",
       "        }}\n",
       "}});\n",
       "\n",
       "// Listen for the removal of the full notebook cells\n",
       "var notebookContainer = gd.closest('#notebook-container');\n",
       "if (notebookContainer) {{\n",
       "    x.observe(notebookContainer, {childList: true});\n",
       "}}\n",
       "\n",
       "// Listen for the clearing of the current output cell\n",
       "var outputEl = gd.closest('.output');\n",
       "if (outputEl) {{\n",
       "    x.observe(outputEl, {childList: true});\n",
       "}}\n",
       "\n",
       "                        })                };                });            </script>        </div>"
      ]
     },
     "metadata": {},
     "output_type": "display_data"
    }
   ],
   "source": [
    "import plotly.express as px\n",
    "pitcher_model_df = pd.DataFrame(np.array(pitcher_model_pos).reshape(-1, 3))\n",
    "pitcher_model_df['time'] = pitcher_model_df.index\n",
    "fig = px.scatter_3d(pitcher_model_df,x=0,y=1,z=2,color='time')\n",
    "fig.update_traces(marker=dict(size=3))\n",
    "fig.show()"
   ]
  },
  {
   "cell_type": "markdown",
   "metadata": {},
   "source": [
    "### 3D Trackerlet Plot for Pitcher using DLC"
   ]
  },
  {
   "cell_type": "code",
   "execution_count": 40,
   "metadata": {},
   "outputs": [
    {
     "data": {
      "application/vnd.plotly.v1+json": {
       "config": {
        "plotlyServerURL": "https://plot.ly"
       },
       "data": [
        {
         "hovertemplate": "0=%{x}<br>1=%{y}<br>2=%{z}<br>time=%{marker.color}<extra></extra>",
         "legendgroup": "",
         "marker": {
          "color": [
           0,
           1,
           2,
           3,
           4,
           5,
           6,
           7,
           8,
           9,
           10,
           11,
           12,
           13,
           14,
           15
          ],
          "coloraxis": "coloraxis",
          "size": 3,
          "symbol": "circle"
         },
         "mode": "markers",
         "name": "",
         "scene": "scene",
         "showlegend": false,
         "type": "scatter3d",
         "x": [
          77.65367454527546,
          86.62717789908936,
          90.41269658306933,
          95.89578204789953,
          104.58845293842344,
          111.61521066327585,
          117.47221697716024,
          123.1607592892414,
          116.24852111784362,
          104.87845101038008,
          99.64816475688995,
          90.69422426503978,
          93.9501343200631,
          93.17557463250662,
          94.00822685023746,
          100.01698272360422
         ],
         "y": [
          -25.372309672794636,
          -26.431907027616234,
          -25.97714521671923,
          -25.772645172481162,
          -26.79873481307964,
          -27.05605633977036,
          -26.904308635073228,
          -26.926814944621015,
          -22.315448329126614,
          -16.428204447728014,
          -11.729886261255206,
          -6.517773226635351,
          -11.904736840629441,
          -16.321153824978886,
          -21.100983066302984,
          -27.12678858877711
         ],
         "z": [
          108.23570631523933,
          112.77469306863551,
          109.85928263187581,
          109.0252191934989,
          111.61920205139975,
          112.66914773609551,
          111.69205768716749,
          110.92131137155295,
          107.00133163712704,
          98.86134866580883,
          96.0981567583393,
          90.0452425732091,
          96.86686286765725,
          99.2858117379279,
          103.04042698735437,
          113.67466789679592
         ]
        }
       ],
       "layout": {
        "coloraxis": {
         "colorbar": {
          "title": {
           "text": "time"
          }
         },
         "colorscale": [
          [
           0,
           "#0d0887"
          ],
          [
           0.1111111111111111,
           "#46039f"
          ],
          [
           0.2222222222222222,
           "#7201a8"
          ],
          [
           0.3333333333333333,
           "#9c179e"
          ],
          [
           0.4444444444444444,
           "#bd3786"
          ],
          [
           0.5555555555555556,
           "#d8576b"
          ],
          [
           0.6666666666666666,
           "#ed7953"
          ],
          [
           0.7777777777777778,
           "#fb9f3a"
          ],
          [
           0.8888888888888888,
           "#fdca26"
          ],
          [
           1,
           "#f0f921"
          ]
         ]
        },
        "legend": {
         "tracegroupgap": 0
        },
        "margin": {
         "t": 60
        },
        "scene": {
         "domain": {
          "x": [
           0,
           1
          ],
          "y": [
           0,
           1
          ]
         },
         "xaxis": {
          "title": {
           "text": "0"
          }
         },
         "yaxis": {
          "title": {
           "text": "1"
          }
         },
         "zaxis": {
          "title": {
           "text": "2"
          }
         }
        },
        "template": {
         "data": {
          "bar": [
           {
            "error_x": {
             "color": "#2a3f5f"
            },
            "error_y": {
             "color": "#2a3f5f"
            },
            "marker": {
             "line": {
              "color": "#E5ECF6",
              "width": 0.5
             },
             "pattern": {
              "fillmode": "overlay",
              "size": 10,
              "solidity": 0.2
             }
            },
            "type": "bar"
           }
          ],
          "barpolar": [
           {
            "marker": {
             "line": {
              "color": "#E5ECF6",
              "width": 0.5
             },
             "pattern": {
              "fillmode": "overlay",
              "size": 10,
              "solidity": 0.2
             }
            },
            "type": "barpolar"
           }
          ],
          "carpet": [
           {
            "aaxis": {
             "endlinecolor": "#2a3f5f",
             "gridcolor": "white",
             "linecolor": "white",
             "minorgridcolor": "white",
             "startlinecolor": "#2a3f5f"
            },
            "baxis": {
             "endlinecolor": "#2a3f5f",
             "gridcolor": "white",
             "linecolor": "white",
             "minorgridcolor": "white",
             "startlinecolor": "#2a3f5f"
            },
            "type": "carpet"
           }
          ],
          "choropleth": [
           {
            "colorbar": {
             "outlinewidth": 0,
             "ticks": ""
            },
            "type": "choropleth"
           }
          ],
          "contour": [
           {
            "colorbar": {
             "outlinewidth": 0,
             "ticks": ""
            },
            "colorscale": [
             [
              0,
              "#0d0887"
             ],
             [
              0.1111111111111111,
              "#46039f"
             ],
             [
              0.2222222222222222,
              "#7201a8"
             ],
             [
              0.3333333333333333,
              "#9c179e"
             ],
             [
              0.4444444444444444,
              "#bd3786"
             ],
             [
              0.5555555555555556,
              "#d8576b"
             ],
             [
              0.6666666666666666,
              "#ed7953"
             ],
             [
              0.7777777777777778,
              "#fb9f3a"
             ],
             [
              0.8888888888888888,
              "#fdca26"
             ],
             [
              1,
              "#f0f921"
             ]
            ],
            "type": "contour"
           }
          ],
          "contourcarpet": [
           {
            "colorbar": {
             "outlinewidth": 0,
             "ticks": ""
            },
            "type": "contourcarpet"
           }
          ],
          "heatmap": [
           {
            "colorbar": {
             "outlinewidth": 0,
             "ticks": ""
            },
            "colorscale": [
             [
              0,
              "#0d0887"
             ],
             [
              0.1111111111111111,
              "#46039f"
             ],
             [
              0.2222222222222222,
              "#7201a8"
             ],
             [
              0.3333333333333333,
              "#9c179e"
             ],
             [
              0.4444444444444444,
              "#bd3786"
             ],
             [
              0.5555555555555556,
              "#d8576b"
             ],
             [
              0.6666666666666666,
              "#ed7953"
             ],
             [
              0.7777777777777778,
              "#fb9f3a"
             ],
             [
              0.8888888888888888,
              "#fdca26"
             ],
             [
              1,
              "#f0f921"
             ]
            ],
            "type": "heatmap"
           }
          ],
          "heatmapgl": [
           {
            "colorbar": {
             "outlinewidth": 0,
             "ticks": ""
            },
            "colorscale": [
             [
              0,
              "#0d0887"
             ],
             [
              0.1111111111111111,
              "#46039f"
             ],
             [
              0.2222222222222222,
              "#7201a8"
             ],
             [
              0.3333333333333333,
              "#9c179e"
             ],
             [
              0.4444444444444444,
              "#bd3786"
             ],
             [
              0.5555555555555556,
              "#d8576b"
             ],
             [
              0.6666666666666666,
              "#ed7953"
             ],
             [
              0.7777777777777778,
              "#fb9f3a"
             ],
             [
              0.8888888888888888,
              "#fdca26"
             ],
             [
              1,
              "#f0f921"
             ]
            ],
            "type": "heatmapgl"
           }
          ],
          "histogram": [
           {
            "marker": {
             "pattern": {
              "fillmode": "overlay",
              "size": 10,
              "solidity": 0.2
             }
            },
            "type": "histogram"
           }
          ],
          "histogram2d": [
           {
            "colorbar": {
             "outlinewidth": 0,
             "ticks": ""
            },
            "colorscale": [
             [
              0,
              "#0d0887"
             ],
             [
              0.1111111111111111,
              "#46039f"
             ],
             [
              0.2222222222222222,
              "#7201a8"
             ],
             [
              0.3333333333333333,
              "#9c179e"
             ],
             [
              0.4444444444444444,
              "#bd3786"
             ],
             [
              0.5555555555555556,
              "#d8576b"
             ],
             [
              0.6666666666666666,
              "#ed7953"
             ],
             [
              0.7777777777777778,
              "#fb9f3a"
             ],
             [
              0.8888888888888888,
              "#fdca26"
             ],
             [
              1,
              "#f0f921"
             ]
            ],
            "type": "histogram2d"
           }
          ],
          "histogram2dcontour": [
           {
            "colorbar": {
             "outlinewidth": 0,
             "ticks": ""
            },
            "colorscale": [
             [
              0,
              "#0d0887"
             ],
             [
              0.1111111111111111,
              "#46039f"
             ],
             [
              0.2222222222222222,
              "#7201a8"
             ],
             [
              0.3333333333333333,
              "#9c179e"
             ],
             [
              0.4444444444444444,
              "#bd3786"
             ],
             [
              0.5555555555555556,
              "#d8576b"
             ],
             [
              0.6666666666666666,
              "#ed7953"
             ],
             [
              0.7777777777777778,
              "#fb9f3a"
             ],
             [
              0.8888888888888888,
              "#fdca26"
             ],
             [
              1,
              "#f0f921"
             ]
            ],
            "type": "histogram2dcontour"
           }
          ],
          "mesh3d": [
           {
            "colorbar": {
             "outlinewidth": 0,
             "ticks": ""
            },
            "type": "mesh3d"
           }
          ],
          "parcoords": [
           {
            "line": {
             "colorbar": {
              "outlinewidth": 0,
              "ticks": ""
             }
            },
            "type": "parcoords"
           }
          ],
          "pie": [
           {
            "automargin": true,
            "type": "pie"
           }
          ],
          "scatter": [
           {
            "marker": {
             "colorbar": {
              "outlinewidth": 0,
              "ticks": ""
             }
            },
            "type": "scatter"
           }
          ],
          "scatter3d": [
           {
            "line": {
             "colorbar": {
              "outlinewidth": 0,
              "ticks": ""
             }
            },
            "marker": {
             "colorbar": {
              "outlinewidth": 0,
              "ticks": ""
             }
            },
            "type": "scatter3d"
           }
          ],
          "scattercarpet": [
           {
            "marker": {
             "colorbar": {
              "outlinewidth": 0,
              "ticks": ""
             }
            },
            "type": "scattercarpet"
           }
          ],
          "scattergeo": [
           {
            "marker": {
             "colorbar": {
              "outlinewidth": 0,
              "ticks": ""
             }
            },
            "type": "scattergeo"
           }
          ],
          "scattergl": [
           {
            "marker": {
             "colorbar": {
              "outlinewidth": 0,
              "ticks": ""
             }
            },
            "type": "scattergl"
           }
          ],
          "scattermapbox": [
           {
            "marker": {
             "colorbar": {
              "outlinewidth": 0,
              "ticks": ""
             }
            },
            "type": "scattermapbox"
           }
          ],
          "scatterpolar": [
           {
            "marker": {
             "colorbar": {
              "outlinewidth": 0,
              "ticks": ""
             }
            },
            "type": "scatterpolar"
           }
          ],
          "scatterpolargl": [
           {
            "marker": {
             "colorbar": {
              "outlinewidth": 0,
              "ticks": ""
             }
            },
            "type": "scatterpolargl"
           }
          ],
          "scatterternary": [
           {
            "marker": {
             "colorbar": {
              "outlinewidth": 0,
              "ticks": ""
             }
            },
            "type": "scatterternary"
           }
          ],
          "surface": [
           {
            "colorbar": {
             "outlinewidth": 0,
             "ticks": ""
            },
            "colorscale": [
             [
              0,
              "#0d0887"
             ],
             [
              0.1111111111111111,
              "#46039f"
             ],
             [
              0.2222222222222222,
              "#7201a8"
             ],
             [
              0.3333333333333333,
              "#9c179e"
             ],
             [
              0.4444444444444444,
              "#bd3786"
             ],
             [
              0.5555555555555556,
              "#d8576b"
             ],
             [
              0.6666666666666666,
              "#ed7953"
             ],
             [
              0.7777777777777778,
              "#fb9f3a"
             ],
             [
              0.8888888888888888,
              "#fdca26"
             ],
             [
              1,
              "#f0f921"
             ]
            ],
            "type": "surface"
           }
          ],
          "table": [
           {
            "cells": {
             "fill": {
              "color": "#EBF0F8"
             },
             "line": {
              "color": "white"
             }
            },
            "header": {
             "fill": {
              "color": "#C8D4E3"
             },
             "line": {
              "color": "white"
             }
            },
            "type": "table"
           }
          ]
         },
         "layout": {
          "annotationdefaults": {
           "arrowcolor": "#2a3f5f",
           "arrowhead": 0,
           "arrowwidth": 1
          },
          "autotypenumbers": "strict",
          "coloraxis": {
           "colorbar": {
            "outlinewidth": 0,
            "ticks": ""
           }
          },
          "colorscale": {
           "diverging": [
            [
             0,
             "#8e0152"
            ],
            [
             0.1,
             "#c51b7d"
            ],
            [
             0.2,
             "#de77ae"
            ],
            [
             0.3,
             "#f1b6da"
            ],
            [
             0.4,
             "#fde0ef"
            ],
            [
             0.5,
             "#f7f7f7"
            ],
            [
             0.6,
             "#e6f5d0"
            ],
            [
             0.7,
             "#b8e186"
            ],
            [
             0.8,
             "#7fbc41"
            ],
            [
             0.9,
             "#4d9221"
            ],
            [
             1,
             "#276419"
            ]
           ],
           "sequential": [
            [
             0,
             "#0d0887"
            ],
            [
             0.1111111111111111,
             "#46039f"
            ],
            [
             0.2222222222222222,
             "#7201a8"
            ],
            [
             0.3333333333333333,
             "#9c179e"
            ],
            [
             0.4444444444444444,
             "#bd3786"
            ],
            [
             0.5555555555555556,
             "#d8576b"
            ],
            [
             0.6666666666666666,
             "#ed7953"
            ],
            [
             0.7777777777777778,
             "#fb9f3a"
            ],
            [
             0.8888888888888888,
             "#fdca26"
            ],
            [
             1,
             "#f0f921"
            ]
           ],
           "sequentialminus": [
            [
             0,
             "#0d0887"
            ],
            [
             0.1111111111111111,
             "#46039f"
            ],
            [
             0.2222222222222222,
             "#7201a8"
            ],
            [
             0.3333333333333333,
             "#9c179e"
            ],
            [
             0.4444444444444444,
             "#bd3786"
            ],
            [
             0.5555555555555556,
             "#d8576b"
            ],
            [
             0.6666666666666666,
             "#ed7953"
            ],
            [
             0.7777777777777778,
             "#fb9f3a"
            ],
            [
             0.8888888888888888,
             "#fdca26"
            ],
            [
             1,
             "#f0f921"
            ]
           ]
          },
          "colorway": [
           "#636efa",
           "#EF553B",
           "#00cc96",
           "#ab63fa",
           "#FFA15A",
           "#19d3f3",
           "#FF6692",
           "#B6E880",
           "#FF97FF",
           "#FECB52"
          ],
          "font": {
           "color": "#2a3f5f"
          },
          "geo": {
           "bgcolor": "white",
           "lakecolor": "white",
           "landcolor": "#E5ECF6",
           "showlakes": true,
           "showland": true,
           "subunitcolor": "white"
          },
          "hoverlabel": {
           "align": "left"
          },
          "hovermode": "closest",
          "mapbox": {
           "style": "light"
          },
          "paper_bgcolor": "white",
          "plot_bgcolor": "#E5ECF6",
          "polar": {
           "angularaxis": {
            "gridcolor": "white",
            "linecolor": "white",
            "ticks": ""
           },
           "bgcolor": "#E5ECF6",
           "radialaxis": {
            "gridcolor": "white",
            "linecolor": "white",
            "ticks": ""
           }
          },
          "scene": {
           "xaxis": {
            "backgroundcolor": "#E5ECF6",
            "gridcolor": "white",
            "gridwidth": 2,
            "linecolor": "white",
            "showbackground": true,
            "ticks": "",
            "zerolinecolor": "white"
           },
           "yaxis": {
            "backgroundcolor": "#E5ECF6",
            "gridcolor": "white",
            "gridwidth": 2,
            "linecolor": "white",
            "showbackground": true,
            "ticks": "",
            "zerolinecolor": "white"
           },
           "zaxis": {
            "backgroundcolor": "#E5ECF6",
            "gridcolor": "white",
            "gridwidth": 2,
            "linecolor": "white",
            "showbackground": true,
            "ticks": "",
            "zerolinecolor": "white"
           }
          },
          "shapedefaults": {
           "line": {
            "color": "#2a3f5f"
           }
          },
          "ternary": {
           "aaxis": {
            "gridcolor": "white",
            "linecolor": "white",
            "ticks": ""
           },
           "baxis": {
            "gridcolor": "white",
            "linecolor": "white",
            "ticks": ""
           },
           "bgcolor": "#E5ECF6",
           "caxis": {
            "gridcolor": "white",
            "linecolor": "white",
            "ticks": ""
           }
          },
          "title": {
           "x": 0.05
          },
          "xaxis": {
           "automargin": true,
           "gridcolor": "white",
           "linecolor": "white",
           "ticks": "",
           "title": {
            "standoff": 15
           },
           "zerolinecolor": "white",
           "zerolinewidth": 2
          },
          "yaxis": {
           "automargin": true,
           "gridcolor": "white",
           "linecolor": "white",
           "ticks": "",
           "title": {
            "standoff": 15
           },
           "zerolinecolor": "white",
           "zerolinewidth": 2
          }
         }
        }
       }
      },
      "text/html": [
       "<div>                            <div id=\"5254ea01-194a-4985-a316-6b40571ceb6d\" class=\"plotly-graph-div\" style=\"height:525px; width:100%;\"></div>            <script type=\"text/javascript\">                require([\"plotly\"], function(Plotly) {                    window.PLOTLYENV=window.PLOTLYENV || {};                                    if (document.getElementById(\"5254ea01-194a-4985-a316-6b40571ceb6d\")) {                    Plotly.newPlot(                        \"5254ea01-194a-4985-a316-6b40571ceb6d\",                        [{\"hovertemplate\":\"0=%{x}<br>1=%{y}<br>2=%{z}<br>time=%{marker.color}<extra></extra>\",\"legendgroup\":\"\",\"marker\":{\"color\":[0,1,2,3,4,5,6,7,8,9,10,11,12,13,14,15],\"coloraxis\":\"coloraxis\",\"symbol\":\"circle\",\"size\":3},\"mode\":\"markers\",\"name\":\"\",\"scene\":\"scene\",\"showlegend\":false,\"x\":[77.65367454527546,86.62717789908936,90.41269658306933,95.89578204789953,104.58845293842344,111.61521066327585,117.47221697716024,123.1607592892414,116.24852111784362,104.87845101038008,99.64816475688995,90.69422426503978,93.9501343200631,93.17557463250662,94.00822685023746,100.01698272360422],\"y\":[-25.372309672794636,-26.431907027616234,-25.97714521671923,-25.772645172481162,-26.79873481307964,-27.05605633977036,-26.904308635073228,-26.926814944621015,-22.315448329126614,-16.428204447728014,-11.729886261255206,-6.517773226635351,-11.904736840629441,-16.321153824978886,-21.100983066302984,-27.12678858877711],\"z\":[108.23570631523933,112.77469306863551,109.85928263187581,109.0252191934989,111.61920205139975,112.66914773609551,111.69205768716749,110.92131137155295,107.00133163712704,98.86134866580883,96.0981567583393,90.0452425732091,96.86686286765725,99.2858117379279,103.04042698735437,113.67466789679592],\"type\":\"scatter3d\"}],                        {\"template\":{\"data\":{\"bar\":[{\"error_x\":{\"color\":\"#2a3f5f\"},\"error_y\":{\"color\":\"#2a3f5f\"},\"marker\":{\"line\":{\"color\":\"#E5ECF6\",\"width\":0.5},\"pattern\":{\"fillmode\":\"overlay\",\"size\":10,\"solidity\":0.2}},\"type\":\"bar\"}],\"barpolar\":[{\"marker\":{\"line\":{\"color\":\"#E5ECF6\",\"width\":0.5},\"pattern\":{\"fillmode\":\"overlay\",\"size\":10,\"solidity\":0.2}},\"type\":\"barpolar\"}],\"carpet\":[{\"aaxis\":{\"endlinecolor\":\"#2a3f5f\",\"gridcolor\":\"white\",\"linecolor\":\"white\",\"minorgridcolor\":\"white\",\"startlinecolor\":\"#2a3f5f\"},\"baxis\":{\"endlinecolor\":\"#2a3f5f\",\"gridcolor\":\"white\",\"linecolor\":\"white\",\"minorgridcolor\":\"white\",\"startlinecolor\":\"#2a3f5f\"},\"type\":\"carpet\"}],\"choropleth\":[{\"colorbar\":{\"outlinewidth\":0,\"ticks\":\"\"},\"type\":\"choropleth\"}],\"contour\":[{\"colorbar\":{\"outlinewidth\":0,\"ticks\":\"\"},\"colorscale\":[[0.0,\"#0d0887\"],[0.1111111111111111,\"#46039f\"],[0.2222222222222222,\"#7201a8\"],[0.3333333333333333,\"#9c179e\"],[0.4444444444444444,\"#bd3786\"],[0.5555555555555556,\"#d8576b\"],[0.6666666666666666,\"#ed7953\"],[0.7777777777777778,\"#fb9f3a\"],[0.8888888888888888,\"#fdca26\"],[1.0,\"#f0f921\"]],\"type\":\"contour\"}],\"contourcarpet\":[{\"colorbar\":{\"outlinewidth\":0,\"ticks\":\"\"},\"type\":\"contourcarpet\"}],\"heatmap\":[{\"colorbar\":{\"outlinewidth\":0,\"ticks\":\"\"},\"colorscale\":[[0.0,\"#0d0887\"],[0.1111111111111111,\"#46039f\"],[0.2222222222222222,\"#7201a8\"],[0.3333333333333333,\"#9c179e\"],[0.4444444444444444,\"#bd3786\"],[0.5555555555555556,\"#d8576b\"],[0.6666666666666666,\"#ed7953\"],[0.7777777777777778,\"#fb9f3a\"],[0.8888888888888888,\"#fdca26\"],[1.0,\"#f0f921\"]],\"type\":\"heatmap\"}],\"heatmapgl\":[{\"colorbar\":{\"outlinewidth\":0,\"ticks\":\"\"},\"colorscale\":[[0.0,\"#0d0887\"],[0.1111111111111111,\"#46039f\"],[0.2222222222222222,\"#7201a8\"],[0.3333333333333333,\"#9c179e\"],[0.4444444444444444,\"#bd3786\"],[0.5555555555555556,\"#d8576b\"],[0.6666666666666666,\"#ed7953\"],[0.7777777777777778,\"#fb9f3a\"],[0.8888888888888888,\"#fdca26\"],[1.0,\"#f0f921\"]],\"type\":\"heatmapgl\"}],\"histogram\":[{\"marker\":{\"pattern\":{\"fillmode\":\"overlay\",\"size\":10,\"solidity\":0.2}},\"type\":\"histogram\"}],\"histogram2d\":[{\"colorbar\":{\"outlinewidth\":0,\"ticks\":\"\"},\"colorscale\":[[0.0,\"#0d0887\"],[0.1111111111111111,\"#46039f\"],[0.2222222222222222,\"#7201a8\"],[0.3333333333333333,\"#9c179e\"],[0.4444444444444444,\"#bd3786\"],[0.5555555555555556,\"#d8576b\"],[0.6666666666666666,\"#ed7953\"],[0.7777777777777778,\"#fb9f3a\"],[0.8888888888888888,\"#fdca26\"],[1.0,\"#f0f921\"]],\"type\":\"histogram2d\"}],\"histogram2dcontour\":[{\"colorbar\":{\"outlinewidth\":0,\"ticks\":\"\"},\"colorscale\":[[0.0,\"#0d0887\"],[0.1111111111111111,\"#46039f\"],[0.2222222222222222,\"#7201a8\"],[0.3333333333333333,\"#9c179e\"],[0.4444444444444444,\"#bd3786\"],[0.5555555555555556,\"#d8576b\"],[0.6666666666666666,\"#ed7953\"],[0.7777777777777778,\"#fb9f3a\"],[0.8888888888888888,\"#fdca26\"],[1.0,\"#f0f921\"]],\"type\":\"histogram2dcontour\"}],\"mesh3d\":[{\"colorbar\":{\"outlinewidth\":0,\"ticks\":\"\"},\"type\":\"mesh3d\"}],\"parcoords\":[{\"line\":{\"colorbar\":{\"outlinewidth\":0,\"ticks\":\"\"}},\"type\":\"parcoords\"}],\"pie\":[{\"automargin\":true,\"type\":\"pie\"}],\"scatter\":[{\"marker\":{\"colorbar\":{\"outlinewidth\":0,\"ticks\":\"\"}},\"type\":\"scatter\"}],\"scatter3d\":[{\"line\":{\"colorbar\":{\"outlinewidth\":0,\"ticks\":\"\"}},\"marker\":{\"colorbar\":{\"outlinewidth\":0,\"ticks\":\"\"}},\"type\":\"scatter3d\"}],\"scattercarpet\":[{\"marker\":{\"colorbar\":{\"outlinewidth\":0,\"ticks\":\"\"}},\"type\":\"scattercarpet\"}],\"scattergeo\":[{\"marker\":{\"colorbar\":{\"outlinewidth\":0,\"ticks\":\"\"}},\"type\":\"scattergeo\"}],\"scattergl\":[{\"marker\":{\"colorbar\":{\"outlinewidth\":0,\"ticks\":\"\"}},\"type\":\"scattergl\"}],\"scattermapbox\":[{\"marker\":{\"colorbar\":{\"outlinewidth\":0,\"ticks\":\"\"}},\"type\":\"scattermapbox\"}],\"scatterpolar\":[{\"marker\":{\"colorbar\":{\"outlinewidth\":0,\"ticks\":\"\"}},\"type\":\"scatterpolar\"}],\"scatterpolargl\":[{\"marker\":{\"colorbar\":{\"outlinewidth\":0,\"ticks\":\"\"}},\"type\":\"scatterpolargl\"}],\"scatterternary\":[{\"marker\":{\"colorbar\":{\"outlinewidth\":0,\"ticks\":\"\"}},\"type\":\"scatterternary\"}],\"surface\":[{\"colorbar\":{\"outlinewidth\":0,\"ticks\":\"\"},\"colorscale\":[[0.0,\"#0d0887\"],[0.1111111111111111,\"#46039f\"],[0.2222222222222222,\"#7201a8\"],[0.3333333333333333,\"#9c179e\"],[0.4444444444444444,\"#bd3786\"],[0.5555555555555556,\"#d8576b\"],[0.6666666666666666,\"#ed7953\"],[0.7777777777777778,\"#fb9f3a\"],[0.8888888888888888,\"#fdca26\"],[1.0,\"#f0f921\"]],\"type\":\"surface\"}],\"table\":[{\"cells\":{\"fill\":{\"color\":\"#EBF0F8\"},\"line\":{\"color\":\"white\"}},\"header\":{\"fill\":{\"color\":\"#C8D4E3\"},\"line\":{\"color\":\"white\"}},\"type\":\"table\"}]},\"layout\":{\"annotationdefaults\":{\"arrowcolor\":\"#2a3f5f\",\"arrowhead\":0,\"arrowwidth\":1},\"autotypenumbers\":\"strict\",\"coloraxis\":{\"colorbar\":{\"outlinewidth\":0,\"ticks\":\"\"}},\"colorscale\":{\"diverging\":[[0,\"#8e0152\"],[0.1,\"#c51b7d\"],[0.2,\"#de77ae\"],[0.3,\"#f1b6da\"],[0.4,\"#fde0ef\"],[0.5,\"#f7f7f7\"],[0.6,\"#e6f5d0\"],[0.7,\"#b8e186\"],[0.8,\"#7fbc41\"],[0.9,\"#4d9221\"],[1,\"#276419\"]],\"sequential\":[[0.0,\"#0d0887\"],[0.1111111111111111,\"#46039f\"],[0.2222222222222222,\"#7201a8\"],[0.3333333333333333,\"#9c179e\"],[0.4444444444444444,\"#bd3786\"],[0.5555555555555556,\"#d8576b\"],[0.6666666666666666,\"#ed7953\"],[0.7777777777777778,\"#fb9f3a\"],[0.8888888888888888,\"#fdca26\"],[1.0,\"#f0f921\"]],\"sequentialminus\":[[0.0,\"#0d0887\"],[0.1111111111111111,\"#46039f\"],[0.2222222222222222,\"#7201a8\"],[0.3333333333333333,\"#9c179e\"],[0.4444444444444444,\"#bd3786\"],[0.5555555555555556,\"#d8576b\"],[0.6666666666666666,\"#ed7953\"],[0.7777777777777778,\"#fb9f3a\"],[0.8888888888888888,\"#fdca26\"],[1.0,\"#f0f921\"]]},\"colorway\":[\"#636efa\",\"#EF553B\",\"#00cc96\",\"#ab63fa\",\"#FFA15A\",\"#19d3f3\",\"#FF6692\",\"#B6E880\",\"#FF97FF\",\"#FECB52\"],\"font\":{\"color\":\"#2a3f5f\"},\"geo\":{\"bgcolor\":\"white\",\"lakecolor\":\"white\",\"landcolor\":\"#E5ECF6\",\"showlakes\":true,\"showland\":true,\"subunitcolor\":\"white\"},\"hoverlabel\":{\"align\":\"left\"},\"hovermode\":\"closest\",\"mapbox\":{\"style\":\"light\"},\"paper_bgcolor\":\"white\",\"plot_bgcolor\":\"#E5ECF6\",\"polar\":{\"angularaxis\":{\"gridcolor\":\"white\",\"linecolor\":\"white\",\"ticks\":\"\"},\"bgcolor\":\"#E5ECF6\",\"radialaxis\":{\"gridcolor\":\"white\",\"linecolor\":\"white\",\"ticks\":\"\"}},\"scene\":{\"xaxis\":{\"backgroundcolor\":\"#E5ECF6\",\"gridcolor\":\"white\",\"gridwidth\":2,\"linecolor\":\"white\",\"showbackground\":true,\"ticks\":\"\",\"zerolinecolor\":\"white\"},\"yaxis\":{\"backgroundcolor\":\"#E5ECF6\",\"gridcolor\":\"white\",\"gridwidth\":2,\"linecolor\":\"white\",\"showbackground\":true,\"ticks\":\"\",\"zerolinecolor\":\"white\"},\"zaxis\":{\"backgroundcolor\":\"#E5ECF6\",\"gridcolor\":\"white\",\"gridwidth\":2,\"linecolor\":\"white\",\"showbackground\":true,\"ticks\":\"\",\"zerolinecolor\":\"white\"}},\"shapedefaults\":{\"line\":{\"color\":\"#2a3f5f\"}},\"ternary\":{\"aaxis\":{\"gridcolor\":\"white\",\"linecolor\":\"white\",\"ticks\":\"\"},\"baxis\":{\"gridcolor\":\"white\",\"linecolor\":\"white\",\"ticks\":\"\"},\"bgcolor\":\"#E5ECF6\",\"caxis\":{\"gridcolor\":\"white\",\"linecolor\":\"white\",\"ticks\":\"\"}},\"title\":{\"x\":0.05},\"xaxis\":{\"automargin\":true,\"gridcolor\":\"white\",\"linecolor\":\"white\",\"ticks\":\"\",\"title\":{\"standoff\":15},\"zerolinecolor\":\"white\",\"zerolinewidth\":2},\"yaxis\":{\"automargin\":true,\"gridcolor\":\"white\",\"linecolor\":\"white\",\"ticks\":\"\",\"title\":{\"standoff\":15},\"zerolinecolor\":\"white\",\"zerolinewidth\":2}}},\"scene\":{\"domain\":{\"x\":[0.0,1.0],\"y\":[0.0,1.0]},\"xaxis\":{\"title\":{\"text\":\"0\"}},\"yaxis\":{\"title\":{\"text\":\"1\"}},\"zaxis\":{\"title\":{\"text\":\"2\"}}},\"coloraxis\":{\"colorbar\":{\"title\":{\"text\":\"time\"}},\"colorscale\":[[0.0,\"#0d0887\"],[0.1111111111111111,\"#46039f\"],[0.2222222222222222,\"#7201a8\"],[0.3333333333333333,\"#9c179e\"],[0.4444444444444444,\"#bd3786\"],[0.5555555555555556,\"#d8576b\"],[0.6666666666666666,\"#ed7953\"],[0.7777777777777778,\"#fb9f3a\"],[0.8888888888888888,\"#fdca26\"],[1.0,\"#f0f921\"]]},\"legend\":{\"tracegroupgap\":0},\"margin\":{\"t\":60}},                        {\"responsive\": true}                    ).then(function(){\n",
       "                            \n",
       "var gd = document.getElementById('5254ea01-194a-4985-a316-6b40571ceb6d');\n",
       "var x = new MutationObserver(function (mutations, observer) {{\n",
       "        var display = window.getComputedStyle(gd).display;\n",
       "        if (!display || display === 'none') {{\n",
       "            console.log([gd, 'removed!']);\n",
       "            Plotly.purge(gd);\n",
       "            observer.disconnect();\n",
       "        }}\n",
       "}});\n",
       "\n",
       "// Listen for the removal of the full notebook cells\n",
       "var notebookContainer = gd.closest('#notebook-container');\n",
       "if (notebookContainer) {{\n",
       "    x.observe(notebookContainer, {childList: true});\n",
       "}}\n",
       "\n",
       "// Listen for the clearing of the current output cell\n",
       "var outputEl = gd.closest('.output');\n",
       "if (outputEl) {{\n",
       "    x.observe(outputEl, {childList: true});\n",
       "}}\n",
       "\n",
       "                        })                };                });            </script>        </div>"
      ]
     },
     "metadata": {},
     "output_type": "display_data"
    }
   ],
   "source": [
    "pitcher_dlc_df = pd.DataFrame(np.array(pitcher_dlc_pos).reshape(-1, 3))\n",
    "pitcher_dlc_df['time'] = pitcher_dlc_df.index\n",
    "fig = px.scatter_3d(pitcher_dlc_df, x=0, y=1, z=2, color='time')\n",
    "fig.update_traces(marker=dict(size=3))\n",
    "fig.show()"
   ]
  },
  {
   "cell_type": "code",
   "execution_count": null,
   "metadata": {
    "scrolled": false
   },
   "outputs": [],
   "source": [
    "# count = 1\n",
    "\n",
    "# for ind, key in enumerate(cup_coordinate3D.keys()):\n",
    "#     lx, ly, rx = [], [], [] \n",
    "#     dlc_ry, dlc_rx = [], [] \n",
    "#     right_coord = r_cup_data[key]['coordinates'][0]\n",
    "# #     for pix in right_coord:\n",
    "# #         if len(pix) == 0: continue\n",
    "# #         x_l, y_l = (int(i) for dim, i in enumerate(pix[0]))\n",
    "# #         dlc_ry.append(y_l)\n",
    "# #         dlc_rx.append(x_l)\n",
    "#     for coor in cup_coordinate3D[key][2:5]:\n",
    "#         lx.append(coor['left_x'])\n",
    "#         ly.append(coor['left_y'])\n",
    "#         rx.append(coor['right_x'])\n",
    "#     img_file = next(filename for filename in os.listdir(l_cup_img_dir) \n",
    "#                     if int(filename.split('.')[0][5:])==int(key.split('.')[0][5:]))\n",
    "#     img_left = imageio.imread(l_cup_img_dir + img_file)\n",
    "#     img_right = imageio.imread(r_cup_img_dir + img_file)\n",
    "\n",
    "#     disp_path = \"{}_disp.npy\".format(cup_disp_path + img_file.split('.')[0])\n",
    "#     img_disparity = np.load(disp_path)\n",
    "#     fig = plt.figure(figsize=(20, 40))\n",
    "\n",
    "#     fig.add_subplot(5, 4, count)\n",
    "#     plt.title('Left Image')\n",
    "#     plt.imshow(img_left)\n",
    "#     plt.scatter(lx, ly)\n",
    "#     fig.add_subplot(5, 4, count+1)\n",
    "#     plt.title('Right Image')\n",
    "#     plt.imshow(img_right)\n",
    "#     plt.scatter(rx, ly)\n",
    "# #     plt.scatter(dlc_rx, dlc_ry)\n",
    "#     count += 2\n",
    "# #     fig.add_subplot(3, 1, 3)\n",
    "# #     plt.title('Disparity (Left-Camerea View)')\n",
    "# #     plt.imshow(img_disparity)"
   ]
  },
  {
   "cell_type": "code",
   "execution_count": null,
   "metadata": {},
   "outputs": [],
   "source": [
    "# # combined leastereo distances\n",
    "# combine_true_dist = tb_true_dist + tap_true_dist + cup_true_dist\n",
    "# combine_model_dist = tb_model_dist + tap_model_dist + cup_model_dist\n",
    "# combine_dlc_dist = tb_dlc_dist + tap_dlc_dist + cup_dlc_dist\n",
    "\n",
    "# scales = np.arange(2, 3, 0.05)\n",
    "# combine_model_mse = mean_squared_error(combine_true_dist, combine_model_dist)\n",
    "# combine_dlc_mse = findLosses(combine_true_dist, combine_dlc_dist, scales)\n",
    "\n",
    "# plt.plot(scales, combine_dlc_mse)\n",
    "# print('Combine Min LEAstereo MSE:', combine_model_mse)\n",
    "# print('Combine Min DLC MSE:', min(combine_dlc_mse))"
   ]
  },
  {
   "cell_type": "code",
   "execution_count": null,
   "metadata": {
    "scrolled": true
   },
   "outputs": [],
   "source": [
    "\n",
    "# count=0\n",
    "# extra_path = '../camera-main/videos/1642519365/1642519365-left.mp4'\n",
    "# vidcap = cv2.VideoCapture(extra_path)\n",
    "# success, first_frame = vidcap.read()\n",
    "# while success:\n",
    "# #     cv2.imwrite(os.path.join(l_img_dir, \"frame{}.jpg\".format(str(count).zfill(2))), image)     # save frame as JPEG file      \n",
    "#     success, image = vidcap.read()\n",
    "#     print('Read a new frame: ', success, count)\n",
    "#     cv2.imshow(\"Input\", image)\n",
    "#     cv2.waitKey(0)\n",
    "#     count += 1"
   ]
  }
 ],
 "metadata": {
  "kernelspec": {
   "display_name": "Python 3 (ipykernel)",
   "language": "python",
   "name": "python3"
  },
  "language_info": {
   "codemirror_mode": {
    "name": "ipython",
    "version": 3
   },
   "file_extension": ".py",
   "mimetype": "text/x-python",
   "name": "python",
   "nbconvert_exporter": "python",
   "pygments_lexer": "ipython3",
   "version": "3.8.12"
  }
 },
 "nbformat": 4,
 "nbformat_minor": 4
}
