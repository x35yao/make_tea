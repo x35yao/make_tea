{
 "cells": [
  {
   "cell_type": "code",
   "execution_count": 5,
   "id": "hydraulic-phoenix",
   "metadata": {},
   "outputs": [],
   "source": [
    "import os\n",
    "import cv2\n",
    "import pickle as pkl\n",
    "from PIL import Image\n",
    "\n",
    "video_id = 1641421641\n",
    "\n",
    "left_video_path = '../camera-main/videos/{}/{}-left.mp4'.format(video_id, video_id)\n",
    "right_video_path = '../camera-main/videos/{}/{}-right.mp4'.format(video_id, video_id)\n",
    "\n",
    "l_img_dir = './dataset/{}/left/'.format(video_id)\n",
    "r_img_dir = './dataset/{}/right/'.format(video_id)\n",
    "target_path = '../camera-main/videos/{}/'.format(video_id)\n",
    "\n",
    "def createFramesAt(video_path, image_dir, selected_frames=None):\n",
    "    \"\"\"\n",
    "    Generate frames,specified by index or not, from a video at a image directory.\n",
    "    \"\"\"\n",
    "    if not os.path.exists(image_dir):\n",
    "        os.makedirs(image_dir)\n",
    "        \n",
    "    vidcap = cv2.VideoCapture(video_path)\n",
    "    success, image = vidcap.read()\n",
    "    count = 0\n",
    "    while success:\n",
    "        target_path = os.path.join(image_dir, \"frame{}.jpg\".format(str(count).zfill(3)))\n",
    "        if selected_frames:\n",
    "            if count in selected_frames:\n",
    "                cv2.imwrite(target_path, image)        \n",
    "        else: cv2.imwrite(target_path, image)\n",
    "        success, image = vidcap.read()\n",
    "        count += 1\n",
    "\n",
    "def reduceResolution(video_path, new_resolution, target_dir=''):\n",
    "    new_width, new_height = new_resolution\n",
    "    fourcc = cv2.VideoWriter_fourcc(*'MP42')\n",
    "    destin_path = os.path.join(target_dir, 'image_to_video.avi')\n",
    "    video = cv2.VideoWriter(destin_path, fourcc, float(15), (new_width, new_height))\n",
    "    vidcap = cv2.VideoCapture(video_path)\n",
    "    success, image = vidcap.read()\n",
    "    count = 0\n",
    "    while success:\n",
    "        output = cv2.resize(image, (new_width, new_height))\n",
    "        video.write(output)\n",
    "        success, image = vidcap.read()\n",
    "        count += 1\n",
    "    video.release()\n",
    "\n",
    "# reduceResolution(left_video_path, (640, 480), target_path)\n",
    "# createFramesAt(right_video_path, r_img_dir, [50])"
   ]
  }
 ],
 "metadata": {
  "kernelspec": {
   "display_name": "Python 3",
   "language": "python",
   "name": "python3"
  },
  "language_info": {
   "codemirror_mode": {
    "name": "ipython",
    "version": 3
   },
   "file_extension": ".py",
   "mimetype": "text/x-python",
   "name": "python",
   "nbconvert_exporter": "python",
   "pygments_lexer": "ipython3",
   "version": "3.8.10"
  }
 },
 "nbformat": 4,
 "nbformat_minor": 5
}
