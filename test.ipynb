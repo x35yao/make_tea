{
 "cells": [
  {
   "cell_type": "code",
   "execution_count": 13,
   "id": "747e9e2d",
   "metadata": {},
   "outputs": [],
   "source": [
    "from utils.post_processing import *\n",
    "\n",
    "vid_id = '1642994619'\n",
    "obj = 'pitcher'\n",
    "config_path2d = f'/home/luke/Desktop/project/make_tea/dlc/make_tea_{obj}-luke-2022-01-29/config.yaml'\n",
    "videos = [f'/home/luke/Desktop/project/make_tea/camera-main/videos/{vid_id}/left/{vid_id}-left.mp4',\n",
    "          f'/home/luke/Desktop/project/make_tea/camera-main/videos/{vid_id}/right/{vid_id}-right.mp4']"
   ]
  },
  {
   "cell_type": "markdown",
   "id": "1a61c3b7",
   "metadata": {},
   "source": [
    "# Analyze videos"
   ]
  },
  {
   "cell_type": "code",
   "execution_count": 2,
   "id": "3a0c6a17",
   "metadata": {},
   "outputs": [
    {
     "name": "stdout",
     "output_type": "stream",
     "text": [
      "Using snapshot-30000 for model /home/luke/Desktop/project/make_tea/dlc/make_tea_pitcher-luke-2022-01-29/dlc-models/iteration-0/make_tea_pitcherJan29-trainset95shuffle1\n"
     ]
    },
    {
     "name": "stderr",
     "output_type": "stream",
     "text": [
      "/home/luke/anaconda3/envs/DEEPLABCUT/lib/python3.8/site-packages/tensorflow/python/keras/engine/base_layer_v1.py:1694: UserWarning: `layer.apply` is deprecated and will be removed in a future version. Please use `layer.__call__` method instead.\n",
      "  warnings.warn('`layer.apply` is deprecated and '\n"
     ]
    },
    {
     "name": "stdout",
     "output_type": "stream",
     "text": [
      "Activating extracting of PAFs\n"
     ]
    },
    {
     "name": "stderr",
     "output_type": "stream",
     "text": [
      "2022-02-01 16:47:19.188111: I tensorflow/stream_executor/cuda/cuda_gpu_executor.cc:939] successful NUMA node read from SysFS had negative value (-1), but there must be at least one NUMA node, so returning NUMA node zero\n",
      "2022-02-01 16:47:19.200424: I tensorflow/stream_executor/cuda/cuda_gpu_executor.cc:939] successful NUMA node read from SysFS had negative value (-1), but there must be at least one NUMA node, so returning NUMA node zero\n",
      "2022-02-01 16:47:19.200746: I tensorflow/stream_executor/cuda/cuda_gpu_executor.cc:939] successful NUMA node read from SysFS had negative value (-1), but there must be at least one NUMA node, so returning NUMA node zero\n",
      "2022-02-01 16:47:19.201368: I tensorflow/core/platform/cpu_feature_guard.cc:151] This TensorFlow binary is optimized with oneAPI Deep Neural Network Library (oneDNN) to use the following CPU instructions in performance-critical operations:  AVX2 FMA\n",
      "To enable them in other operations, rebuild TensorFlow with the appropriate compiler flags.\n",
      "2022-02-01 16:47:19.202499: I tensorflow/stream_executor/cuda/cuda_gpu_executor.cc:939] successful NUMA node read from SysFS had negative value (-1), but there must be at least one NUMA node, so returning NUMA node zero\n",
      "2022-02-01 16:47:19.202813: I tensorflow/stream_executor/cuda/cuda_gpu_executor.cc:939] successful NUMA node read from SysFS had negative value (-1), but there must be at least one NUMA node, so returning NUMA node zero\n",
      "2022-02-01 16:47:19.203084: I tensorflow/stream_executor/cuda/cuda_gpu_executor.cc:939] successful NUMA node read from SysFS had negative value (-1), but there must be at least one NUMA node, so returning NUMA node zero\n",
      "2022-02-01 16:47:19.547197: I tensorflow/stream_executor/cuda/cuda_gpu_executor.cc:939] successful NUMA node read from SysFS had negative value (-1), but there must be at least one NUMA node, so returning NUMA node zero\n",
      "2022-02-01 16:47:19.547455: I tensorflow/stream_executor/cuda/cuda_gpu_executor.cc:939] successful NUMA node read from SysFS had negative value (-1), but there must be at least one NUMA node, so returning NUMA node zero\n",
      "2022-02-01 16:47:19.547623: I tensorflow/stream_executor/cuda/cuda_gpu_executor.cc:939] successful NUMA node read from SysFS had negative value (-1), but there must be at least one NUMA node, so returning NUMA node zero\n",
      "2022-02-01 16:47:19.547764: I tensorflow/core/common_runtime/gpu/gpu_device.cc:1525] Created device /job:localhost/replica:0/task:0/device:GPU:0 with 9919 MB memory:  -> device: 0, name: NVIDIA GeForce GTX 1080 Ti, pci bus id: 0000:01:00.0, compute capability: 6.1\n"
     ]
    },
    {
     "name": "stdout",
     "output_type": "stream",
     "text": [
      "Starting to analyze %  /home/luke/Desktop/project/make_tea/camera-main/videos/1642994619/left/1642994619-left.mp4\n",
      "Video already analyzed! /home/luke/Desktop/project/make_tea/camera-main/videos/1642994619/left/1642994619-leftDLC_dlcrnetms5_make_tea_pitcherJan29shuffle1_30000.h5\n",
      "Using snapshot-30000 for model /home/luke/Desktop/project/make_tea/dlc/make_tea_pitcher-luke-2022-01-29/dlc-models/iteration-0/make_tea_pitcherJan29-trainset95shuffle1\n",
      "Processing...  /home/luke/Desktop/project/make_tea/camera-main/videos/1642994619/left/1642994619-left.mp4\n",
      "Tracklets already computed /home/luke/Desktop/project/make_tea/camera-main/videos/1642994619/left/1642994619-leftDLC_dlcrnetms5_make_tea_pitcherJan29shuffle1_30000_bx.pickle\n",
      "Set overwrite = True to overwrite.\n",
      "The tracklets were created (i.e., under the hood deeplabcut.convert_detections2tracklets was run). Now you can 'refine_tracklets' in the GUI, or run 'deeplabcut.stitch_tracklets'.\n",
      "Processing...  /home/luke/Desktop/project/make_tea/camera-main/videos/1642994619/left/1642994619-left.mp4\n"
     ]
    },
    {
     "name": "stderr",
     "output_type": "stream",
     "text": [
      "100%|██████████████████████████████████████████| 1/1 [00:00<00:00, 30174.85it/s]\n"
     ]
    },
    {
     "name": "stdout",
     "output_type": "stream",
     "text": [
      "Starting to analyze %  /home/luke/Desktop/project/make_tea/camera-main/videos/1642994619/right/1642994619-right.mp4\n",
      "Video already analyzed! /home/luke/Desktop/project/make_tea/camera-main/videos/1642994619/right/1642994619-rightDLC_dlcrnetms5_make_tea_pitcherJan29shuffle1_30000.h5\n",
      "Using snapshot-30000 for model /home/luke/Desktop/project/make_tea/dlc/make_tea_pitcher-luke-2022-01-29/dlc-models/iteration-0/make_tea_pitcherJan29-trainset95shuffle1\n",
      "Processing...  /home/luke/Desktop/project/make_tea/camera-main/videos/1642994619/right/1642994619-right.mp4\n",
      "Tracklets already computed /home/luke/Desktop/project/make_tea/camera-main/videos/1642994619/right/1642994619-rightDLC_dlcrnetms5_make_tea_pitcherJan29shuffle1_30000_bx.pickle\n",
      "Set overwrite = True to overwrite.\n",
      "The tracklets were created (i.e., under the hood deeplabcut.convert_detections2tracklets was run). Now you can 'refine_tracklets' in the GUI, or run 'deeplabcut.stitch_tracklets'.\n",
      "Processing...  /home/luke/Desktop/project/make_tea/camera-main/videos/1642994619/right/1642994619-right.mp4\n"
     ]
    },
    {
     "name": "stderr",
     "output_type": "stream",
     "text": [
      "100%|██████████████████████████████████████████| 1/1 [00:00<00:00, 14074.85it/s]"
     ]
    },
    {
     "name": "stdout",
     "output_type": "stream",
     "text": [
      "The videos are analyzed. Time to assemble animals and track 'em... \n",
      " Call 'create_video_with_all_detections' to check multi-animal detection quality before tracking.\n",
      "If the tracking is not satisfactory for some videos, consider expanding the training set. You can use the function 'extract_outlier_frames' to extract a few representative outlier frames.\n"
     ]
    },
    {
     "name": "stderr",
     "output_type": "stream",
     "text": [
      "\n"
     ]
    },
    {
     "data": {
      "text/plain": [
       "'DLC_dlcrnetms5_make_tea_pitcherJan29shuffle1_30000'"
      ]
     },
     "execution_count": 2,
     "metadata": {},
     "output_type": "execute_result"
    }
   ],
   "source": [
    "import deeplabcut\n",
    "\n",
    "deeplabcut.analyze_videos(config_path2d, videos, videotype = '.mp4')"
   ]
  },
  {
   "cell_type": "markdown",
   "id": "5aab1e12",
   "metadata": {},
   "source": [
    "# Interpolate the result"
   ]
  },
  {
   "cell_type": "code",
   "execution_count": 8,
   "id": "c67cc2f9",
   "metadata": {},
   "outputs": [
    {
     "name": "stdout",
     "output_type": "stream",
     "text": [
      "Filtering with cubic model /home/luke/Desktop/project/make_tea/camera-main/videos/1642994619/left/1642994619-left.mp4\n",
      "The h5 file is saved at: /home/luke/Desktop/project/make_tea/camera-main/videos/1642994619/left/1642994619-left_cubic.h5\n",
      "Filtering with cubic model /home/luke/Desktop/project/make_tea/camera-main/videos/1642994619/right/1642994619-right.mp4\n",
      "The h5 file is saved at: /home/luke/Desktop/project/make_tea/camera-main/videos/1642994619/right/1642994619-right_cubic.h5\n"
     ]
    }
   ],
   "source": [
    "from utils.post_processing import interpolate_data\n",
    "\n",
    "kernel = 'cubic'\n",
    "windowlength = 3\n",
    "h5files = interpolate_data(config_path2d, videos, filtertype = kernel, windowlength = windowlength)"
   ]
  },
  {
   "cell_type": "code",
   "execution_count": 24,
   "id": "08737abd",
   "metadata": {},
   "outputs": [
    {
     "data": {
      "text/html": [
       "<div>\n",
       "<style scoped>\n",
       "    .dataframe tbody tr th:only-of-type {\n",
       "        vertical-align: middle;\n",
       "    }\n",
       "\n",
       "    .dataframe tbody tr th {\n",
       "        vertical-align: top;\n",
       "    }\n",
       "\n",
       "    .dataframe thead tr th {\n",
       "        text-align: left;\n",
       "    }\n",
       "</style>\n",
       "<table border=\"1\" class=\"dataframe\">\n",
       "  <thead>\n",
       "    <tr>\n",
       "      <th>scorer</th>\n",
       "      <th colspan=\"15\" halign=\"left\">DLC_dlcrnetms5_make_tea_pitcherJan29shuffle1_30000</th>\n",
       "    </tr>\n",
       "    <tr>\n",
       "      <th>individuals</th>\n",
       "      <th colspan=\"15\" halign=\"left\">pitcher</th>\n",
       "    </tr>\n",
       "    <tr>\n",
       "      <th>bodyparts</th>\n",
       "      <th colspan=\"3\" halign=\"left\">bodypart1</th>\n",
       "      <th colspan=\"3\" halign=\"left\">bodypart2</th>\n",
       "      <th colspan=\"3\" halign=\"left\">bodypart3</th>\n",
       "      <th colspan=\"3\" halign=\"left\">bodypart4</th>\n",
       "      <th colspan=\"3\" halign=\"left\">bodypart5</th>\n",
       "    </tr>\n",
       "    <tr>\n",
       "      <th>coords</th>\n",
       "      <th>x</th>\n",
       "      <th>y</th>\n",
       "      <th>likelihood</th>\n",
       "      <th>x</th>\n",
       "      <th>y</th>\n",
       "      <th>likelihood</th>\n",
       "      <th>x</th>\n",
       "      <th>y</th>\n",
       "      <th>likelihood</th>\n",
       "      <th>x</th>\n",
       "      <th>y</th>\n",
       "      <th>likelihood</th>\n",
       "      <th>x</th>\n",
       "      <th>y</th>\n",
       "      <th>likelihood</th>\n",
       "    </tr>\n",
       "  </thead>\n",
       "  <tbody>\n",
       "    <tr>\n",
       "      <th>0</th>\n",
       "      <td>NaN</td>\n",
       "      <td>NaN</td>\n",
       "      <td>NaN</td>\n",
       "      <td>NaN</td>\n",
       "      <td>NaN</td>\n",
       "      <td>NaN</td>\n",
       "      <td>NaN</td>\n",
       "      <td>NaN</td>\n",
       "      <td>NaN</td>\n",
       "      <td>NaN</td>\n",
       "      <td>NaN</td>\n",
       "      <td>NaN</td>\n",
       "      <td>NaN</td>\n",
       "      <td>NaN</td>\n",
       "      <td>NaN</td>\n",
       "    </tr>\n",
       "    <tr>\n",
       "      <th>1</th>\n",
       "      <td>NaN</td>\n",
       "      <td>NaN</td>\n",
       "      <td>NaN</td>\n",
       "      <td>NaN</td>\n",
       "      <td>NaN</td>\n",
       "      <td>NaN</td>\n",
       "      <td>NaN</td>\n",
       "      <td>NaN</td>\n",
       "      <td>NaN</td>\n",
       "      <td>NaN</td>\n",
       "      <td>NaN</td>\n",
       "      <td>NaN</td>\n",
       "      <td>NaN</td>\n",
       "      <td>NaN</td>\n",
       "      <td>NaN</td>\n",
       "    </tr>\n",
       "    <tr>\n",
       "      <th>2</th>\n",
       "      <td>NaN</td>\n",
       "      <td>NaN</td>\n",
       "      <td>NaN</td>\n",
       "      <td>NaN</td>\n",
       "      <td>NaN</td>\n",
       "      <td>NaN</td>\n",
       "      <td>NaN</td>\n",
       "      <td>NaN</td>\n",
       "      <td>NaN</td>\n",
       "      <td>NaN</td>\n",
       "      <td>NaN</td>\n",
       "      <td>NaN</td>\n",
       "      <td>NaN</td>\n",
       "      <td>NaN</td>\n",
       "      <td>NaN</td>\n",
       "    </tr>\n",
       "    <tr>\n",
       "      <th>3</th>\n",
       "      <td>NaN</td>\n",
       "      <td>NaN</td>\n",
       "      <td>NaN</td>\n",
       "      <td>NaN</td>\n",
       "      <td>NaN</td>\n",
       "      <td>NaN</td>\n",
       "      <td>NaN</td>\n",
       "      <td>NaN</td>\n",
       "      <td>NaN</td>\n",
       "      <td>NaN</td>\n",
       "      <td>NaN</td>\n",
       "      <td>NaN</td>\n",
       "      <td>NaN</td>\n",
       "      <td>NaN</td>\n",
       "      <td>NaN</td>\n",
       "    </tr>\n",
       "    <tr>\n",
       "      <th>4</th>\n",
       "      <td>NaN</td>\n",
       "      <td>NaN</td>\n",
       "      <td>NaN</td>\n",
       "      <td>NaN</td>\n",
       "      <td>NaN</td>\n",
       "      <td>NaN</td>\n",
       "      <td>NaN</td>\n",
       "      <td>NaN</td>\n",
       "      <td>NaN</td>\n",
       "      <td>NaN</td>\n",
       "      <td>NaN</td>\n",
       "      <td>NaN</td>\n",
       "      <td>NaN</td>\n",
       "      <td>NaN</td>\n",
       "      <td>NaN</td>\n",
       "    </tr>\n",
       "    <tr>\n",
       "      <th>...</th>\n",
       "      <td>...</td>\n",
       "      <td>...</td>\n",
       "      <td>...</td>\n",
       "      <td>...</td>\n",
       "      <td>...</td>\n",
       "      <td>...</td>\n",
       "      <td>...</td>\n",
       "      <td>...</td>\n",
       "      <td>...</td>\n",
       "      <td>...</td>\n",
       "      <td>...</td>\n",
       "      <td>...</td>\n",
       "      <td>...</td>\n",
       "      <td>...</td>\n",
       "      <td>...</td>\n",
       "    </tr>\n",
       "    <tr>\n",
       "      <th>533</th>\n",
       "      <td>353.415</td>\n",
       "      <td>190.386</td>\n",
       "      <td>0.994</td>\n",
       "      <td>379.862000</td>\n",
       "      <td>247.577000</td>\n",
       "      <td>0.994</td>\n",
       "      <td>404.404000</td>\n",
       "      <td>315.585000</td>\n",
       "      <td>1.000</td>\n",
       "      <td>425.979000</td>\n",
       "      <td>373.305000</td>\n",
       "      <td>0.997</td>\n",
       "      <td>NaN</td>\n",
       "      <td>NaN</td>\n",
       "      <td>1.000</td>\n",
       "    </tr>\n",
       "    <tr>\n",
       "      <th>534</th>\n",
       "      <td>NaN</td>\n",
       "      <td>NaN</td>\n",
       "      <td>1.000</td>\n",
       "      <td>377.587436</td>\n",
       "      <td>247.939719</td>\n",
       "      <td>0.010</td>\n",
       "      <td>1100.716979</td>\n",
       "      <td>400.191607</td>\n",
       "      <td>0.010</td>\n",
       "      <td>428.478235</td>\n",
       "      <td>369.935794</td>\n",
       "      <td>0.010</td>\n",
       "      <td>43.936</td>\n",
       "      <td>859.694</td>\n",
       "      <td>0.273</td>\n",
       "    </tr>\n",
       "    <tr>\n",
       "      <th>535</th>\n",
       "      <td>NaN</td>\n",
       "      <td>NaN</td>\n",
       "      <td>1.000</td>\n",
       "      <td>373.282957</td>\n",
       "      <td>249.360813</td>\n",
       "      <td>0.010</td>\n",
       "      <td>1387.054000</td>\n",
       "      <td>434.839000</td>\n",
       "      <td>0.624</td>\n",
       "      <td>432.609490</td>\n",
       "      <td>363.541863</td>\n",
       "      <td>0.010</td>\n",
       "      <td>43.960</td>\n",
       "      <td>859.750</td>\n",
       "      <td>0.229</td>\n",
       "    </tr>\n",
       "    <tr>\n",
       "      <th>536</th>\n",
       "      <td>NaN</td>\n",
       "      <td>NaN</td>\n",
       "      <td>1.000</td>\n",
       "      <td>370.019000</td>\n",
       "      <td>252.626000</td>\n",
       "      <td>0.971</td>\n",
       "      <td>402.414000</td>\n",
       "      <td>315.560000</td>\n",
       "      <td>0.990</td>\n",
       "      <td>436.163000</td>\n",
       "      <td>361.534000</td>\n",
       "      <td>0.762</td>\n",
       "      <td>475.822</td>\n",
       "      <td>443.880</td>\n",
       "      <td>0.048</td>\n",
       "    </tr>\n",
       "    <tr>\n",
       "      <th>537</th>\n",
       "      <td>NaN</td>\n",
       "      <td>NaN</td>\n",
       "      <td>1.000</td>\n",
       "      <td>370.866000</td>\n",
       "      <td>258.521000</td>\n",
       "      <td>0.962</td>\n",
       "      <td>398.057000</td>\n",
       "      <td>316.004000</td>\n",
       "      <td>0.958</td>\n",
       "      <td>436.929000</td>\n",
       "      <td>371.323000</td>\n",
       "      <td>0.796</td>\n",
       "      <td>484.416</td>\n",
       "      <td>443.249</td>\n",
       "      <td>0.140</td>\n",
       "    </tr>\n",
       "  </tbody>\n",
       "</table>\n",
       "<p>538 rows × 15 columns</p>\n",
       "</div>"
      ],
      "text/plain": [
       "scorer      DLC_dlcrnetms5_make_tea_pitcherJan29shuffle1_30000           \\\n",
       "individuals                                            pitcher            \n",
       "bodyparts                                            bodypart1            \n",
       "coords                                                       x        y   \n",
       "0                                                          NaN      NaN   \n",
       "1                                                          NaN      NaN   \n",
       "2                                                          NaN      NaN   \n",
       "3                                                          NaN      NaN   \n",
       "4                                                          NaN      NaN   \n",
       "..                                                         ...      ...   \n",
       "533                                                    353.415  190.386   \n",
       "534                                                        NaN      NaN   \n",
       "535                                                        NaN      NaN   \n",
       "536                                                        NaN      NaN   \n",
       "537                                                        NaN      NaN   \n",
       "\n",
       "scorer                                                                  \\\n",
       "individuals                                                              \n",
       "bodyparts                bodypart2                           bodypart3   \n",
       "coords      likelihood           x           y likelihood            x   \n",
       "0                  NaN         NaN         NaN        NaN          NaN   \n",
       "1                  NaN         NaN         NaN        NaN          NaN   \n",
       "2                  NaN         NaN         NaN        NaN          NaN   \n",
       "3                  NaN         NaN         NaN        NaN          NaN   \n",
       "4                  NaN         NaN         NaN        NaN          NaN   \n",
       "..                 ...         ...         ...        ...          ...   \n",
       "533              0.994  379.862000  247.577000      0.994   404.404000   \n",
       "534              1.000  377.587436  247.939719      0.010  1100.716979   \n",
       "535              1.000  373.282957  249.360813      0.010  1387.054000   \n",
       "536              1.000  370.019000  252.626000      0.971   402.414000   \n",
       "537              1.000  370.866000  258.521000      0.962   398.057000   \n",
       "\n",
       "scorer                                                                 \\\n",
       "individuals                                                             \n",
       "bodyparts                            bodypart4                          \n",
       "coords                y likelihood           x           y likelihood   \n",
       "0                   NaN        NaN         NaN         NaN        NaN   \n",
       "1                   NaN        NaN         NaN         NaN        NaN   \n",
       "2                   NaN        NaN         NaN         NaN        NaN   \n",
       "3                   NaN        NaN         NaN         NaN        NaN   \n",
       "4                   NaN        NaN         NaN         NaN        NaN   \n",
       "..                  ...        ...         ...         ...        ...   \n",
       "533          315.585000      1.000  425.979000  373.305000      0.997   \n",
       "534          400.191607      0.010  428.478235  369.935794      0.010   \n",
       "535          434.839000      0.624  432.609490  363.541863      0.010   \n",
       "536          315.560000      0.990  436.163000  361.534000      0.762   \n",
       "537          316.004000      0.958  436.929000  371.323000      0.796   \n",
       "\n",
       "scorer                                     \n",
       "individuals                                \n",
       "bodyparts   bodypart5                      \n",
       "coords              x        y likelihood  \n",
       "0                 NaN      NaN        NaN  \n",
       "1                 NaN      NaN        NaN  \n",
       "2                 NaN      NaN        NaN  \n",
       "3                 NaN      NaN        NaN  \n",
       "4                 NaN      NaN        NaN  \n",
       "..                ...      ...        ...  \n",
       "533               NaN      NaN      1.000  \n",
       "534            43.936  859.694      0.273  \n",
       "535            43.960  859.750      0.229  \n",
       "536           475.822  443.880      0.048  \n",
       "537           484.416  443.249      0.140  \n",
       "\n",
       "[538 rows x 15 columns]"
      ]
     },
     "execution_count": 24,
     "metadata": {},
     "output_type": "execute_result"
    }
   ],
   "source": [
    "import pandas as pd\n",
    "\n",
    "pd.read_hdf(h5files[1])"
   ]
  },
  {
   "cell_type": "markdown",
   "id": "6ac075fd",
   "metadata": {},
   "source": [
    "# Visualize interpolation result"
   ]
  },
  {
   "cell_type": "code",
   "execution_count": 25,
   "id": "f7a0139d",
   "metadata": {},
   "outputs": [
    {
     "name": "stdout",
     "output_type": "stream",
     "text": [
      "Video is saved at /home/luke/Desktop/project/make_tea/camera-main/videos/1642994619/right/1642994619-right_cubic.mp4\n"
     ]
    }
   ],
   "source": [
    "from utils.visualization import create_video_with_h5file\n",
    "ind = 1\n",
    "video = videos[ind]\n",
    "h5file = h5files[ind]\n",
    "create_video_with_h5file(config_path2d, video,  h5file, suffix = kernel )"
   ]
  },
  {
   "cell_type": "markdown",
   "id": "89c91ef4",
   "metadata": {},
   "source": [
    "# Triangulate"
   ]
  },
  {
   "cell_type": "code",
   "execution_count": 1,
   "id": "c4444415",
   "metadata": {},
   "outputs": [
    {
     "name": "stdout",
     "output_type": "stream",
     "text": [
      "Undistorting...\n"
     ]
    },
    {
     "name": "stderr",
     "output_type": "stream",
     "text": [
      "0it [00:00, ?it/s]/home/luke/Desktop/project/make_tea/utils/triangulation.py:304: FutureWarning: Passing lists as key for xs is deprecated and will be removed in a future version. Pass key as a tuple instead.\n",
      "  ] = dataframe_cam1.xs(\n",
      "/home/luke/Desktop/project/make_tea/utils/triangulation.py:323: FutureWarning: Passing lists as key for xs is deprecated and will be removed in a future version. Pass key as a tuple instead.\n",
      "  ] = dataframe_cam2.xs(\n",
      "5it [00:00, 140.68it/s]"
     ]
    },
    {
     "name": "stdout",
     "output_type": "stream",
     "text": [
      "Computing the triangulation...\n",
      "Results are saved under:  /home/luke/Desktop/project/make_tea/camera-main/videos/1642994619\n"
     ]
    },
    {
     "name": "stderr",
     "output_type": "stream",
     "text": [
      "\n",
      "Gtk-Message: 16:55:50.543: Failed to load module \"atk-bridge\"\n",
      "Gtk-Message: 16:55:50.546: Failed to load module \"canberra-gtk-module\"\n"
     ]
    }
   ],
   "source": [
    "from utils.triangulation import triangulate\n",
    "\n",
    "h5files = ['/home/luke/Desktop/project/make_tea/camera-main/videos/1642994619/left/1642994619-left_linear.h5',\n",
    "           '/home/luke/Desktop/project/make_tea/camera-main/videos/1642994619/right/1642994619-right_linear.h5']\n",
    "config_path3d = '/home/luke/Desktop/project/make_tea/dlc/make_tea_3d-Luke_Yinghan-2022-01-13-3d/config.yaml'\n",
    "triangulate(config_path3d, h5files)"
   ]
  },
  {
   "cell_type": "code",
   "execution_count": null,
   "id": "05d25a01",
   "metadata": {},
   "outputs": [],
   "source": [
    "a"
   ]
  }
 ],
 "metadata": {
  "kernelspec": {
   "display_name": "Python [conda env:DEEPLABCUT] *",
   "language": "python",
   "name": "conda-env-DEEPLABCUT-py"
  },
  "language_info": {
   "codemirror_mode": {
    "name": "ipython",
    "version": 3
   },
   "file_extension": ".py",
   "mimetype": "text/x-python",
   "name": "python",
   "nbconvert_exporter": "python",
   "pygments_lexer": "ipython3",
   "version": "3.8.12"
  }
 },
 "nbformat": 4,
 "nbformat_minor": 5
}
