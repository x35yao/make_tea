{
 "cells": [
  {
   "cell_type": "code",
   "execution_count": 1,
   "metadata": {},
   "outputs": [
    {
     "ename": "ModuleNotFoundError",
     "evalue": "No module named 'torch'",
     "output_type": "error",
     "traceback": [
      "\u001b[0;31m---------------------------------------------------------------------------\u001b[0m",
      "\u001b[0;31mModuleNotFoundError\u001b[0m                       Traceback (most recent call last)",
      "\u001b[0;32m/tmp/ipykernel_396517/3306609810.py\u001b[0m in \u001b[0;36m<module>\u001b[0;34m\u001b[0m\n\u001b[1;32m      1\u001b[0m \u001b[0;32mimport\u001b[0m \u001b[0mpandas\u001b[0m \u001b[0;32mas\u001b[0m \u001b[0mpd\u001b[0m\u001b[0;34m\u001b[0m\u001b[0;34m\u001b[0m\u001b[0m\n\u001b[0;32m----> 2\u001b[0;31m \u001b[0;32mfrom\u001b[0m \u001b[0mpredictDepth\u001b[0m \u001b[0;32mimport\u001b[0m \u001b[0;34m*\u001b[0m\u001b[0;34m\u001b[0m\u001b[0;34m\u001b[0m\u001b[0m\n\u001b[0m\u001b[1;32m      3\u001b[0m \u001b[0;32mfrom\u001b[0m \u001b[0mzedStereoUtility\u001b[0m \u001b[0;32mimport\u001b[0m \u001b[0;34m*\u001b[0m\u001b[0;34m\u001b[0m\u001b[0;34m\u001b[0m\u001b[0m\n\u001b[1;32m      4\u001b[0m \u001b[0;34m\u001b[0m\u001b[0m\n\u001b[1;32m      5\u001b[0m \u001b[0mimage_dir\u001b[0m \u001b[0;34m=\u001b[0m \u001b[0;34m'./dataset/1642520848/'\u001b[0m\u001b[0;34m\u001b[0m\u001b[0;34m\u001b[0m\u001b[0m\n",
      "\u001b[0;32m~/Desktop/project/make_tea/LEAstereo/predictDepth.py\u001b[0m in \u001b[0;36m<module>\u001b[0;34m\u001b[0m\n\u001b[1;32m     10\u001b[0m \u001b[0;32mimport\u001b[0m \u001b[0mshutil\u001b[0m\u001b[0;34m\u001b[0m\u001b[0;34m\u001b[0m\u001b[0m\n\u001b[1;32m     11\u001b[0m \u001b[0;32mimport\u001b[0m \u001b[0mos\u001b[0m\u001b[0;34m\u001b[0m\u001b[0;34m\u001b[0m\u001b[0m\n\u001b[0;32m---> 12\u001b[0;31m \u001b[0;32mimport\u001b[0m \u001b[0mtorch\u001b[0m\u001b[0;34m\u001b[0m\u001b[0;34m\u001b[0m\u001b[0m\n\u001b[0m\u001b[1;32m     13\u001b[0m \u001b[0;32mimport\u001b[0m \u001b[0mtorch\u001b[0m\u001b[0;34m.\u001b[0m\u001b[0mnn\u001b[0m \u001b[0;32mas\u001b[0m \u001b[0mnn\u001b[0m\u001b[0;34m\u001b[0m\u001b[0;34m\u001b[0m\u001b[0m\n\u001b[1;32m     14\u001b[0m \u001b[0;32mimport\u001b[0m \u001b[0mtorch\u001b[0m\u001b[0;34m.\u001b[0m\u001b[0mnn\u001b[0m\u001b[0;34m.\u001b[0m\u001b[0mparallel\u001b[0m\u001b[0;34m\u001b[0m\u001b[0;34m\u001b[0m\u001b[0m\n",
      "\u001b[0;31mModuleNotFoundError\u001b[0m: No module named 'torch'"
     ]
    }
   ],
   "source": [
    "import pandas as pd\n",
    "from predictDepth import *\n",
    "from zedStereoUtility import *\n",
    "\n",
    "image_dir = './dataset/1642520848/'\n",
    "left_image_file = os.path.join(image_dir, 'left', 'frame015.jpg')\n",
    "right_image_file = os.path.join(image_dir, 'right', 'frame015.jpg')\n",
    "left_image = np.array(Image.open(left_image_file))\n",
    "right_image = np.array(Image.open(right_image_file))"
   ]
  },
  {
   "cell_type": "markdown",
   "metadata": {},
   "source": [
    "### 1. Generate Disparity Map"
   ]
  },
  {
   "cell_type": "code",
   "execution_count": null,
   "metadata": {},
   "outputs": [],
   "source": [
    "disp_map = getDisparityMap(left_image, right_image)"
   ]
  },
  {
   "cell_type": "markdown",
   "metadata": {},
   "source": [
    "### 2. Load Analysed pickle file"
   ]
  },
  {
   "cell_type": "code",
   "execution_count": null,
   "metadata": {},
   "outputs": [],
   "source": [
    "object_set = 1642520848\n",
    "l_datafile = '../camera-main/videos/{}/{}-leftDLC_dlcrnetms5_make_tea_01052022Jan5shuffle1_40000_full.pickle'.format(object_set, object_set)\n",
    "with open(l_datafile, 'rb') as file:\n",
    "    l_data = pkl.load(file)\n",
    "    \n",
    "# Getting the best pixels from the file.\n",
    "best_pixels = []\n",
    "frame_coord = l_data['frame0015']\n",
    "coord, confid = frame_coord['coordinates'][0], frame_coord['confidence']\n",
    "for k, _ in enumerate(coord):\n",
    "    confid_k = list(np.reshape(confid[k], (-1)))\n",
    "    best_index = confid_k.index(max(confid_k))\n",
    "    best_pixels.append(coord[k][best_index])\n",
    "\n",
    "# Use LEAStereoCoordinate if there is a image and disparity directory."
   ]
  },
  {
   "cell_type": "code",
   "execution_count": null,
   "metadata": {
    "scrolled": true
   },
   "outputs": [],
   "source": [
    "px, py = [i[0] for i in best_pixels] , [i[1] for i in best_pixels] \n",
    "fig = plt.figure(figsize=(15, 25))\n",
    "fig.add_subplot(1, 2, 1)\n",
    "plt.title('Left Image')\n",
    "plt.scatter(px, py)\n",
    "plt.imshow(left_image)\n",
    "fig.add_subplot(1, 2, 2)\n",
    "plt.title('Disparity')\n",
    "plt.imshow(disp_map)"
   ]
  },
  {
   "cell_type": "markdown",
   "metadata": {},
   "source": [
    "### 3. Convert Image and Disparity to 3D Coordinates"
   ]
  },
  {
   "cell_type": "code",
   "execution_count": null,
   "metadata": {},
   "outputs": [],
   "source": [
    "coordinate3D = pixelTo3DCameraCoord(left_image, disp_map, best_pixels)"
   ]
  },
  {
   "cell_type": "code",
   "execution_count": null,
   "metadata": {},
   "outputs": [],
   "source": [
    "import plotly.express as px\n",
    "XYZ = [[i['X'] for i in coordinate3D], [i['Y'] for i in coordinate3D], [i['Z'] for i in coordinate3D]]\n",
    "XYZ = list(zip(*XYZ))\n",
    "tb_dlc_df = pd.DataFrame(np.array(XYZ))\n",
    "tb_dlc_df.columns = ['X', 'Y', 'Z']\n",
    "fig = px.scatter_3d(tb_dlc_df,x='X',y='Y',z='Z')\n",
    "fig.update_traces(marker=dict(size=1))\n",
    "fig.show()"
   ]
  }
 ],
 "metadata": {
  "kernelspec": {
   "display_name": "Python 3",
   "language": "python",
   "name": "python3"
  },
  "language_info": {
   "codemirror_mode": {
    "name": "ipython",
    "version": 3
   },
   "file_extension": ".py",
   "mimetype": "text/x-python",
   "name": "python",
   "nbconvert_exporter": "python",
   "pygments_lexer": "ipython3",
   "version": "3.8.12"
  }
 },
 "nbformat": 4,
 "nbformat_minor": 5
}
