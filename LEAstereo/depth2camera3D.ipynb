{
 "cells": [
  {
   "cell_type": "code",
   "execution_count": null,
   "metadata": {},
   "outputs": [],
   "source": [
    "import cv2\n",
    "import pandas as pd \n",
    "import ipywidgets as widgets\n",
    "import matplotlib.pyplot as plt\n",
    "import matplotlib.image as mpimg\n",
    "import plotly.express as px\n",
    "\n",
    "from mpl_toolkits.mplot3d import Axes3D\n",
    "from zedStereoUtility import *\n",
    "\n",
    "with open('selected_indices.pkl', 'rb') as file:\n",
    "    saved_indices = pkl.load(file)\n",
    "\n",
    "cup_tb_true_pos = [(0, 0, 0), (1, 0, 0), (2, 0, 0), (3, 0, 0), (4, 0, 0), (5, 0, 0), (6, 0, 0), (7, 0, 0), \n",
    "                   (8, 0, 0), (9, 0, 0), (9, 1, 0), (9, 2, 0), (9, 3, 0), (9, 4, 0), (9, 5, 0), (9, 6, 0), \n",
    "                   (8, 6, 0), (7, 5, 0), (6, 4, 0), (5, 3, 0), (4, 2, 0), (3, 1, 0), (2, 0, 0)]\n",
    "pitcher_true_pos =  [(0, 0, 0), (1, 0, 0), (2, 0, 0), (3, 0, 0), (4, 0, 0), (5, 0, 0), (6, 0, 0), (7, 0, 0), \n",
    "                (7, 1, 0), (7, 2, 0), (7, 3, 0), (7, 4, 0), (6, 3, 0), (5, 2, 0), (4, 1, 0), (3, 0, 0)]"
   ]
  },
  {
   "cell_type": "markdown",
   "metadata": {},
   "source": [
    "## Model Comparison over teabag"
   ]
  },
  {
   "cell_type": "code",
   "execution_count": null,
   "metadata": {
    "scrolled": true
   },
   "outputs": [],
   "source": [
    "# Getting the coordinate from the dlc folder for now\n",
    "object_set = 1642519365\n",
    "l_tb_img_dir = './dataset/{}/left/'.format(object_set)\n",
    "r_tb_img_dir = './dataset/{}/right/'.format(object_set)\n",
    "tb_disp_path = './dataset/{}/disparity/'.format(object_set)\n",
    "\n",
    "l_tb_datafile = '../camera-main/videos/{}/{}-leftDLC_dlcrnetms5_make_tea_01052022Jan5shuffle1_40000_full.pickle'.format(object_set, object_set)\n",
    "r_tb_datafile = '../camera-main/videos/{}/{}-rightDLC_dlcrnetms5_make_tea_01052022Jan5shuffle1_40000_full.pickle'.format(object_set, object_set)\n",
    "\n",
    "with open(r_tb_datafile, 'rb') as file:\n",
    "    r_tb_data = pkl.load(file)\n",
    "with open(l_tb_datafile, 'rb') as file:\n",
    "    l_tb_data = pkl.load(file)\n",
    "tb_coordinate3D = LEAStereoCoordinate(l_tb_img_dir, tb_disp_path, l_tb_data)\n",
    "\n",
    "cup_tb_true_vect = []\n",
    "cup_tb_true_dist = []\n",
    "prev = False\n",
    "for pos in cup_tb_true_pos:\n",
    "    if prev: cup_tb_true_vect.append([pos[i] - prev[i] for i in range(len(pos))])\n",
    "    prev = pos\n",
    "    \n",
    "for vec in cup_tb_true_vect:\n",
    "    vec = [GRID_LENGTH*i for i in vec]\n",
    "    cup_tb_true_dist.append(distanceCal(*vec))\n",
    "    \n",
    "tb_model_pos = []        \n",
    "for i in tb_coordinate3D.keys():\n",
    "    holder = []\n",
    "    for pos in tb_coordinate3D[i][:2]:\n",
    "        holder.append([pos['X'], pos['Y'], pos['Z']])\n",
    "    tb_model_pos.append(holder)\n",
    "\n",
    "tb_model_vect, tb_model_dist = getMeasurements(tb_model_pos)\n",
    "# print([tb_true_dist[i] - tb_model_dist[i] for i in range(7)])\n",
    "print('TB LEAstereo MSE:', mean_squared_error(cup_tb_true_dist, tb_model_dist))\n",
    "\n",
    "xaxis_model_loss = consistencyLoss(tb_model_vect[:9])\n",
    "yaxis_model_loss = consistencyLoss(tb_model_vect[9:16])\n",
    "diagonal_model_loss = consistencyLoss(tb_model_vect[16:])\n",
    "print('TB Axis Consistency Loss(LEAStereo):', xaxis_model_loss, yaxis_model_loss, diagonal_model_loss)"
   ]
  },
  {
   "cell_type": "code",
   "execution_count": null,
   "metadata": {},
   "outputs": [],
   "source": [
    "tb_dlc_pos = []\n",
    "tb3d_path = '../camera-main/videos/{}/{}_make_tea_3D.csv'.format(object_set, object_set)\n",
    "tb3d_csv = pd.read_csv(tb3d_path)\n",
    "part1 = tb3d_csv.iloc[0].tolist()\n",
    "part2 = tb3d_csv.iloc[1].tolist()\n",
    "part3 = tb3d_csv.iloc[2].tolist()\n",
    "\n",
    "new_headers = formHeaders(part1, [part2, part3])\n",
    "new_tb3d_csv = tb3d_csv[3:].copy()\n",
    "new_tb3d_csv.columns = new_headers\n",
    "\n",
    "new_tb3d_csv.reset_index(inplace=True)\n",
    "new_tb3d_csv = new_tb3d_csv.loc[:,['ind1-head-x', 'ind1-head-y', 'ind1-head-z',\n",
    "                                    'ind1-tail-x', 'ind1-tail-y', 'ind1-tail-z']]\n",
    "for i in saved_indices[object_set]:\n",
    "    row = [float(i) for i in new_tb3d_csv.iloc[i].tolist()]\n",
    "    tb_dlc_pos.append([row[:3], row[3:6]])\n",
    "    \n",
    "tb_dlc_vect, tb_dlc_dist = getMeasurements(tb_dlc_pos)\n",
    "scales = np.arange(1.5, 3, 0.05)\n",
    "loss = findLosses(cup_tb_true_dist, tb_dlc_dist, scales)\n",
    "\n",
    "plt.plot(scales, loss)\n",
    "print('TB Min MSE:', min(loss))\n",
    "\n",
    "xaxis_dlc_loss = consistencyLoss(tb_dlc_vect[:9])\n",
    "yaxis_dlc_loss = consistencyLoss(tb_dlc_vect[9:16])\n",
    "diagonal_dlc_loss = consistencyLoss(tb_dlc_vect[16:])\n",
    "print('TB Axis Consistency Loss(DLC):', xaxis_dlc_loss, yaxis_dlc_loss, diagonal_dlc_loss)"
   ]
  },
  {
   "cell_type": "markdown",
   "metadata": {},
   "source": [
    "### 3D Trackerlet Plot for Teabag using LEAStereo"
   ]
  },
  {
   "cell_type": "code",
   "execution_count": null,
   "metadata": {
    "scrolled": false
   },
   "outputs": [],
   "source": [
    "tb_model_df = pd.DataFrame(np.array(tb_model_pos).reshape(-1, 3))\n",
    "tb_model_df['time'] = tb_model_df.index\n",
    "fig = px.scatter_3d(tb_model_df,x=0,y=1,z=2, color='time')\n",
    "fig.update_traces(marker=dict(size=3))\n",
    "fig.show()"
   ]
  },
  {
   "cell_type": "markdown",
   "metadata": {},
   "source": [
    "### 3D Trackerlet Plot for Teabag using DLC"
   ]
  },
  {
   "cell_type": "code",
   "execution_count": null,
   "metadata": {
    "scrolled": false
   },
   "outputs": [],
   "source": [
    "tb_dlc_df = pd.DataFrame(np.array(tb_dlc_pos).reshape(-1, 3))\n",
    "tb_dlc_df['time'] = tb_dlc_df.index\n",
    "fig = px.scatter_3d(tb_dlc_df,x=0,y=1,z=2, color='time')\n",
    "fig.update_traces(marker=dict(size=3))\n",
    "fig.show()"
   ]
  },
  {
   "cell_type": "code",
   "execution_count": null,
   "metadata": {},
   "outputs": [],
   "source": [
    "# with open('../dlc/make_tea_3d-Luke_Yinghan-2022-01-13-3d/camera_matrix/stereo_params.pickle', 'rb') as file:\n",
    "#     params = pkl.load(file)\n",
    "# outputs_l = []\n",
    "# for i in tb_dlc_pos:\n",
    "# #     output = np.transpose(np.dot(params['left-right']['R'], np.transpose(i)))\n",
    "# #     output = [[row[j] + params['left-right']['T'][j][0] for j in range(3)] for row in output]\n",
    "# #     print(output)\n",
    "#     output = np.transpose(np.dot(params['left-right']['cameraMatrix1'], np.transpose(i)))\n",
    "#     outputs_l.append((output[1]/output[1,2])[:2])\n",
    "\n",
    "# outputs_r = []\n",
    "# for i in tb_dlc_pos:\n",
    "#     output = np.transpose(np.dot(params['left-right']['cameraMatrix2'], np.transpose(i)))\n",
    "#     outputs_r.append((output[1]/output[1,2])[:2])"
   ]
  },
  {
   "cell_type": "code",
   "execution_count": null,
   "metadata": {
    "scrolled": true
   },
   "outputs": [],
   "source": [
    "# count = 1\n",
    "# for ind, key in enumerate(tb_coordinate3D.keys()):\n",
    "#     lx, ly, rx = [], [], [] \n",
    "#     dlc_ry, dlc_rx = [], [] \n",
    "#     right_coord = r_tb_data[key]['coordinates'][0]\n",
    "#     for k, _ in enumerate(right_coord):\n",
    "#         confid_k = list(np.reshape(r_tb_data[key]['confidence'][k], (-1)))\n",
    "#         best_index = confid_k.index(max(confid_k))\n",
    "#         pix = right_coord[k][best_index]\n",
    "#         if len(pix) == 0: continue\n",
    "#         x_l, y_l = (int(i) for dim, i in enumerate(pix))\n",
    "#         dlc_ry.append(y_l)\n",
    "#         dlc_rx.append(x_l)\n",
    "#     for coor in tb_coordinate3D[key][:2]:\n",
    "#         lx.append(coor['left_x'])\n",
    "#         ly.append(coor['left_y'])\n",
    "#         rx.append(coor['right_x'])\n",
    "#     img_file = '{}.jpg'.format(key)\n",
    "#     img_left = imageio.imread(l_tb_img_dir + img_file)\n",
    "#     img_right = imageio.imread(r_tb_img_dir + img_file)\n",
    "\n",
    "#     disp_path = \"{}_disp.npy\".format(tb_disp_path + img_file.split('.')[0])\n",
    "#     img_disparity = np.load(disp_path)\n",
    "#     fig = plt.figure(figsize=(20, 40))\n",
    "\n",
    "#     fig.add_subplot(15, 4, count)\n",
    "#     plt.title('Left Image')\n",
    "#     plt.imshow(img_left)\n",
    "    \n",
    "#     plt.scatter(lx, ly)\n",
    "    \n",
    "#     fig.add_subplot(15, 4, count+1)\n",
    "#     plt.title('Right Image')\n",
    "#     plt.imshow(img_right)\n",
    "#     plt.scatter(rx, ly)\n",
    "#     plt.scatter(dlc_rx, dlc_ry)\n",
    "#     count += 2\n",
    "# #     fig.add_subplot(3, 1, 3)\n",
    "# #     plt.title('Disparity (Left-Camerea View)')\n",
    "# #     plt.imshow(img_disparity)"
   ]
  },
  {
   "cell_type": "markdown",
   "metadata": {},
   "source": [
    "## Model Comparison over Cup Object"
   ]
  },
  {
   "cell_type": "code",
   "execution_count": null,
   "metadata": {},
   "outputs": [],
   "source": [
    "# Getting the coordinate from the dlc folder for now\n",
    "cup_object_set = 1642520604\n",
    "l_cup_img_dir = './dataset/{}/left/'.format(cup_object_set)\n",
    "r_cup_img_dir = './dataset/{}/right/'.format(cup_object_set)\n",
    "cup_disp_path = './dataset/{}/disparity/'.format(cup_object_set)\n",
    "\n",
    "l_cup_datafile = '../camera-main/videos/{}/{}-leftDLC_dlcrnetms5_make_tea_01052022Jan5shuffle1_40000_full.pickle'.format(cup_object_set, cup_object_set)\n",
    "r_cup_datafile = '../camera-main/videos/{}/{}-rightDLC_dlcrnetms5_make_tea_01052022Jan5shuffle1_40000_full.pickle'.format(cup_object_set, cup_object_set)\n",
    "\n",
    "\n",
    "with open(r_cup_datafile, 'rb') as file:\n",
    "    r_cup_data = pkl.load(file)\n",
    "with open(l_cup_datafile, 'rb') as file:\n",
    "    l_cup_data = pkl.load(file)\n",
    "\n",
    "cup_coordinate3D = LEAStereoCoordinate(l_cup_img_dir, cup_disp_path, l_cup_data)\n",
    "cup_model_pos = []\n",
    "for i in cup_coordinate3D.keys():\n",
    "    holder = []\n",
    "    for pos in cup_coordinate3D[i][2:5]:\n",
    "        holder.append([pos['X'], pos['Y'], pos['Z']])\n",
    "    cup_model_pos.append(holder)\n",
    "    \n",
    "cup_model_vect, cup_model_dist = getMeasurements(cup_model_pos)\n",
    "# print([cup_true_dist[i] - cup_model_dist[i] for i in range(len(cup_true_dist))])\n",
    "print('Cup LEAstereo MSE:', mean_squared_error(cup_tb_true_dist, cup_model_dist))\n",
    "\n",
    "xaxis_cup_model_loss = consistencyLoss(cup_model_vect[:9])\n",
    "yaxis_cup_model_loss = consistencyLoss(cup_model_vect[9:16])\n",
    "diagon_cup_model_loss = consistencyLoss(cup_model_vect[16:])\n",
    "print('Cup Axis Model Loss(LEAStereo):', xaxis_cup_model_loss, yaxis_cup_model_loss, diagon_cup_model_loss)"
   ]
  },
  {
   "cell_type": "code",
   "execution_count": null,
   "metadata": {},
   "outputs": [],
   "source": [
    "cup_dlc_pos = []\n",
    "cup3d_path = '../camera-main/videos/{}/{}_make_tea_3D.csv'.format(cup_object_set,cup_object_set)\n",
    "cup3d_csv = pd.read_csv(cup3d_path)\n",
    "part1 = cup3d_csv.iloc[0].tolist()\n",
    "part2 = cup3d_csv.iloc[1].tolist()\n",
    "part3 = cup3d_csv.iloc[2].tolist()\n",
    "\n",
    "new_headers = formHeaders(part1, [part2, part3])\n",
    "new_cup3d_csv = cup3d_csv[3:].copy()\n",
    "new_cup3d_csv.columns = new_headers\n",
    "new_cup3d_csv.reset_index(inplace=True)\n",
    "new_cup3d_csv = new_cup3d_csv.loc[:,['single-cup_h-x', 'single-cup_h-y', 'single-cup_h-z',\n",
    "                                    'single-cup_m-x', 'single-cup_m-y', 'single-cup_m-z',\n",
    "                                    'single-cup_t-x', 'single-cup_t-y', 'single-cup_t-z']]\n",
    "\n",
    "\n",
    "# new_tap3d_csv = new_tap3d_csv.drop(new_tap3d_csv.columns[[0]], axis=1) \n",
    "for i in saved_indices[cup_object_set]:\n",
    "    row = [float(i) for i in new_cup3d_csv.iloc[i].tolist()]\n",
    "    cup_dlc_pos.append([row[:3], row[3:6], row[6:9]])\n",
    "    \n",
    "cup_dlc_vect, cup_dlc_dist = getMeasurements(cup_dlc_pos)\n",
    "scales = np.arange(1.5, 3, 0.05)\n",
    "loss = findLosses(cup_tb_true_dist, cup_dlc_dist, scales)\n",
    "\n",
    "plt.plot(scales, loss)\n",
    "print('Cup Min DLC MSE:', min(loss))\n",
    "xaxis_cup_dlc_loss = consistencyLoss(cup_dlc_vect[:9])\n",
    "yaxis_cup_dlc_loss = consistencyLoss(cup_dlc_vect[9:16])\n",
    "diagon_cup_dlc_loss = consistencyLoss(cup_dlc_vect[16:])\n",
    "print('Cup Axis Consistency Loss(DLC):', xaxis_cup_dlc_loss, yaxis_cup_dlc_loss, diagon_cup_dlc_loss)"
   ]
  },
  {
   "cell_type": "markdown",
   "metadata": {},
   "source": [
    "### 3D Trackerlet Plot for Cup using LEAStereo"
   ]
  },
  {
   "cell_type": "code",
   "execution_count": null,
   "metadata": {},
   "outputs": [],
   "source": [
    "cup_model_df = pd.DataFrame(np.array(cup_model_pos).reshape(-1, 3))\n",
    "cup_model_df['time'] = cup_model_df.index\n",
    "fig = px.scatter_3d(cup_model_df,x=0,y=1,z=2,color='time')\n",
    "fig.update_traces(marker=dict(size=3))\n",
    "fig.show()"
   ]
  },
  {
   "cell_type": "markdown",
   "metadata": {},
   "source": [
    "### 3D Trackerlet Plot for Cup using DLC"
   ]
  },
  {
   "cell_type": "code",
   "execution_count": null,
   "metadata": {},
   "outputs": [],
   "source": [
    "cup_dlc_df = pd.DataFrame(np.array(cup_dlc_pos).reshape(-1, 3))\n",
    "cup_dlc_df['time'] = cup_dlc_df.index\n",
    "fig = px.scatter_3d(cup_dlc_df, x=0, y=1, z=2, color='time')\n",
    "fig.update_traces(marker=dict(size=3))\n",
    "fig.show()"
   ]
  },
  {
   "cell_type": "markdown",
   "metadata": {},
   "source": [
    "## Model Comparison over Pitcher"
   ]
  },
  {
   "cell_type": "code",
   "execution_count": null,
   "metadata": {},
   "outputs": [],
   "source": [
    "## Getting the coordinate from the dlc folder for now\n",
    "pitcher_object_set = 1642520848\n",
    "l_pitcher_img_dir = './dataset/{}/left/'.format(pitcher_object_set)\n",
    "r_pitcher_img_dir = './dataset/{}/right/'.format(pitcher_object_set)\n",
    "pitcher_disp_path = './dataset/{}/disparity/'.format(pitcher_object_set)\n",
    "\n",
    "l_pitcher_datafile = '../camera-main/videos/{}/{}-leftDLC_dlcrnetms5_make_tea_01052022Jan5shuffle1_40000_full.pickle'.format(pitcher_object_set, pitcher_object_set)\n",
    "r_pitcher_datafile = '../camera-main/videos/{}/{}-rightDLC_dlcrnetms5_make_tea_01052022Jan5shuffle1_40000_full.pickle'.format(pitcher_object_set, pitcher_object_set)\n",
    "\n",
    "with open(r_pitcher_datafile, 'rb') as file:\n",
    "    r_pitcher_data = pkl.load(file)\n",
    "with open(l_pitcher_datafile, 'rb') as file:\n",
    "    l_pitcher_data = pkl.load(file)\n",
    "\n",
    "    \n",
    "pitcher_true_vect = []\n",
    "pitcher_true_dist = []\n",
    "prev = False\n",
    "for pos in pitcher_true_pos:\n",
    "    if prev: pitcher_true_vect.append([pos[i] - prev[i] for i in range(len(pos))])\n",
    "    prev = pos\n",
    "    \n",
    "for vec in pitcher_true_vect:\n",
    "    vec = [GRID_LENGTH*i for i in vec]\n",
    "    pitcher_true_dist.append(distanceCal(*vec))\n",
    "    \n",
    "pitcher_coordinate3D = LEAStereoCoordinate(l_pitcher_img_dir, pitcher_disp_path, l_pitcher_data)\n",
    "pitcher_model_pos = []\n",
    "for i in pitcher_coordinate3D.keys():\n",
    "    holder = []\n",
    "    for pos in pitcher_coordinate3D[i][5:8]:\n",
    "        holder.append([pos['X'], pos['Y'], pos['Z']])\n",
    "    pitcher_model_pos.append(holder)\n",
    "    \n",
    "pitcher_model_vect, pitcher_model_dist = getMeasurements(pitcher_model_pos)\n",
    "# print([pitcher_true_dist[i] - pitcher_model_dist[i] for i in range(len(pitcher_true_dist))])\n",
    "print('Pitcher LEAstereo MSE:', mean_squared_error(pitcher_true_dist, pitcher_model_dist))\n",
    "\n",
    "xaxis_pitcher_model_loss = consistencyLoss(pitcher_model_vect[:8])\n",
    "yaxis_pitcher_model_loss = consistencyLoss(pitcher_model_vect[8:12])\n",
    "diagon_pitcher_model_loss = consistencyLoss(pitcher_model_vect[12:])\n",
    "print('Pitcher Axis Consistency Loss(LEAStereo):', xaxis_pitcher_model_loss, yaxis_pitcher_model_loss, diagon_pitcher_model_loss)"
   ]
  },
  {
   "cell_type": "code",
   "execution_count": null,
   "metadata": {},
   "outputs": [],
   "source": [
    "pitcher_dlc_pos = []\n",
    "pitcher3d_path = '../camera-main/videos/{}/{}_make_tea_3D.csv'.format(pitcher_object_set, pitcher_object_set)\n",
    "pitcher3d_csv = pd.read_csv(pitcher3d_path)\n",
    "part1 = pitcher3d_csv.iloc[0].tolist()\n",
    "part2 = pitcher3d_csv.iloc[1].tolist()\n",
    "part3 = pitcher3d_csv.iloc[2].tolist()\n",
    "\n",
    "new_headers = formHeaders(part1, [part2, part3])\n",
    "new_pitcher3d_csv = pitcher3d_csv[3:].copy()\n",
    "new_pitcher3d_csv.columns = new_headers\n",
    "\n",
    "new_pitcher3d_csv.reset_index(inplace=True)\n",
    "new_pitcher3d_csv = new_pitcher3d_csv.loc[:,['single-pitcher_h-x', 'single-pitcher_h-y', 'single-pitcher_h-z',\n",
    "                                    'single-pitcher_m-x', 'single-pitcher_m-y', 'single-pitcher_m-z',\n",
    "                                    'single-pitcher_t-x', 'single-pitcher_t-y', 'single-pitcher_t-z']]\n",
    "for i in saved_indices[pitcher_object_set]:\n",
    "    row = [float(i) for i in new_pitcher3d_csv.iloc[i].tolist()]\n",
    "    pitcher_dlc_pos.append([row[:3], row[3:6], row[6:9]])\n",
    "    \n",
    "pitcher_dlc_vect, pitcher_dlc_dist = getMeasurements(pitcher_dlc_pos)\n",
    "scales = np.arange(1.5, 3, 0.05)\n",
    "loss = findLosses(pitcher_true_dist, pitcher_dlc_dist, scales)\n",
    "\n",
    "plt.plot(scales, loss)\n",
    "print('Pitcher Min MSE:', min(loss))\n",
    "\n",
    "xaxis_dlc_loss = consistencyLoss(pitcher_dlc_vect[:8])\n",
    "yaxis_dlc_loss = consistencyLoss(pitcher_dlc_vect[8:12])\n",
    "diagonal_dlc_loss = consistencyLoss(pitcher_dlc_vect[12:])\n",
    "print('Pitcher Axis Consistency Loss(DLC):', xaxis_dlc_loss, yaxis_dlc_loss, diagonal_dlc_loss)"
   ]
  },
  {
   "cell_type": "markdown",
   "metadata": {},
   "source": [
    "### 3D Trackerlet Plot for Pitcher using LEAStereo"
   ]
  },
  {
   "cell_type": "code",
   "execution_count": null,
   "metadata": {},
   "outputs": [],
   "source": [
    "import plotly.express as px\n",
    "pitcher_model_df = pd.DataFrame(np.array(pitcher_model_pos).reshape(-1, 3))\n",
    "pitcher_model_df['time'] = pitcher_model_df.index\n",
    "fig = px.scatter_3d(pitcher_model_df,x=0,y=1,z=2,color='time')\n",
    "fig.update_traces(marker=dict(size=3))\n",
    "fig.show()"
   ]
  },
  {
   "cell_type": "markdown",
   "metadata": {},
   "source": [
    "### 3D Trackerlet Plot for Pitcher using DLC"
   ]
  },
  {
   "cell_type": "code",
   "execution_count": null,
   "metadata": {},
   "outputs": [],
   "source": [
    "pitcher_dlc_df = pd.DataFrame(np.array(pitcher_dlc_pos).reshape(-1, 3))\n",
    "pitcher_dlc_df['time'] = pitcher_dlc_df.index\n",
    "fig = px.scatter_3d(pitcher_dlc_df, x=0, y=1, z=2, color='time')\n",
    "fig.update_traces(marker=dict(size=3))\n",
    "fig.show()"
   ]
  },
  {
   "cell_type": "code",
   "execution_count": null,
   "metadata": {
    "scrolled": false
   },
   "outputs": [],
   "source": [
    "# count = 1\n",
    "\n",
    "# for ind, key in enumerate(cup_coordinate3D.keys()):\n",
    "#     lx, ly, rx = [], [], [] \n",
    "#     dlc_ry, dlc_rx = [], [] \n",
    "#     right_coord = r_cup_data[key]['coordinates'][0]\n",
    "# #     for pix in right_coord:\n",
    "# #         if len(pix) == 0: continue\n",
    "# #         x_l, y_l = (int(i) for dim, i in enumerate(pix[0]))\n",
    "# #         dlc_ry.append(y_l)\n",
    "# #         dlc_rx.append(x_l)\n",
    "#     for coor in cup_coordinate3D[key][2:5]:\n",
    "#         lx.append(coor['left_x'])\n",
    "#         ly.append(coor['left_y'])\n",
    "#         rx.append(coor['right_x'])\n",
    "#     img_file = next(filename for filename in os.listdir(l_cup_img_dir) \n",
    "#                     if int(filename.split('.')[0][5:])==int(key.split('.')[0][5:]))\n",
    "#     img_left = imageio.imread(l_cup_img_dir + img_file)\n",
    "#     img_right = imageio.imread(r_cup_img_dir + img_file)\n",
    "\n",
    "#     disp_path = \"{}_disp.npy\".format(cup_disp_path + img_file.split('.')[0])\n",
    "#     img_disparity = np.load(disp_path)\n",
    "#     fig = plt.figure(figsize=(20, 40))\n",
    "\n",
    "#     fig.add_subplot(5, 4, count)\n",
    "#     plt.title('Left Image')\n",
    "#     plt.imshow(img_left)\n",
    "#     plt.scatter(lx, ly)\n",
    "#     fig.add_subplot(5, 4, count+1)\n",
    "#     plt.title('Right Image')\n",
    "#     plt.imshow(img_right)\n",
    "#     plt.scatter(rx, ly)\n",
    "# #     plt.scatter(dlc_rx, dlc_ry)\n",
    "#     count += 2\n",
    "# #     fig.add_subplot(3, 1, 3)\n",
    "# #     plt.title('Disparity (Left-Camerea View)')\n",
    "# #     plt.imshow(img_disparity)"
   ]
  },
  {
   "cell_type": "code",
   "execution_count": null,
   "metadata": {},
   "outputs": [],
   "source": [
    "# # combined leastereo distances\n",
    "# combine_true_dist = tb_true_dist + tap_true_dist + cup_true_dist\n",
    "# combine_model_dist = tb_model_dist + tap_model_dist + cup_model_dist\n",
    "# combine_dlc_dist = tb_dlc_dist + tap_dlc_dist + cup_dlc_dist\n",
    "\n",
    "# scales = np.arange(2, 3, 0.05)\n",
    "# combine_model_mse = mean_squared_error(combine_true_dist, combine_model_dist)\n",
    "# combine_dlc_mse = findLosses(combine_true_dist, combine_dlc_dist, scales)\n",
    "\n",
    "# plt.plot(scales, combine_dlc_mse)\n",
    "# print('Combine Min LEAstereo MSE:', combine_model_mse)\n",
    "# print('Combine Min DLC MSE:', min(combine_dlc_mse))"
   ]
  },
  {
   "cell_type": "code",
   "execution_count": null,
   "metadata": {
    "scrolled": true
   },
   "outputs": [],
   "source": [
    "\n",
    "# count=0\n",
    "# extra_path = '../camera-main/videos/1642519365/1642519365-left.mp4'\n",
    "# vidcap = cv2.VideoCapture(extra_path)\n",
    "# success, first_frame = vidcap.read()\n",
    "# while success:\n",
    "# #     cv2.imwrite(os.path.join(l_img_dir, \"frame{}.jpg\".format(str(count).zfill(2))), image)     # save frame as JPEG file      \n",
    "#     success, image = vidcap.read()\n",
    "#     print('Read a new frame: ', success, count)\n",
    "#     cv2.imshow(\"Input\", image)\n",
    "#     cv2.waitKey(0)\n",
    "#     count += 1"
   ]
  }
 ],
 "metadata": {
  "kernelspec": {
   "display_name": "Python 3",
   "language": "python",
   "name": "python3"
  },
  "language_info": {
   "codemirror_mode": {
    "name": "ipython",
    "version": 3
   },
   "file_extension": ".py",
   "mimetype": "text/x-python",
   "name": "python",
   "nbconvert_exporter": "python",
   "pygments_lexer": "ipython3",
   "version": "3.8.12"
  }
 },
 "nbformat": 4,
 "nbformat_minor": 4
}
