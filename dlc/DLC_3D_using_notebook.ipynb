{
 "cells": [
  {
   "cell_type": "code",
   "execution_count": 3,
   "id": "cb8ed7a5",
   "metadata": {},
   "outputs": [],
   "source": [
    "import deeplabcut\n",
    "\n",
    "project_name = 'make_tea_3d'\n",
    "nameoflabeler = 'Luke_Yinghan'"
   ]
  },
  {
   "cell_type": "markdown",
   "id": "6a6a940c",
   "metadata": {},
   "source": [
    "# Create new 3d project"
   ]
  },
  {
   "cell_type": "code",
   "execution_count": 2,
   "id": "d8541bad",
   "metadata": {},
   "outputs": [
    {
     "name": "stdout",
     "output_type": "stream",
     "text": [
      "Created \"/Users/luke/make_tea/dlc/make_tea_3d-Luke_Yinghan-2022-01-13-3d/camera_matrix\"\n",
      "Created \"/Users/luke/make_tea/dlc/make_tea_3d-Luke_Yinghan-2022-01-13-3d/calibration_images\"\n",
      "Created \"/Users/luke/make_tea/dlc/make_tea_3d-Luke_Yinghan-2022-01-13-3d/undistortion\"\n",
      "Created \"/Users/luke/make_tea/dlc/make_tea_3d-Luke_Yinghan-2022-01-13-3d/corners\"\n",
      "Created \"/Users/luke/make_tea/dlc/make_tea_3d-Luke_Yinghan-2022-01-13-3d/removed_calibration_images\"\n",
      "Generated \"/Users/luke/make_tea/dlc/make_tea_3d-Luke_Yinghan-2022-01-13-3d/config.yaml\"\n",
      "\n",
      "A new project with name make_tea_3d-Luke_Yinghan-2022-01-13-3d is created at /Users/luke/make_tea/dlc and a configurable file (config.yaml) is stored there. If you have not calibrated the cameras, then use the function 'calibrate_camera' to start calibrating the camera otherwise use the function ``triangulate`` to triangulate the dataframe\n"
     ]
    },
    {
     "data": {
      "text/plain": [
       "'/Users/luke/make_tea/dlc/make_tea_3d-Luke_Yinghan-2022-01-13-3d/config.yaml'"
      ]
     },
     "execution_count": 2,
     "metadata": {},
     "output_type": "execute_result"
    }
   ],
   "source": [
    "project_name = 'make_tea_3d'\n",
    "nameoflabeler = 'Luke_Yinghan'\n",
    "#deeplabcut.create_new_project_3d(project_name, nameoflabeler, num_cameras = 2)"
   ]
  },
  {
   "cell_type": "code",
   "execution_count": 1,
   "id": "2b09dd81",
   "metadata": {},
   "outputs": [],
   "source": [
    "config_path3d = '/home/make_tea/dlc/mmake_tea_3d-Luke_Yinghan-2022-01-13-3d/config.yaml'"
   ]
  },
  {
   "cell_type": "code",
   "execution_count": 2,
   "id": "1b0daca2",
   "metadata": {},
   "outputs": [
    {
     "ename": "NameError",
     "evalue": "name 'deeplabcut' is not defined",
     "output_type": "error",
     "traceback": [
      "\u001b[0;31m---------------------------------------------------------------------------\u001b[0m",
      "\u001b[0;31mNameError\u001b[0m                                 Traceback (most recent call last)",
      "\u001b[0;32m/var/folders/_m/qx_0ywhx0fj8kf5lws0pgj3w0000gp/T/ipykernel_7247/1009558292.py\u001b[0m in \u001b[0;36m<module>\u001b[0;34m\u001b[0m\n\u001b[0;32m----> 1\u001b[0;31m \u001b[0mdeeplabcut\u001b[0m\u001b[0;34m.\u001b[0m\u001b[0mcalibrate_cameras\u001b[0m\u001b[0;34m(\u001b[0m\u001b[0mconfig_path3d\u001b[0m\u001b[0;34m,\u001b[0m \u001b[0mcbrow\u001b[0m\u001b[0;34m=\u001b[0m\u001b[0;36m9\u001b[0m\u001b[0;34m,\u001b[0m \u001b[0mcbcol\u001b[0m\u001b[0;34m=\u001b[0m\u001b[0;36m6\u001b[0m\u001b[0;34m,\u001b[0m \u001b[0mcalibrate\u001b[0m\u001b[0;34m=\u001b[0m\u001b[0;32mFalse\u001b[0m\u001b[0;34m,\u001b[0m \u001b[0malpha\u001b[0m\u001b[0;34m=\u001b[0m\u001b[0;36m0.9\u001b[0m\u001b[0;34m)\u001b[0m\u001b[0;34m\u001b[0m\u001b[0;34m\u001b[0m\u001b[0m\n\u001b[0m",
      "\u001b[0;31mNameError\u001b[0m: name 'deeplabcut' is not defined"
     ]
    }
   ],
   "source": [
    "deeplabcut.calibrate_cameras(config_path3d, cbrow=9, cbcol=6, calibrate=False, alpha=0.9)"
   ]
  },
  {
   "cell_type": "code",
   "execution_count": null,
   "id": "ca887116",
   "metadata": {},
   "outputs": [],
   "source": []
  }
 ],
 "metadata": {
  "kernelspec": {
   "display_name": "Python [conda env:DEEPLABCUT] *",
   "language": "python",
   "name": "conda-env-DEEPLABCUT-py"
  },
  "language_info": {
   "codemirror_mode": {
    "name": "ipython",
    "version": 3
   },
   "file_extension": ".py",
   "mimetype": "text/x-python",
   "name": "python",
   "nbconvert_exporter": "python",
   "pygments_lexer": "ipython3",
   "version": "3.7.12"
  }
 },
 "nbformat": 4,
 "nbformat_minor": 5
}
