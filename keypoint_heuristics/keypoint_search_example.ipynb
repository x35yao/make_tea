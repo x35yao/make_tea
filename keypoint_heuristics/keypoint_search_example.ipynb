{
 "cells": [
  {
   "cell_type": "code",
   "execution_count": 3,
   "id": "collected-nurse",
   "metadata": {},
   "outputs": [],
   "source": [
    "import os\n",
    "import numpy as np\n",
    "import pandas as pd\n",
    "import pickle5 as pkl\n",
    "import plotly.express as px\n",
    "from keypoint_util import KeypointSelector\n",
    "\n",
    "\n",
    "data_folder = '../TargetObjectHeuristic/heuristic_test/'\n",
    "data497 = '1645721497'\n",
    "\n",
    "with open(os.path.join(data_folder, data497, 'labeled_actions_new.pkl'), 'rb') as f:\n",
    "    label_actions = pkl.load(f)\n",
    "trajectory_file = os.path.join(data_folder, data497, 'obj_pose_trajectory_interpolated_median.h5')\n",
    "trajectory_dataset = pd.read_hdf(trajectory_file)\n",
    "all_objs = ['tap', 'pitcher', 'cup', 'teabag1', 'teabag2']\n",
    "\n",
    "selector = KeypointSelector(1, 2)"
   ]
  },
  {
   "cell_type": "code",
   "execution_count": null,
   "id": "prime-fleet",
   "metadata": {},
   "outputs": [],
   "source": [
    "instance = label_actions[4]\n",
    "moving_obj = instance['moving_obj']\n",
    "moving_obj_traj = []\n",
    "target_obj_traj = {}\n",
    "df_lst = []\n",
    "for idx in range(instance['start'], instance['end']):\n",
    "    row = trajectory_dataset[moving_obj].iloc[idx]\n",
    "    moving_obj_traj.append([row.x, row.y, row.z])\n",
    "model_df = pd.DataFrame(np.array(moving_obj_traj).reshape(-1, 3))\n",
    "model_df['obj'] = moving_obj\n",
    "df_lst.append(model_df)\n",
    "\n",
    "# fill target object trajectory dict\n",
    "for other_obj in all_objs:\n",
    "    if other_obj!=moving_obj:\n",
    "        target_obj_traj[other_obj] =  []\n",
    "        for idx in range(instance['start'], instance['end']):\n",
    "            row = trajectory_dataset[other_obj].iloc[idx]\n",
    "            target_obj_traj[other_obj].append([row.x, row.y, row.z])\n",
    "        model_df = pd.DataFrame(np.array(target_obj_traj[other_obj]).reshape(-1, 3))\n",
    "        model_df['obj'] = other_obj\n",
    "        df_lst.append(model_df)\n",
    "        \n",
    "obj_graph = pd.concat(df_lst)\n",
    "keypoints = selector.search(moving_obj_traj)"
   ]
  },
  {
   "cell_type": "code",
   "execution_count": null,
   "id": "parallel-dakota",
   "metadata": {},
   "outputs": [],
   "source": [
    "obj_graph = pd.concat(df_lst)\n",
    "obj_graph.columns = ['x', 'y', 'z', 'obj']\n",
    "obj_graph = obj_graph.iloc[keypoints]\n",
    "fig = px.scatter_3d(obj_graph,x='x',y='y',z='z',color='obj')\n",
    "fig = px.scatter_3d(obj_graph,x='x',y='y',z='z',color='obj')\n",
    "fig.update_traces(marker=dict(size=3))\n",
    "fig.show()"
   ]
  }
 ],
 "metadata": {
  "kernelspec": {
   "display_name": "Python 3",
   "language": "python",
   "name": "python3"
  },
  "language_info": {
   "codemirror_mode": {
    "name": "ipython",
    "version": 3
   },
   "file_extension": ".py",
   "mimetype": "text/x-python",
   "name": "python",
   "nbconvert_exporter": "python",
   "pygments_lexer": "ipython3",
   "version": "3.8.10"
  }
 },
 "nbformat": 4,
 "nbformat_minor": 5
}
