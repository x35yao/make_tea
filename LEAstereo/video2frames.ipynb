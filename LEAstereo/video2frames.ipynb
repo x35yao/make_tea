{
 "cells": [
  {
   "cell_type": "code",
   "execution_count": 5,
   "id": "hydraulic-phoenix",
   "metadata": {},
   "outputs": [],
   "source": [
    "import os\n",
    "import cv2\n",
    "import pickle as pkl\n",
    "\n",
    "\n",
    "# tap_index = [10, 115, 210, 330, 425, 560]\n",
    "# teabag_index = [10,100, 180, 290, 360, 480, 600, 700]\n",
    "# cup_index = [10, 80, 150, 220, 320, 420, 530, 620]\n",
    "\n",
    "# saved_indices = {}\n",
    "# saved_indices['cup_all_testset'] = cup_index\n",
    "# saved_indices['teabag_all_testset'] = teabag_index\n",
    "# saved_indices['tap_all_testset'] = tap_index\n",
    "# with open('./selected_indices.pkl', 'wb') as file:\n",
    "#     pkl.dump(saved_indices, file)\n",
    "\n",
    "\n",
    "orig_img_dir = 'cup_all_testset'\n",
    "video_id = 1639767445\n",
    "\n",
    "\n",
    "with open('selected_indices.pkl', 'rb') as file:\n",
    "    saved_indices = pkl.load(file)\n",
    "left_video_path = '../camera-main/videos/{}/{}-left.mp4'.format(orig_img_dir, video_id)\n",
    "right_video_path = '../camera-main/videos/{}/{}-right.mp4'.format(orig_img_dir, video_id)\n",
    "\n",
    "l_img_dir = './dataset/{}/left/'.format(orig_img_dir)\n",
    "r_img_dir = './dataset/{}/right/'.format(orig_img_dir)\n",
    "if not os.path.exists(l_img_dir):\n",
    "    os.makedirs(l_img_dir)\n",
    "if not os.path.exists(r_img_dir):\n",
    "    os.makedirs(r_img_dir)\n",
    "    \n",
    "vidcap = cv2.VideoCapture(left_video_path)\n",
    "success, image = vidcap.read()\n",
    "count = 0\n",
    "while success:\n",
    "    if count in saved_indices[orig_img_dir]:\n",
    "        cv2.imwrite(os.path.join(l_img_dir, \"frame{}.jpg\".format(str(count).zfill(3))), image)        \n",
    "    success, image = vidcap.read()\n",
    "    count += 1\n",
    "    \n",
    "vidcap = cv2.VideoCapture(right_video_path)\n",
    "success, image = vidcap.read()\n",
    "count = 0\n",
    "while success:\n",
    "    if count in saved_indices[orig_img_dir]:\n",
    "        cv2.imwrite(os.path.join(r_img_dir, \"frame{}.jpg\".format(str(count).zfill(3))), image)     \n",
    "    success, image = vidcap.read()\n",
    "    count += 1"
   ]
  },
  {
   "cell_type": "code",
   "execution_count": 6,
   "id": "documentary-leave",
   "metadata": {},
   "outputs": [
    {
     "data": {
      "text/plain": [
       "{'cup_all_testset': [10, 80, 150, 220, 320, 420, 530, 620],\n",
       " 'teabag_all_testset': [10, 100, 180, 290, 360, 480, 600, 700],\n",
       " 'tap_all_testset': [10, 115, 210, 330, 425, 560]}"
      ]
     },
     "execution_count": 6,
     "metadata": {},
     "output_type": "execute_result"
    }
   ],
   "source": [
    "saved_indices"
   ]
  }
 ],
 "metadata": {
  "kernelspec": {
   "display_name": "Python 3",
   "language": "python",
   "name": "python3"
  },
  "language_info": {
   "codemirror_mode": {
    "name": "ipython",
    "version": 3
   },
   "file_extension": ".py",
   "mimetype": "text/x-python",
   "name": "python",
   "nbconvert_exporter": "python",
   "pygments_lexer": "ipython3",
   "version": "3.8.10"
  }
 },
 "nbformat": 4,
 "nbformat_minor": 5
}
