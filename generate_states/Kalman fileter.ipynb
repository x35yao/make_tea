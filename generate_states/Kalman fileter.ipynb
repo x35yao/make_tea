{
 "cells": [
  {
   "cell_type": "markdown",
   "id": "3cfb80a6",
   "metadata": {},
   "source": [
    "# Step 1 Predict new state\n",
    "\n",
    "$\\hat{X_k} = AX_{k - 1} + B u_k$, where in our case:\n",
    "\n",
    "$\\hat{X_k}$: is the predicated velocity and location $[\\hat{x_k}, \\hat{\\dot{x_k}}]$.\n",
    "\n",
    "$X_{k - 1}$: is the previous true X. $X = [x_{k-1}, \\dot{x_{k-1}}]$\n",
    "\n",
    "$u_k$: is the acceleration $a = \\ddot{x_k}$\n",
    "\n",
    "\n",
    "$A$: deals with previous location and velocity $\\begin{bmatrix} 1 & \\delta t \\\\ 0 &1 \\end{bmatrix}$\n",
    "\n",
    "$B$: deals with acceleration. $\\begin{bmatrix} \\frac{1}{2} \\delta t^2 \\\\ \\delta t \\end{bmatrix}$"
   ]
  },
  {
   "cell_type": "markdown",
   "id": "2a7e8c65",
   "metadata": {},
   "source": [
    "# Step 2 Predicte new process covariance (error of predicting)\n",
    "\n",
    "$\\hat{P_k} = A P_{k-1}A^T$\n",
    "\n",
    "$P$: denotes the prediction error and is intilized using inuition ."
   ]
  },
  {
   "cell_type": "markdown",
   "id": "4250a676",
   "metadata": {},
   "source": [
    "# Step 3 update the gain(core)\n",
    "\n",
    "$K = \\frac{\\hat{P_k} H}{H\\hat{P_k}H^T + R}$\n",
    "\n",
    "$H$: a matrix to make P to have the correct size\n",
    "\n",
    "$R$: Measurement error that need to be approximated!!!(autocovirance?????)"
   ]
  },
  {
   "cell_type": "markdown",
   "id": "3c02cad6",
   "metadata": {},
   "source": [
    "# Step 4 Update the true $X$ given prediction and measurement\n",
    "\n",
    "$X_k = \\hat{X_k} + K[Y - H\\hat{X_k}]$\n",
    "\n",
    "$Y$: the measurement"
   ]
  },
  {
   "cell_type": "markdown",
   "id": "66b4ce0e",
   "metadata": {},
   "source": [
    "# Step 5 Update the true P\n",
    "\n",
    "$P_k = (I - KH)\\hat{P_k}$\n",
    "\n",
    "$I$: Identity matrix\n",
    "\n",
    "$H$: deal with the size"
   ]
  },
  {
   "cell_type": "code",
   "execution_count": null,
   "id": "84550361",
   "metadata": {},
   "outputs": [],
   "source": []
  }
 ],
 "metadata": {
  "kernelspec": {
   "display_name": "Python 3 (ipykernel)",
   "language": "python",
   "name": "python3"
  },
  "language_info": {
   "codemirror_mode": {
    "name": "ipython",
    "version": 3
   },
   "file_extension": ".py",
   "mimetype": "text/x-python",
   "name": "python",
   "nbconvert_exporter": "python",
   "pygments_lexer": "ipython3",
   "version": "3.8.12"
  }
 },
 "nbformat": 4,
 "nbformat_minor": 5
}
