{
 "cells": [
  {
   "cell_type": "code",
   "execution_count": 2,
   "id": "fb2f5453",
   "metadata": {},
   "outputs": [],
   "source": [
    "from sklearn.preprocessing import normalize\n",
    "\n",
    "def get_pos_mean(df, scorer, individual, bodyparts):\n",
    "    n_data = len(df)\n",
    "    data = df[scorer][individual]\n",
    "    n_bodyparts = len(bodyparts)\n",
    "    pos_mean = np.zeros((n_data, 3))\n",
    "\n",
    "    for bp in bodyparts:\n",
    "        pos_mean += df[scorer][individual][bp].values \n",
    "    return pos_mean/n_bodyparts\n",
    "\n",
    "\n",
    "def get_ori_mean(df, scorer, individual, bodyparts):\n",
    "    n_data = len(df)\n",
    "    data = df[scorer][individual]\n",
    "    n_bodyparts = len(bodyparts)\n",
    "    n_pairs = int(n_bodyparts/2)\n",
    "    ori_mean = np.zeros((n_data, 3))\n",
    "\n",
    "    for i in range(n_pairs):\n",
    "        bp_h = bodyparts[i]\n",
    "        bp_t = bodyparts[-(i+1)]\n",
    "        if not bp_h == bp_t:\n",
    "            ori_mean += normalize((df[scorer][individual][bp_h].values - df[scorer][individual][bp_t].values), axis = 1)\n",
    "    return normalize(ori_mean, axis = 1)"
   ]
  },
  {
   "cell_type": "code",
   "execution_count": 3,
   "id": "87165913",
   "metadata": {},
   "outputs": [],
   "source": [
    "import pandas as pd\n",
    "import numpy as np\n",
    "from glob import glob\n",
    "\n",
    "\n",
    "def get_trajectory(file_path, nan_method = 'drop'):\n",
    "    \n",
    "    '''\n",
    "    This function will take the file(obtained from trangulation) that containes the trajectories of the markers. \n",
    "    Markers of the same object will be used to compute the position and orientation of each object at each frame.\n",
    "    \n",
    "    file_path: path to the file that containes the 3D trajectories of the makers.\n",
    "    \n",
    "    nan_method: method to deal with the Nans in the dataframe. Options: 'drop', 'fill'\n",
    "                'drop': This will just drop all the rows that contain Nans\n",
    "                'fill': This will fill the Nans from previous non-Nan value if applicable. If there is no previous \n",
    "                        non-Nan value, it will fill the Nans from the following non-Nan value.\n",
    "    '''\n",
    "        \n",
    "    df = pd.read_hdf(file_path)\n",
    "    if nan_method == 'fill':\n",
    "        df = df.fillna(method = 'ffill').fillna(method = 'bfill') # get rid of NaNs\n",
    "    elif nan_method == 'drop':\n",
    "        df = df.dropna()\n",
    "    scorer = df.columns.get_level_values('scorer').unique()[0]\n",
    "    individuals = df.columns.get_level_values('individuals').unique()\n",
    "\n",
    "    df_new = pd.DataFrame()\n",
    "\n",
    "    for individual in individuals:\n",
    "        bodyparts = df[scorer][individual].columns.get_level_values('bodyparts').unique()\n",
    "        n_bp = len(bodyparts)\n",
    "        if individual != 'single':\n",
    "            # this is an individual\n",
    "            pos_mean = get_pos_mean(df, scorer, individual, bodyparts)\n",
    "            ori_mean = get_ori_mean(df, scorer, individual, bodyparts)\n",
    "            pose_mean = np.concatenate((pos_mean, ori_mean), axis = 1)\n",
    "            pdindex = pd.MultiIndex.from_product(\n",
    "                        [[individual], [\"x\", \"y\", \"z\", \"X\", \"Y\",\"Z\"]],\n",
    "                        names=[\"individuals\",\"pose\"],\n",
    "                    )\n",
    "            frame = pd.DataFrame(pose_mean, columns=pdindex)\n",
    "            df_new = pd.concat([frame, df_new], axis=1)\n",
    "        elif individual == 'single':\n",
    "            # these are the unique objects(pitcher, cup etc there is only one of which in the scene)\n",
    "            uniques = set([bp.split('_')[0] for bp in bodyparts])\n",
    "            for unique in uniques:\n",
    "                bodyparts_u = [bp for bp in bodyparts if bp.split('_')[0] == unique]\n",
    "                pos_mean = get_pos_mean(df, scorer, individual, bodyparts_u)\n",
    "                ori_mean = get_ori_mean(df, scorer, individual, bodyparts_u)\n",
    "                pose_mean = np.concatenate((pos_mean, ori_mean), axis = 1)\n",
    "                pdindex = pd.MultiIndex.from_product(\n",
    "                            [[unique], [\"x\", \"y\", \"z\", \"X\", \"Y\",\"Z\"]],\n",
    "                            names=[\"individuals\",\"pose\"],\n",
    "                        )\n",
    "                frame = pd.DataFrame(pose_mean, columns=pdindex)\n",
    "                df_new = pd.concat([frame, df_new], axis=1)\n",
    "    return df_new"
   ]
  },
  {
   "cell_type": "code",
   "execution_count": 86,
   "id": "cf03d0b7",
   "metadata": {},
   "outputs": [],
   "source": [
    "files = glob('../camera-main/videos/1641421641/*_3D.h5')\n",
    "file = files[0]\n",
    "df_new = get_trajectory(file, nan_method = 'fill')"
   ]
  },
  {
   "cell_type": "code",
   "execution_count": 29,
   "id": "d3a1d5ff",
   "metadata": {},
   "outputs": [],
   "source": [
    "def get_velocity(x):  \n",
    "    v = np.zeros_like(x)\n",
    "    for i, data in enumerate(x):\n",
    "        if i == 0:\n",
    "            v[i] = np.nan\n",
    "        else:\n",
    "            v[i] = x[i] - x[i - 1]\n",
    "    return v\n",
    "\n",
    "def get_acceleration(v):\n",
    "    a = np.zeros_like(v)\n",
    "    for i, data in enumerate(v):\n",
    "        if i == 0 or i == 1:\n",
    "            a[i] = np.nan\n",
    "        else:\n",
    "            a[i] = v[i] - v[i - 1]\n",
    "    return a\n",
    "    \n",
    "    "
   ]
  },
  {
   "cell_type": "code",
   "execution_count": 39,
   "id": "cf91a2a7",
   "metadata": {},
   "outputs": [],
   "source": [
    "x = df_new['pitcher']['x'].values\n",
    "v_forward = get_velocity(x)\n",
    "a_forward = get_acceleration(v)\n",
    "\n",
    "x_flip = np.flip(x)\n",
    "v_flip = get_velocity(x_flip)\n",
    "a_flip = get_acceleration(v_flip)\n",
    "v_backward = np.flip(v_flip)\n",
    "a_backward = np.flip(a_flip)\n",
    "\n",
    "x_diff_forward = np.zeros_like(x)\n",
    "for i , data in enumerate(x):\n",
    "    if i <= 2:\n",
    "        pass\n",
    "    else:\n",
    "        x_diff_forward[i] = v_forward[i - 1] + 0.5 * a[i - 1]"
   ]
  },
  {
   "cell_type": "code",
   "execution_count": 52,
   "id": "922db786",
   "metadata": {},
   "outputs": [],
   "source": [
    "x_diff = np.zeros_like(x)\n",
    "for i , data in enumerate(x):\n",
    "    if i <= 2:\n",
    "        pass\n",
    "    else:\n",
    "        x_diff[i] = 1.5 * x[i - 1] - 2 * x[i - 2] + 0.5 * x[i - 3]"
   ]
  },
  {
   "cell_type": "code",
   "execution_count": 72,
   "id": "8d4c09fd",
   "metadata": {},
   "outputs": [],
   "source": [
    "def get_distance(x):\n",
    "    x_diff = np.zeros_like(x)\n",
    "    for i , data in enumerate(x):\n",
    "        if i <= 1:\n",
    "            pass\n",
    "        else:\n",
    "            x_diff[i] = 1.5 * x[i] - 2 * x[i - 1] + 0.5 * x[i - 2]\n",
    "    return x_diff\n",
    "\n",
    "def get_x_prime(x, x_diff):\n",
    "    \n",
    "    x_p = np.roll(x + x_diff, 1)\n",
    "    x_p[0:3] = np.nan\n",
    "    return x_p\n",
    "    "
   ]
  },
  {
   "cell_type": "code",
   "execution_count": 97,
   "id": "8518d069",
   "metadata": {},
   "outputs": [],
   "source": [
    "def get_x_p_average(x):\n",
    "    x_dist_f = get_distance(x)\n",
    "    x_p_f = get_x_prime(x, x_dist_f)\n",
    "\n",
    "    x_flip = np.flip(x)\n",
    "    x_dist_flip = get_distance(x_flip)\n",
    "    x_p_b = np.flip(get_x_prime(x_flip, x_dist_flip))\n",
    "\n",
    "    x_p_average = (x_p_f + x_p_b) / 2\n",
    "    return x_p_average\n",
    "    "
   ]
  },
  {
   "cell_type": "code",
   "execution_count": 129,
   "id": "ac5892ff",
   "metadata": {},
   "outputs": [
    {
     "data": {
      "text/plain": [
       "[<matplotlib.lines.Line2D at 0x7fb82c2a0df0>]"
      ]
     },
     "execution_count": 129,
     "metadata": {},
     "output_type": "execute_result"
    },
    {
     "data": {
      "image/png": "[encoded data removed]",
      "text/plain": [
       "<Figure size 432x288 with 1 Axes>"
      ]
     },
     "metadata": {
      "needs_background": "light"
     },
     "output_type": "display_data"
    }
   ],
   "source": [
    "obj = 'pitcher'\n",
    "\n",
    "x = df_new[obj]['x'].values\n",
    "y = df_new[obj]['y'].values\n",
    "z = df_new[obj]['z'].values\n",
    "\n",
    "x_p_average = get_x_p_average(x)\n",
    "y_p_average = get_x_p_average(y)\n",
    "z_p_average = get_x_p_average(z)\n",
    "\n",
    "error = np.sqrt((x - x_p_average)**2 + (y - y_p_average)**2 + (z - z_p_average)**2)\n",
    "\n",
    "from matplotlib import pyplot as plt\n",
    "\n",
    "plt.plot(error)"
   ]
  },
  {
   "cell_type": "code",
   "execution_count": null,
   "id": "2ab1ac1b",
   "metadata": {},
   "outputs": [],
   "source": []
  }
 ],
 "metadata": {
  "kernelspec": {
   "display_name": "Python 3 (ipykernel)",
   "language": "python",
   "name": "python3"
  },
  "language_info": {
   "codemirror_mode": {
    "name": "ipython",
    "version": 3
   },
   "file_extension": ".py",
   "mimetype": "text/x-python",
   "name": "python",
   "nbconvert_exporter": "python",
   "pygments_lexer": "ipython3",
   "version": "3.9.7"
  }
 },
 "nbformat": 4,
 "nbformat_minor": 5
}
