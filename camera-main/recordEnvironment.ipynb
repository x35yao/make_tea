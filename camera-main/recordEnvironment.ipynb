{
 "cells": [
  {
   "cell_type": "code",
   "execution_count": null,
   "metadata": {},
   "outputs": [],
   "source": []
  },
  {
   "cell_type": "code",
   "execution_count": null,
   "metadata": {},
   "outputs": [],
   "source": [
    "\n",
    "import pickle as pkl\n",
    "import cv2\n",
    "from datetime import datetime\n",
    "from realSense import RealSense2\n",
    "from ZED import ZEDCamera\n",
    "from time import sleep, time\n",
    "TOTAL_FRAMES = 500\n",
    "SAVED_FRAMES = 0\n",
    "OUTPUT_FILE = 'saved_frames'\n",
    "KEYBOARD_CAPTURE = False\n",
    "\n",
    "\n",
    "# output_file = \"ZED_test_video.svo\"\n",
    "# input_file = \"ZED_test_video.svo\"\n",
    "if __name__ == '__main__':\n",
    "    records = {'RS':[], 'ZED_L':[], 'ZED_R':[]}\n",
    "    zed_cam = ZEDCamera(resolution='1080')\n",
    "    rs_cam = RealSense2()\n",
    "    zed_cam.startStream()\n",
    "    reel = rs_cam.videoStream()\n",
    "    starting =time()\n",
    "    print('Begin')\n",
    "    while True:\n",
    "        if KEYBOARD_CAPTURE:\n",
    "            key = cv2.waitKey(0)\n",
    "            if key!=113: break\n",
    "        try:\n",
    "            zed_album = zed_cam.takePicture()\n",
    "            rs_album = reel.send(None)\n",
    "            if abs(zed_album.timestamp - rs_album.timestamp) > 0.1:\n",
    "                print(\"Frame capture time difference greater than 0.1 seconds.\")\n",
    "                continue\n",
    "#             records['RS'].append(rs_album.color)\n",
    "            records['ZED_L'].append(zed_album.color[:,:1920,:3])\n",
    "            records['ZED_R'].append(zed_album.color[:,1920:,:3])\n",
    "            SAVED_FRAMES += 1\n",
    "            print(\"captured frame {} of {}\".format(SAVED_FRAMES, TOTAL_FRAMES))\n",
    "        except TimeoutError:\n",
    "            continue\n",
    "        except KeyboardInterrupt:\n",
    "            break\n",
    "\n",
    "    zed_cam.closeStream()\n",
    "    rs_cam.closeStream()\n",
    "    print(starting - time())\n",
    "\n",
    "    with open(OUTPUT_FILE, 'wb') as file:\n",
    "        pkl.dump(records, file)"
   ]
  },
  {
   "cell_type": "code",
   "execution_count": 1,
   "metadata": {},
   "outputs": [
    {
     "ename": "EOFError",
     "evalue": "Ran out of input",
     "output_type": "error",
     "traceback": [
      "\u001b[1;31m---------------------------------------------------------------------------\u001b[0m",
      "\u001b[1;31mEOFError\u001b[0m                                  Traceback (most recent call last)",
      "\u001b[1;32m<ipython-input-1-67b56d88c9a9>\u001b[0m in \u001b[0;36m<module>\u001b[1;34m\u001b[0m\n\u001b[0;32m     12\u001b[0m \u001b[1;33m\u001b[0m\u001b[0m\n\u001b[0;32m     13\u001b[0m \u001b[1;32mwith\u001b[0m \u001b[0mopen\u001b[0m\u001b[1;33m(\u001b[0m\u001b[0mOUTPUT_FILE\u001b[0m\u001b[1;33m,\u001b[0m \u001b[1;34m'rb'\u001b[0m\u001b[1;33m)\u001b[0m \u001b[1;32mas\u001b[0m \u001b[0mfile\u001b[0m\u001b[1;33m:\u001b[0m\u001b[1;33m\u001b[0m\u001b[1;33m\u001b[0m\u001b[0m\n\u001b[1;32m---> 14\u001b[1;33m     \u001b[0mresult\u001b[0m \u001b[1;33m=\u001b[0m \u001b[0mpkl\u001b[0m\u001b[1;33m.\u001b[0m\u001b[0mload\u001b[0m\u001b[1;33m(\u001b[0m\u001b[0mfile\u001b[0m\u001b[1;33m)\u001b[0m\u001b[1;33m\u001b[0m\u001b[1;33m\u001b[0m\u001b[0m\n\u001b[0m\u001b[0;32m     15\u001b[0m \u001b[1;32mfor\u001b[0m \u001b[0mi\u001b[0m \u001b[1;32min\u001b[0m \u001b[0mrange\u001b[0m\u001b[1;33m(\u001b[0m\u001b[0mlen\u001b[0m\u001b[1;33m(\u001b[0m\u001b[0mresult\u001b[0m\u001b[1;33m[\u001b[0m\u001b[1;34m'ZED_L'\u001b[0m\u001b[1;33m]\u001b[0m\u001b[1;33m)\u001b[0m\u001b[1;33m)\u001b[0m\u001b[1;33m:\u001b[0m\u001b[1;33m\u001b[0m\u001b[1;33m\u001b[0m\u001b[0m\n\u001b[0;32m     16\u001b[0m     \u001b[0mprint\u001b[0m\u001b[1;33m(\u001b[0m\u001b[0mresult\u001b[0m\u001b[1;33m[\u001b[0m\u001b[1;34m'ZED_L'\u001b[0m\u001b[1;33m]\u001b[0m\u001b[1;33m[\u001b[0m\u001b[0mi\u001b[0m\u001b[1;33m]\u001b[0m\u001b[1;33m.\u001b[0m\u001b[0mshape\u001b[0m\u001b[1;33m,\u001b[0m\u001b[0mresult\u001b[0m\u001b[1;33m[\u001b[0m\u001b[1;34m'ZED_R'\u001b[0m\u001b[1;33m]\u001b[0m\u001b[1;33m[\u001b[0m\u001b[0mi\u001b[0m\u001b[1;33m]\u001b[0m\u001b[1;33m.\u001b[0m\u001b[0mshape\u001b[0m\u001b[1;33m)\u001b[0m\u001b[1;33m\u001b[0m\u001b[1;33m\u001b[0m\u001b[0m\n",
      "\u001b[1;31mEOFError\u001b[0m: Ran out of input"
     ]
    }
   ],
   "source": [
    "import pickle as pkl\n",
    "import cv2\n",
    "from datetime import datetime\n",
    "from realSense import RealSense2\n",
    "from ZED import ZEDCamera\n",
    "from time import sleep, time\n",
    "TOTAL_FRAMES = 500\n",
    "SAVED_FRAMES = 0\n",
    "OUTPUT_FILE = 'saved_frames'\n",
    "KEYBOARD_CAPTURE = False\n",
    "\n",
    "\n",
    "with open(OUTPUT_FILE, 'rb') as file:\n",
    "    result = pkl.load(file)\n",
    "for i in range(len(result['ZED_L'])):\n",
    "    print(result['ZED_L'][i].shape,result['ZED_R'][i].shape)\n",
    "#     cv2.imshow('RS Color Image', result['RS'][i])\n",
    "    \n",
    "    cv2.imshow('ZED Color ImageL', result['ZED_L'][i])\n",
    "    cv2.imshow('ZED Color ImageR', result['ZED_R'][i])\n",
    "    key = cv2.waitKey(0)\n",
    "    if key==113: break\n",
    "cv2.destroyAllWindows()"
   ]
  }
 ],
 "metadata": {
  "kernelspec": {
   "display_name": "Python 3",
   "language": "python",
   "name": "python3"
  },
  "language_info": {
   "codemirror_mode": {
    "name": "ipython",
    "version": 3
   },
   "file_extension": ".py",
   "mimetype": "text/x-python",
   "name": "python",
   "nbconvert_exporter": "python",
   "pygments_lexer": "ipython3",
   "version": "3.7.4"
  }
 },
 "nbformat": 4,
 "nbformat_minor": 4
}
