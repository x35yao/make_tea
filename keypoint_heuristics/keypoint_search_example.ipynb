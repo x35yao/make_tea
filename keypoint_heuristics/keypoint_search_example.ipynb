{
 "cells": [
  {
   "cell_type": "code",
   "execution_count": 1,
   "id": "collected-nurse",
   "metadata": {},
   "outputs": [
    {
     "data": {
      "text/plain": [
       "['260650',\n",
       " '816303',\n",
       " '838539',\n",
       " '838540',\n",
       " '838542',\n",
       " '838544',\n",
       " '838545',\n",
       " '838546',\n",
       " '838547']"
      ]
     },
     "execution_count": 1,
     "metadata": {},
     "output_type": "execute_result"
    }
   ],
   "source": [
    "import os\n",
    "import numpy as np\n",
    "import pandas as pd\n",
    "import pickle as pkl\n",
    "import plotly.express as px\n",
    "import plotly.graph_objects as go\n",
    "\n",
    "from scipy.spatial.transform import Rotation as R\n",
    "from keypoint_util import KeypointSelector\n",
    "\n",
    "def attach_grip_states(df, grip):\n",
    "    new_df = df.copy()\n",
    "    new_df['action'] = None\n",
    "    for i, row in grip.iterrows():\n",
    "        check_time = row['Timestamp']\n",
    "        new_df.iloc[(df['Time'] - check_time).abs().argsort()[:1], -1] = row['Gripper state']\n",
    "    return new_df\n",
    "\n",
    "folder = os.path.join('ndi_servo', '2022-04-13-morning')\n",
    "instances = sorted(os.listdir(folder))\n",
    "all_dfs = []\n",
    "for instance in instances:\n",
    "    instance_folder = os.path.join(folder, instance)\n",
    "    file_set = sorted(os.listdir(instance_folder))[:2]\n",
    "    file1, file2 = file_set\n",
    "    # with open(os.path.join(data_folder, data497, 'labeled_actions_new.pkl'), 'rb') as f:\n",
    "    #     label_actions = pkl.load(f)\n",
    "    # trajectory_file = os.path.join(data_folder, data497, 'obj_pose_trajectory_interpolated_median.h5')\n",
    "    # trajectory_dataset = pd.read_hdf(trajectory_file)\n",
    "    grip_file = os.path.join(instance_folder, file1)\n",
    "    state_file = os.path.join(instance_folder, file2)\n",
    "    grip_states = pd.read_csv(grip_file)\n",
    "    pos_states = pd.read_csv(state_file, index_col='Unnamed: 0')\n",
    "    dframe = attach_grip_states(pos_states, grip_states)\n",
    "    dframe.loc[:,['Rx', 'Ry', 'Rz']]\n",
    "    all_dfs.append(dframe)\n",
    "instances"
   ]
  },
  {
   "cell_type": "code",
   "execution_count": 2,
   "id": "28e8a6cd",
   "metadata": {},
   "outputs": [],
   "source": [
    "# For drawing axis\n",
    "for df in all_dfs:\n",
    "    xax = [1,0,0]\n",
    "#     yax = [0,1,0]\n",
    "#     zax = [0,0,1]\n",
    "    r = R.from_rotvec(df.loc[:,['Rx', 'Ry', 'Rz']])\n",
    "    df.loc[:, ['xu','xv','xw']] = r.apply(xax)\n",
    "#     df.loc[:, ['yu','yv','yw']] = r.apply(yax)\n",
    "#     df.loc[:, ['zu','zv','zw']] = r.apply(zax)\n",
    "\n",
    "# Setup key point search parameters\n",
    "selector = KeypointSelector(16, 8, 0.07, 0.05, rotation_max=.7, \n",
    "                            velocity_window_size=5, rotation_window_size=5)"
   ]
  },
  {
   "cell_type": "code",
   "execution_count": 9,
   "id": "829819e7",
   "metadata": {},
   "outputs": [
    {
     "name": "stderr",
     "output_type": "stream",
     "text": [
      "C:\\Users\\YC\\anaconda3\\lib\\site-packages\\pandas\\core\\indexing.py:1637: SettingWithCopyWarning: \n",
      "A value is trying to be set on a copy of a slice from a DataFrame\n",
      "\n",
      "See the caveats in the documentation: https://pandas.pydata.org/pandas-docs/stable/user_guide/indexing.html#returning-a-view-versus-a-copy\n",
      "  self._setitem_single_block(indexer, value, name)\n"
     ]
    }
   ],
   "source": [
    "# for f, df in enumerate(all_dfs):\n",
    "#     cond_df, keypoints, vel_df, rot_df = selector.search(all_dfs[f])\n",
    "#     grasp_indices = cond_df.index[cond_df['condition'] == 'grasp'].tolist()\n",
    "#     task_periods = [grasp_indices[i*2:i*2+2] for i in range(int(len(grasp_indices)/2))]\n",
    "\n",
    "    # Set start and end frames\n",
    "#     start, end = task_periods[0]\n",
    "#     save_df = cond_df.iloc[start:end]\n",
    "#     save_df.to_csv(\"df_{}.csv\".format(instances[f]))"
   ]
  },
  {
   "cell_type": "code",
   "execution_count": null,
   "id": "ca1f648a",
   "metadata": {},
   "outputs": [],
   "source": [
    "# summarize the key points from all demonstration\n",
    "tasks_keypoints = {i:[] for i in range(6)}\n",
    "for j in range(len(instances)):\n",
    "    cond_df, keypoints, vel_df, rot_df = selector.search(all_dfs[j])\n",
    "    grasp_indices = cond_df.index[cond_df['condition'] == 'grasp'].tolist()\n",
    "    task_periods = [grasp_indices[i*2:i*2+2] for i in range(int(len(grasp_indices)/2))]\n",
    "    keypoint_df = cond_df.copy().iloc[keypoints]\n",
    "    for k, period in enumerate(task_periods):\n",
    "        start, end = period\n",
    "        keypoint_sliced_df = keypoint_df.loc[[i for i in keypoint_df.index if i in range(start, end+1)]]\n",
    "        key_cond = keypoint_sliced_df.condition\n",
    "        key_cap = [key[0].upper() for key in key_cond[key_cond!='grasp'].tolist()]\n",
    "        tasks_keypoints[k].append(key_cap)"
   ]
  },
  {
   "cell_type": "code",
   "execution_count": null,
   "id": "06eec559",
   "metadata": {},
   "outputs": [],
   "source": [
    "tasks_keypoints[1]"
   ]
  },
  {
   "cell_type": "code",
   "execution_count": null,
   "id": "1815ae58",
   "metadata": {
    "scrolled": false
   },
   "outputs": [],
   "source": [
    "# 0: teabag to cup\n",
    "# 1: pitcher to tap\n",
    "# 2: turn tap\n",
    "# 3: wait\n",
    "# 4: turn tap back\n",
    "# 5: pour pitcher to cup\n",
    "# List all close and open grasp frame indices.\n",
    "index = 1\n",
    "cond_df, keypoints, vel_df, rot_df = selector.search(all_dfs[index])\n",
    "grasp_indices = cond_df.index[cond_df['condition'] == 'grasp'].tolist()\n",
    "task_periods = [grasp_indices[i*2:i*2+2] for i in range(int(len(grasp_indices)/2))]\n",
    "\n",
    "# Set start and end frames\n",
    "start, end = task_periods[5]\n",
    "\n",
    "traj_df = cond_df.copy().iloc[start:end+1]\n",
    "keypoint_df = cond_df.copy().iloc[keypoints]\n",
    "keypoint_sliced_df = keypoint_df.loc[[i for i in keypoint_df.index if i in range(start, end+1)]]\n",
    "fig_line = px.line_3d(traj_df, x='x', y='y', z='z')\n",
    "fig_pt = px.scatter_3d(keypoint_sliced_df, x='x', y='y', z='z', color='Time', symbol='condition')\n",
    "# fig3 = go.Figure(data=go.Cone(x=keypoint_sliced_df['x'], y=keypoint_sliced_df['y'], z=keypoint_sliced_df['z'], \n",
    "#                              u=keypoint_sliced_df['u'], v=keypoint_sliced_df['v'], w=keypoint_sliced_df['w'],\n",
    "#                              sizemode=\"absolute\", sizeref=2, anchor=\"tip\"))\n",
    "fig_main= go.Figure(data=fig_line.data + fig_pt.data)\n",
    "fig_main.update_traces(marker=dict(size=5))\n",
    "# fig4.update_layout(\n",
    "#         scene = dict(\n",
    "#             # aspectratio=dict(x=1, y=1, z=1), # <---- tried this too\n",
    "#             aspectmode='cube'\n",
    "#         ))\n",
    "fig_main.show()\n",
    "\n",
    "vector_df = keypoint_sliced_df\n",
    "figx = go.Figure(data=go.Cone(x=vector_df['x'], y=vector_df['y'], z=vector_df['z'], \n",
    "                             u=vector_df['xw'], v=vector_df['xv'], w=vector_df['xu']))\n",
    "# figy = go.Figure(data=go.Cone(x=vector_df['x'], y=vector_df['y'], z=vector_df['z'], \n",
    "#                              u=vector_df['yu'], v=vector_df['yv'], w=vector_df['yw']))\n",
    "# figz = go.Figure(data=go.Cone(x=vector_df['x'], y=vector_df['y'], z=vector_df['z'], \n",
    "#                              u=vector_df['zu'], v=vector_df['zv'], w=vector_df['zw']))\n",
    "fig_vec = go.Figure(data=figx.data + fig_line.data)\n",
    "\n",
    "# fig.update_layout(scene=dict(aspectratio=dict(x=1, y=1, z=1)))\n",
    "fig_vec.show()"
   ]
  },
  {
   "cell_type": "code",
   "execution_count": null,
   "id": "8d31b54c",
   "metadata": {},
   "outputs": [],
   "source": [
    "m = 1184\n",
    "vel_df.iloc[m-2:m+3]"
   ]
  },
  {
   "cell_type": "code",
   "execution_count": null,
   "id": "c403fc0c",
   "metadata": {},
   "outputs": [],
   "source": [
    "rot_df.iloc[start:end+1][keypoint_sliced_df.index]"
   ]
  },
  {
   "cell_type": "code",
   "execution_count": null,
   "id": "ee0cea68",
   "metadata": {},
   "outputs": [],
   "source": [
    "vel_df.iloc[start:end+1][keypoint_sliced_df.index]"
   ]
  },
  {
   "cell_type": "code",
   "execution_count": null,
   "id": "b4892f97",
   "metadata": {
    "scrolled": false
   },
   "outputs": [],
   "source": [
    "keypoint_sliced_df"
   ]
  },
  {
   "cell_type": "code",
   "execution_count": null,
   "id": "74d1b725",
   "metadata": {},
   "outputs": [],
   "source": [
    "# relevant_indices = []\n",
    "# for period in task_periods:\n",
    "#     relevant_indices += range(*period)"
   ]
  },
  {
   "cell_type": "code",
   "execution_count": null,
   "id": "1fbd9793",
   "metadata": {},
   "outputs": [],
   "source": [
    "# relevant_df = cond_df.iloc[relevant_indices]\n",
    "# cut_df = keypoint_df\n",
    "# fig_all_line = px.line_3d(relevant_df, x='x', y='y', z='z')\n",
    "# fig_all_x = go.Figure(data=go.Cone(x=cut_df['x'], y=cut_df['y'], z=cut_df['z'], \n",
    "#                              u=cut_df['xu'], v=cut_df['xv'], w=cut_df['xw']))\n",
    "# # figy = go.Figure(data=go.Cone(x=vector_df['x'], y=vector_df['y'], z=vector_df['z'], \n",
    "# #                              u=vector_df['yu'], v=vector_df['yv'], w=vector_df['yw']))\n",
    "# # figz = go.Figure(data=go.Cone(x=vector_df['x'], y=vector_df['y'], z=vector_df['z'], \n",
    "# #                              u=vector_df['zu'], v=vector_df['zv'], w=vector_df['zw']))\n",
    "# fig_all = go.Figure(data=fig_all_x.data+fig_all_line.data)\n",
    "# # fig_all.update_traces(marker=dict(size=5))\n",
    "# fig_all.show()"
   ]
  },
  {
   "cell_type": "code",
   "execution_count": null,
   "id": "7dbe2040",
   "metadata": {},
   "outputs": [],
   "source": [
    "target = 313\n",
    "print('Smoothed velocity:\\n', velo_df.iloc[target-1:target+20])\n",
    "print('Smoothed rotation:\\n', rot_df.iloc[target-1:target+2])\n",
    "print(cond_df.iloc[target-1:target+2])"
   ]
  }
 ],
 "metadata": {
  "kernelspec": {
   "display_name": "Python 3",
   "language": "python",
   "name": "python3"
  },
  "language_info": {
   "codemirror_mode": {
    "name": "ipython",
    "version": 3
   },
   "file_extension": ".py",
   "mimetype": "text/x-python",
   "name": "python",
   "nbconvert_exporter": "python",
   "pygments_lexer": "ipython3",
   "version": "3.8.8"
  }
 },
 "nbformat": 4,
 "nbformat_minor": 5
}
