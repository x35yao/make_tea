{
 "cells": [
  {
   "cell_type": "code",
   "execution_count": 1,
   "id": "cb8ed7a5",
   "metadata": {},
   "outputs": [],
   "source": [
    "import deeplabcut\n",
    "\n",
    "project_name = 'make_tea_3d'\n",
    "nameoflabeler = 'Luke_Yinghan'"
   ]
  },
  {
   "cell_type": "code",
   "execution_count": 2,
   "id": "d8541bad",
   "metadata": {},
   "outputs": [
    {
     "name": "stdout",
     "output_type": "stream",
     "text": [
      "Created \"/Users/luke/Desktop/project/make_tea/dlc/make_tea_3d-Luke_Yinghan-2022-01-12-3d/camera_matrix\"\n",
      "Created \"/Users/luke/Desktop/project/make_tea/dlc/make_tea_3d-Luke_Yinghan-2022-01-12-3d/calibration_images\"\n",
      "Created \"/Users/luke/Desktop/project/make_tea/dlc/make_tea_3d-Luke_Yinghan-2022-01-12-3d/undistortion\"\n",
      "Created \"/Users/luke/Desktop/project/make_tea/dlc/make_tea_3d-Luke_Yinghan-2022-01-12-3d/corners\"\n",
      "Created \"/Users/luke/Desktop/project/make_tea/dlc/make_tea_3d-Luke_Yinghan-2022-01-12-3d/removed_calibration_images\"\n",
      "Generated \"/Users/luke/Desktop/project/make_tea/dlc/make_tea_3d-Luke_Yinghan-2022-01-12-3d/config.yaml\"\n",
      "\n",
      "A new project with name make_tea_3d-Luke_Yinghan-2022-01-12-3d is created at /Users/luke/Desktop/project/make_tea/dlc and a configurable file (config.yaml) is stored there. If you have not calibrated the cameras, then use the function 'calibrate_camera' to start calibrating the camera otherwise use the function ``triangulate`` to triangulate the dataframe\n"
     ]
    },
    {
     "data": {
      "text/plain": [
       "'/Users/luke/Desktop/project/make_tea/dlc/make_tea_3d-Luke_Yinghan-2022-01-12-3d/config.yaml'"
      ]
     },
     "execution_count": 2,
     "metadata": {},
     "output_type": "execute_result"
    }
   ],
   "source": [
    "deeplabcut.create_new_project_3d(project_name, nameoflabeler, num_cameras = 2)"
   ]
  },
  {
   "cell_type": "code",
   "execution_count": null,
   "id": "1b0daca2",
   "metadata": {},
   "outputs": [],
   "source": []
  }
 ],
 "metadata": {
  "kernelspec": {
   "display_name": "Python [conda env:DEEPLABCUT] *",
   "language": "python",
   "name": "conda-env-DEEPLABCUT-py"
  },
  "language_info": {
   "codemirror_mode": {
    "name": "ipython",
    "version": 3
   },
   "file_extension": ".py",
   "mimetype": "text/x-python",
   "name": "python",
   "nbconvert_exporter": "python",
   "pygments_lexer": "ipython3",
   "version": "3.7.12"
  }
 },
 "nbformat": 4,
 "nbformat_minor": 5
}
