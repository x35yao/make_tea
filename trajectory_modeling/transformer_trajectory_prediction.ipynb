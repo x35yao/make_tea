{
 "cells": [
  {
   "cell_type": "code",
   "execution_count": 4,
   "metadata": {
    "collapsed": true
   },
   "outputs": [
    {
     "name": "stdout",
     "output_type": "stream",
     "text": [
      "Cuda available:  False\n"
     ]
    },
    {
     "ename": "AssertionError",
     "evalue": "Torch not compiled with CUDA enabled",
     "output_type": "error",
     "traceback": [
      "\u001B[0;31m---------------------------------------------------------------------------\u001B[0m",
      "\u001B[0;31mAssertionError\u001B[0m                            Traceback (most recent call last)",
      "Cell \u001B[0;32mIn[4], line 9\u001B[0m\n\u001B[1;32m      7\u001B[0m device \u001B[38;5;241m=\u001B[39m torch\u001B[38;5;241m.\u001B[39mdevice(\u001B[38;5;124m'\u001B[39m\u001B[38;5;124mcuda\u001B[39m\u001B[38;5;124m'\u001B[39m \u001B[38;5;28;01mif\u001B[39;00m torch\u001B[38;5;241m.\u001B[39mcuda\u001B[38;5;241m.\u001B[39mis_available() \u001B[38;5;28;01melse\u001B[39;00m \u001B[38;5;124m'\u001B[39m\u001B[38;5;124mcpu\u001B[39m\u001B[38;5;124m'\u001B[39m)\n\u001B[1;32m      8\u001B[0m \u001B[38;5;28mprint\u001B[39m(\u001B[38;5;124m\"\u001B[39m\u001B[38;5;124mCuda available: \u001B[39m\u001B[38;5;124m\"\u001B[39m, torch\u001B[38;5;241m.\u001B[39mcuda\u001B[38;5;241m.\u001B[39mis_available())\n\u001B[0;32m----> 9\u001B[0m \u001B[38;5;28mprint\u001B[39m(\u001B[38;5;124m\"\u001B[39m\u001B[38;5;124mCurrent device: \u001B[39m\u001B[38;5;124m\"\u001B[39m, \u001B[43mtorch\u001B[49m\u001B[38;5;241;43m.\u001B[39;49m\u001B[43mcuda\u001B[49m\u001B[38;5;241;43m.\u001B[39;49m\u001B[43mcurrent_device\u001B[49m\u001B[43m(\u001B[49m\u001B[43m)\u001B[49m)\n\u001B[1;32m     11\u001B[0m \u001B[38;5;66;03m# Load data\u001B[39;00m\n\u001B[1;32m     12\u001B[0m task_config_dir \u001B[38;5;241m=\u001B[39m \u001B[38;5;124m'\u001B[39m\u001B[38;5;124m../Process_data/postprocessed/2022-10-06\u001B[39m\u001B[38;5;124m'\u001B[39m\n",
      "File \u001B[0;32m~/opt/anaconda3/envs/py31/lib/python3.10/site-packages/torch/cuda/__init__.py:552\u001B[0m, in \u001B[0;36mcurrent_device\u001B[0;34m()\u001B[0m\n\u001B[1;32m    550\u001B[0m \u001B[38;5;28;01mdef\u001B[39;00m \u001B[38;5;21mcurrent_device\u001B[39m() \u001B[38;5;241m-\u001B[39m\u001B[38;5;241m>\u001B[39m \u001B[38;5;28mint\u001B[39m:\n\u001B[1;32m    551\u001B[0m     \u001B[38;5;124mr\u001B[39m\u001B[38;5;124;03m\"\"\"Returns the index of a currently selected device.\"\"\"\u001B[39;00m\n\u001B[0;32m--> 552\u001B[0m     \u001B[43m_lazy_init\u001B[49m\u001B[43m(\u001B[49m\u001B[43m)\u001B[49m\n\u001B[1;32m    553\u001B[0m     \u001B[38;5;28;01mreturn\u001B[39;00m torch\u001B[38;5;241m.\u001B[39m_C\u001B[38;5;241m.\u001B[39m_cuda_getDevice()\n",
      "File \u001B[0;32m~/opt/anaconda3/envs/py31/lib/python3.10/site-packages/torch/cuda/__init__.py:221\u001B[0m, in \u001B[0;36m_lazy_init\u001B[0;34m()\u001B[0m\n\u001B[1;32m    217\u001B[0m     \u001B[38;5;28;01mraise\u001B[39;00m \u001B[38;5;167;01mRuntimeError\u001B[39;00m(\n\u001B[1;32m    218\u001B[0m         \u001B[38;5;124m\"\u001B[39m\u001B[38;5;124mCannot re-initialize CUDA in forked subprocess. To use CUDA with \u001B[39m\u001B[38;5;124m\"\u001B[39m\n\u001B[1;32m    219\u001B[0m         \u001B[38;5;124m\"\u001B[39m\u001B[38;5;124mmultiprocessing, you must use the \u001B[39m\u001B[38;5;124m'\u001B[39m\u001B[38;5;124mspawn\u001B[39m\u001B[38;5;124m'\u001B[39m\u001B[38;5;124m start method\u001B[39m\u001B[38;5;124m\"\u001B[39m)\n\u001B[1;32m    220\u001B[0m \u001B[38;5;28;01mif\u001B[39;00m \u001B[38;5;129;01mnot\u001B[39;00m \u001B[38;5;28mhasattr\u001B[39m(torch\u001B[38;5;241m.\u001B[39m_C, \u001B[38;5;124m'\u001B[39m\u001B[38;5;124m_cuda_getDeviceCount\u001B[39m\u001B[38;5;124m'\u001B[39m):\n\u001B[0;32m--> 221\u001B[0m     \u001B[38;5;28;01mraise\u001B[39;00m \u001B[38;5;167;01mAssertionError\u001B[39;00m(\u001B[38;5;124m\"\u001B[39m\u001B[38;5;124mTorch not compiled with CUDA enabled\u001B[39m\u001B[38;5;124m\"\u001B[39m)\n\u001B[1;32m    222\u001B[0m \u001B[38;5;28;01mif\u001B[39;00m _cudart \u001B[38;5;129;01mis\u001B[39;00m \u001B[38;5;28;01mNone\u001B[39;00m:\n\u001B[1;32m    223\u001B[0m     \u001B[38;5;28;01mraise\u001B[39;00m \u001B[38;5;167;01mAssertionError\u001B[39;00m(\n\u001B[1;32m    224\u001B[0m         \u001B[38;5;124m\"\u001B[39m\u001B[38;5;124mlibcudart functions unavailable. It looks like you have a broken build?\u001B[39m\u001B[38;5;124m\"\u001B[39m)\n",
      "\u001B[0;31mAssertionError\u001B[0m: Torch not compiled with CUDA enabled"
     ]
    }
   ],
   "source": [
    "import os\n",
    "import yaml\n",
    "from process_data import Task_data\n",
    "import numpy as np\n",
    "from transformer_model import *\n",
    "\n",
    "device = torch.device('cuda' if torch.cuda.is_available() else 'cpu')\n",
    "print(\"Cuda available: \", torch.cuda.is_available())\n",
    "print(\"Current device: \", torch.cuda.current_device())\n",
    "\n",
    "# Load data\n",
    "task_config_dir = '../Process_data/postprocessed/2022-10-06'\n",
    "with open(os.path.join(task_config_dir, 'task_config.yaml')) as file:\n",
    "    config = yaml.load(file, Loader=yaml.FullLoader)\n",
    "project_dir = config[\"project_path\"] # Modify this to your need\n",
    "base_dir = os.path.join(project_dir, config[\"postprocessed_dir\"])\n",
    "triangulation = 'dlc3d'\n",
    "template_dir = os.path.join(project_dir, config[\"postprocessed_dir\"],f'transformations/{triangulation}')\n",
    "individuals = config[\"individuals\"] # The objects that we will place a reference frame on\n",
    "objs = config[\"objects\"]\n",
    "data = Task_data(base_dir, triangulation, individuals)\n",
    "data.dims = ['x', 'y', 'z']"
   ]
  },
  {
   "cell_type": "code",
   "execution_count": null,
   "outputs": [],
   "source": [
    "model = TrajectoryModel().to(device)"
   ],
   "metadata": {
    "collapsed": false
   }
  },
  {
   "cell_type": "code",
   "execution_count": null,
   "outputs": [],
   "source": [
    "def regularizer_loss(mat):\n",
    "    dim = mat.shape[-1]\n",
    "    ident = torch.eye(dim).to(device)\n",
    "    reg_loss = torch.mean(torch.norm(torch.bmm(mat, mat.transpose(2, 1)) - ident, dim=(1, 2)))\n",
    "    return reg_loss\n",
    "\n",
    "def train_set_transformer(model, t_dataloader, v_dataloader):\n",
    "    optimizer = optim.Adam(model.parameters(), lr=1e-4)\n",
    "    running_loss = 0\n",
    "    total_steps = 0\n",
    "    training_result, training_truth = [], []\n",
    "    validation_result, validation_truth = [], []\n",
    "    model.train()\n",
    "    for data in t_dataloader:\n",
    "        labels = data.y\n",
    "        cloud_list = data.pos.split(1000)\n",
    "        new_clouds = []\n",
    "        for j in range(len(cloud_list)):\n",
    "            new_points = cloud_list[j]\n",
    "            new_points = (new_points - torch.mean(new_points))/torch.std(new_points)\n",
    "            new_clouds.append(new_points.unsqueeze(0))\n",
    "        points = torch.cat(new_clouds)\n",
    "\n",
    "#         points = shift_point_cloud(pclouds)\n",
    "        points = torch.tensor(points).permute([1, 0, 2])\n",
    "        optimizer.zero_grad()\n",
    "        # Pointnet output\n",
    "#         output, feat_mat = model(points.to(device))\n",
    "#         reg_loss = regularizer_loss(feat_mat)\n",
    "#         print(F.nll_loss(output, labels.to(device)), reg_loss*0.001)\n",
    "#         loss = F.cross_entropy(output, labels.to(device)) + reg_loss*0.001\n",
    "\n",
    "        # Set Transformer output\n",
    "        output = model(points.to(device)).squeeze(0)\n",
    "        loss = F.cross_entropy(output, labels.to(device))\n",
    "        training_result += [i.item() for i in output.argmax(1)]\n",
    "        training_truth += [i.item() for i in labels]\n",
    "        #This is where the model learns by backpropagating\n",
    "        loss.backward()\n",
    "\n",
    "        #And optimizes its weights here\n",
    "        optimizer.step()\n",
    "\n",
    "        running_loss += loss.item()\n",
    "        total_steps += 1\n",
    "    model.eval()\n",
    "    for data in v_dataloader:\n",
    "        labels = data.y\n",
    "        cloud_list = data.pos.split(1000)\n",
    "        new_clouds = []\n",
    "        for j in range(len(cloud_list)):\n",
    "            new_points = cloud_list[j]\n",
    "            new_points = (new_points - torch.mean(new_points))/torch.std(new_points)\n",
    "            new_clouds.append(new_points.unsqueeze(0))\n",
    "        pclouds = torch.cat(new_clouds)\n",
    "        points = torch.tensor(pclouds).permute([1, 0, 2])\n",
    "        # Pointnet output\n",
    "#         output, _ = model(points.to(device))\n",
    "        # Set Transformer output\n",
    "        output = model(points.to(device)).squeeze(0)\n",
    "        validation_result += [i.item() for i in output.argmax(1)]\n",
    "        validation_truth += [i.item() for i in labels]\n",
    "    return running_loss/total_steps, training_result, training_truth, validation_result, validation_truth"
   ],
   "metadata": {
    "collapsed": false
   }
  },
  {
   "cell_type": "markdown",
   "source": [],
   "metadata": {
    "collapsed": false
   }
  }
 ],
 "metadata": {
  "kernelspec": {
   "display_name": "Python 3",
   "language": "python",
   "name": "python3"
  },
  "language_info": {
   "codemirror_mode": {
    "name": "ipython",
    "version": 2
   },
   "file_extension": ".py",
   "mimetype": "text/x-python",
   "name": "python",
   "nbconvert_exporter": "python",
   "pygments_lexer": "ipython2",
   "version": "2.7.6"
  }
 },
 "nbformat": 4,
 "nbformat_minor": 0
}
