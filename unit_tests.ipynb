{
 "cells": [
  {
   "cell_type": "code",
   "execution_count": 34,
   "id": "7d2e86d0",
   "metadata": {},
   "outputs": [],
   "source": [
    "from trajectory_modeling.transformations import *\n",
    "\n",
    "# Check if output correct size\n",
    "input1 = np.arange(30).reshape(10, 3)\n",
    "assert homogenous_position(input1).shape==(4, 10)\n",
    "\n",
    "# Test translation transformation\n",
    "a2 = np.array([-1,0,2]).reshape(-1, 3)\n",
    "H2 = np.array([[1,0,0,1],[0,1,0,10.0],[0,0,1,-7],[0,0,0,1]])\n",
    "ans2 = np.array([0,10,-5]).reshape(-1, 3)\n",
    "assert (np.abs(ans2 - lintrans(a2, H2)) < 0.0001).all()\n",
    "\n",
    "# Test quaternion transformation\n",
    "C3 = np.array([[1,0,0,20.0],[0,0,-1,10],[0,1,0,0],[0,0,0,1]])\n",
    "a3 = np.array([-1,0,2]).reshape(-1, 3)\n",
    "H3 = np.array([[0,-1,0,10.0],[1,0,0,0],[0,0,1,0],[0,0,0,1]])\n",
    "X3 = np.array([[0,0,1,0],[1,0,0,20],[0,1,0,0],[0,0,0,1.0]])\n",
    "c_in3 = np.concatenate([C3[:3,-1], R.from_matrix(C3[:3, :3]).as_quat()]).reshape(-1, 7)\n",
    "\n",
    "ans3 = R.from_matrix(X3[:3, :3]).as_quat()\n",
    "assert (np.abs(ans3 - lintrans(c_in3, H3)[0,3:]) < 0.0001).all()\n",
    "\n"
   ]
  },
  {
   "cell_type": "code",
   "execution_count": 1,
   "id": "54a8bad0",
   "metadata": {},
   "outputs": [
    {
     "data": {
      "text/plain": [
       "'/Users/ychen/Downloads/make_tea'"
      ]
     },
     "execution_count": 1,
     "metadata": {},
     "output_type": "execute_result"
    }
   ],
   "source": [
    "import os \n",
    "os.getcwd()"
   ]
  }
 ],
 "metadata": {
  "kernelspec": {
   "display_name": "Python 3 (ipykernel)",
   "language": "python",
   "name": "python3"
  },
  "language_info": {
   "codemirror_mode": {
    "name": "ipython",
    "version": 3
   },
   "file_extension": ".py",
   "mimetype": "text/x-python",
   "name": "python",
   "nbconvert_exporter": "python",
   "pygments_lexer": "ipython3",
   "version": "3.10.4"
  }
 },
 "nbformat": 4,
 "nbformat_minor": 5
}
