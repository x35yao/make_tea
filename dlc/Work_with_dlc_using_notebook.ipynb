{
 "cells": [
  {
   "cell_type": "markdown",
   "id": "c6395790",
   "metadata": {},
   "source": [
    "# Create new project"
   ]
  },
  {
   "cell_type": "code",
   "execution_count": 5,
   "id": "6cea66e2",
   "metadata": {},
   "outputs": [
    {
     "name": "stdout",
     "output_type": "stream",
     "text": [
      "Created \"/home/luke/Desktop/project/make_tea/dlc/make_tea_teabag-luke-2022-01-29/videos\"\n",
      "Created \"/home/luke/Desktop/project/make_tea/dlc/make_tea_teabag-luke-2022-01-29/labeled-data\"\n",
      "Created \"/home/luke/Desktop/project/make_tea/dlc/make_tea_teabag-luke-2022-01-29/training-datasets\"\n",
      "Created \"/home/luke/Desktop/project/make_tea/dlc/make_tea_teabag-luke-2022-01-29/dlc-models\"\n",
      "Attempting to create a symbolic link of the video ...\n",
      "Created the symlink of /home/luke/Desktop/project/make_tea/camera-main/videos/1641420386/1641420386-left.mp4 to /home/luke/Desktop/project/make_tea/dlc/make_tea_teabag-luke-2022-01-29/videos/1641420386-left.mp4\n",
      "Created the symlink of /home/luke/Desktop/project/make_tea/camera-main/videos/1641421641/1641421641-right.mp4 to /home/luke/Desktop/project/make_tea/dlc/make_tea_teabag-luke-2022-01-29/videos/1641421641-right.mp4\n",
      "/home/luke/Desktop/project/make_tea/dlc/make_tea_teabag-luke-2022-01-29/videos/1641420386-left.mp4\n",
      "/home/luke/Desktop/project/make_tea/dlc/make_tea_teabag-luke-2022-01-29/videos/1641421641-right.mp4\n",
      "Generated \"/home/luke/Desktop/project/make_tea/dlc/make_tea_teabag-luke-2022-01-29/config.yaml\"\n",
      "\n",
      "A new project with name make_tea_teabag-luke-2022-01-29 is created at /home/luke/Desktop/project/make_tea/dlc and a configurable file (config.yaml) is stored there. Change the parameters in this file to adapt to your project's needs.\n",
      " Once you have changed the configuration file, use the function 'extract_frames' to select frames for labeling.\n",
      ". [OPTIONAL] Use the function 'add_new_videos' to add new videos to your project (at any stage).\n",
      "Created \"/home/luke/Desktop/project/make_tea/dlc/make_tea_cup-luke-2022-01-29/videos\"\n",
      "Created \"/home/luke/Desktop/project/make_tea/dlc/make_tea_cup-luke-2022-01-29/labeled-data\"\n",
      "Created \"/home/luke/Desktop/project/make_tea/dlc/make_tea_cup-luke-2022-01-29/training-datasets\"\n",
      "Created \"/home/luke/Desktop/project/make_tea/dlc/make_tea_cup-luke-2022-01-29/dlc-models\"\n",
      "Attempting to create a symbolic link of the video ...\n",
      "Created the symlink of /home/luke/Desktop/project/make_tea/camera-main/videos/1641420386/1641420386-left.mp4 to /home/luke/Desktop/project/make_tea/dlc/make_tea_cup-luke-2022-01-29/videos/1641420386-left.mp4\n",
      "Created the symlink of /home/luke/Desktop/project/make_tea/camera-main/videos/1641421641/1641421641-right.mp4 to /home/luke/Desktop/project/make_tea/dlc/make_tea_cup-luke-2022-01-29/videos/1641421641-right.mp4\n",
      "/home/luke/Desktop/project/make_tea/dlc/make_tea_cup-luke-2022-01-29/videos/1641420386-left.mp4\n",
      "/home/luke/Desktop/project/make_tea/dlc/make_tea_cup-luke-2022-01-29/videos/1641421641-right.mp4\n",
      "Generated \"/home/luke/Desktop/project/make_tea/dlc/make_tea_cup-luke-2022-01-29/config.yaml\"\n",
      "\n",
      "A new project with name make_tea_cup-luke-2022-01-29 is created at /home/luke/Desktop/project/make_tea/dlc and a configurable file (config.yaml) is stored there. Change the parameters in this file to adapt to your project's needs.\n",
      " Once you have changed the configuration file, use the function 'extract_frames' to select frames for labeling.\n",
      ". [OPTIONAL] Use the function 'add_new_videos' to add new videos to your project (at any stage).\n",
      "Created \"/home/luke/Desktop/project/make_tea/dlc/make_tea_pitcher-luke-2022-01-29/videos\"\n",
      "Created \"/home/luke/Desktop/project/make_tea/dlc/make_tea_pitcher-luke-2022-01-29/labeled-data\"\n",
      "Created \"/home/luke/Desktop/project/make_tea/dlc/make_tea_pitcher-luke-2022-01-29/training-datasets\"\n",
      "Created \"/home/luke/Desktop/project/make_tea/dlc/make_tea_pitcher-luke-2022-01-29/dlc-models\"\n",
      "Attempting to create a symbolic link of the video ...\n",
      "Created the symlink of /home/luke/Desktop/project/make_tea/camera-main/videos/1641420386/1641420386-left.mp4 to /home/luke/Desktop/project/make_tea/dlc/make_tea_pitcher-luke-2022-01-29/videos/1641420386-left.mp4\n",
      "Created the symlink of /home/luke/Desktop/project/make_tea/camera-main/videos/1641421641/1641421641-right.mp4 to /home/luke/Desktop/project/make_tea/dlc/make_tea_pitcher-luke-2022-01-29/videos/1641421641-right.mp4\n",
      "/home/luke/Desktop/project/make_tea/dlc/make_tea_pitcher-luke-2022-01-29/videos/1641420386-left.mp4\n",
      "/home/luke/Desktop/project/make_tea/dlc/make_tea_pitcher-luke-2022-01-29/videos/1641421641-right.mp4\n",
      "Generated \"/home/luke/Desktop/project/make_tea/dlc/make_tea_pitcher-luke-2022-01-29/config.yaml\"\n",
      "\n",
      "A new project with name make_tea_pitcher-luke-2022-01-29 is created at /home/luke/Desktop/project/make_tea/dlc and a configurable file (config.yaml) is stored there. Change the parameters in this file to adapt to your project's needs.\n",
      " Once you have changed the configuration file, use the function 'extract_frames' to select frames for labeling.\n",
      ". [OPTIONAL] Use the function 'add_new_videos' to add new videos to your project (at any stage).\n",
      "Created \"/home/luke/Desktop/project/make_tea/dlc/make_tea_tap-luke-2022-01-29/videos\"\n",
      "Created \"/home/luke/Desktop/project/make_tea/dlc/make_tea_tap-luke-2022-01-29/labeled-data\"\n",
      "Created \"/home/luke/Desktop/project/make_tea/dlc/make_tea_tap-luke-2022-01-29/training-datasets\"\n",
      "Created \"/home/luke/Desktop/project/make_tea/dlc/make_tea_tap-luke-2022-01-29/dlc-models\"\n",
      "Attempting to create a symbolic link of the video ...\n",
      "Created the symlink of /home/luke/Desktop/project/make_tea/camera-main/videos/1641420386/1641420386-left.mp4 to /home/luke/Desktop/project/make_tea/dlc/make_tea_tap-luke-2022-01-29/videos/1641420386-left.mp4\n",
      "Created the symlink of /home/luke/Desktop/project/make_tea/camera-main/videos/1641421641/1641421641-right.mp4 to /home/luke/Desktop/project/make_tea/dlc/make_tea_tap-luke-2022-01-29/videos/1641421641-right.mp4\n",
      "/home/luke/Desktop/project/make_tea/dlc/make_tea_tap-luke-2022-01-29/videos/1641420386-left.mp4\n",
      "/home/luke/Desktop/project/make_tea/dlc/make_tea_tap-luke-2022-01-29/videos/1641421641-right.mp4\n",
      "Generated \"/home/luke/Desktop/project/make_tea/dlc/make_tea_tap-luke-2022-01-29/config.yaml\"\n",
      "\n",
      "A new project with name make_tea_tap-luke-2022-01-29 is created at /home/luke/Desktop/project/make_tea/dlc and a configurable file (config.yaml) is stored there. Change the parameters in this file to adapt to your project's needs.\n",
      " Once you have changed the configuration file, use the function 'extract_frames' to select frames for labeling.\n",
      ". [OPTIONAL] Use the function 'add_new_videos' to add new videos to your project (at any stage).\n"
     ]
    },
    {
     "name": "stderr",
     "output_type": "stream",
     "text": [
      "Gtk-Message: 12:42:20.626: Failed to load module \"atk-bridge\"\n",
      "Gtk-Message: 12:42:20.627: Failed to load module \"canberra-gtk-module\"\n"
     ]
    }
   ],
   "source": [
    "import deeplabcut\n",
    "import os\n",
    "\n",
    "objs = ['teabag', 'cup', 'pitcher', 'tap']\n",
    "project_name = f'make_tea_{obj}'\n",
    "experimenter = 'luke'\n",
    "videos = ['/home/luke/Desktop/project/make_tea/camera-main/videos/1641420386/1641420386-left.mp4',\n",
    "          '/home/luke/Desktop/project/make_tea/camera-main/videos/1641421641/1641421641-right.mp4']\n",
    "working_directory = os.getcwd()\n",
    "for obj in objs:\n",
    "    deeplabcut.create_new_project(project_name, \n",
    "                              experimenter, \n",
    "                              videos, \n",
    "                              working_directory=working_directory, \n",
    "                              copy_videos=False, multianimal=True)\n"
   ]
  },
  {
   "cell_type": "markdown",
   "id": "5d39341e",
   "metadata": {},
   "source": [
    "# Modify labeled-data"
   ]
  },
  {
   "cell_type": "code",
   "execution_count": 3,
   "id": "1d68f73f",
   "metadata": {},
   "outputs": [],
   "source": [
    "from glob import glob\n",
    "import os\n",
    "import pandas as pd\n",
    "\n",
    "obj = 'cup'\n",
    "\n",
    "data_folders = glob(f'/home/luke/Desktop/project/make_tea/dlc/make_tea_{obj}*/labeled-data/*')\n",
    "for folder in data_folders:\n",
    "    imgs = glob(folder + '/*.png')\n",
    "    h5file = glob(folder + '/*.h5')[0]\n",
    "    df = pd.read_hdf(h5file)\n",
    "    if obj != 'teabag':\n",
    "        partial_df = df['luke_yinghan']['single'][[f'{obj}_h',f'{obj}_m',f'{obj}_t']]\n",
    "        pdindex = pd.MultiIndex. from_product([['luke'], [obj], ['bodypart1', 'bodypart2', 'bodypart3'], ['x', 'y']], names=['scorer', 'individuals','bodyparts', 'coords'])\n",
    "    else:\n",
    "        partial_df = df['luke_yinghan'][['individual1', 'individual2']]\n",
    "        pdindex = pd.MultiIndex. from_product([['luke'], [obj + '1', obj + '2'], ['bodypart1', 'bodypart2'], ['x', 'y']], names=['scorer', 'individuals','bodyparts', 'coords'])\n",
    "    inds = df.index\n",
    "    df_new = pd.DataFrame(partial_df.values, columns = pdindex, index = inds)\n",
    "    project_dir = os.path.dirname(os.path.dirname(folder))\n",
    "    for ind in inds:\n",
    "        if project_dir + '/' + ind not in imgs:\n",
    "            df_new.drop(index = ind, inplace = True)\n",
    "    outputname = folder + '/CollectedData_luke.h5'\n",
    "    df_new.to_hdf(outputname, key = 'data')\n",
    "    df_new.to_csv(outputname.split(\".h5\")[0] + \".csv\")"
   ]
  },
  {
   "cell_type": "markdown",
   "id": "35d90d48",
   "metadata": {},
   "source": [
    "# Check labels"
   ]
  },
  {
   "cell_type": "code",
   "execution_count": 7,
   "id": "6a38559b",
   "metadata": {},
   "outputs": [
    {
     "name": "stdout",
     "output_type": "stream",
     "text": [
      "Creating images with labels by luke.\n"
     ]
    },
    {
     "name": "stderr",
     "output_type": "stream",
     "text": [
      "Gtk-Message: 16:13:40.975: Failed to load module \"atk-bridge\"\n",
      "Gtk-Message: 16:13:40.976: Failed to load module \"canberra-gtk-module\"\n",
      "100%|███████████████████████████████████████████| 55/55 [01:04<00:00,  1.17s/it]"
     ]
    },
    {
     "name": "stdout",
     "output_type": "stream",
     "text": [
      "If all the labels are ok, then use the function 'create_training_dataset' to create the training dataset!\n"
     ]
    },
    {
     "name": "stderr",
     "output_type": "stream",
     "text": [
      "\n"
     ]
    }
   ],
   "source": [
    "import deeplabcut\n",
    "\n",
    "obj = 'teabag'\n",
    "config_path = glob(f'/home/luke/Desktop/project/make_tea/dlc/make_tea_{obj}*/config.yaml')[0]\n",
    "deeplabcut.check_labels(config_path)"
   ]
  },
  {
   "cell_type": "markdown",
   "id": "b1d3b7b2",
   "metadata": {},
   "source": [
    "# Train"
   ]
  },
  {
   "cell_type": "code",
   "execution_count": 1,
   "id": "e70ac713",
   "metadata": {},
   "outputs": [
    {
     "name": "stdout",
     "output_type": "stream",
     "text": [
      "Help on function train_network in module deeplabcut.pose_estimation_tensorflow.training:\n",
      "\n",
      "train_network(config, shuffle=1, trainingsetindex=0, max_snapshots_to_keep=5, displayiters=None, saveiters=None, maxiters=None, allow_growth=False, gputouse=None, autotune=False, keepdeconvweights=True, modelprefix='')\n",
      "    Trains the network with the labels in the training dataset.\n",
      "    \n",
      "    Parameter\n",
      "    ----------\n",
      "    config : string\n",
      "        Full path of the config.yaml file as a string.\n",
      "    \n",
      "    shuffle: int, optional\n",
      "        Integer value specifying the shuffle index to select for training. Default is set to 1\n",
      "    \n",
      "    trainingsetindex: int, optional\n",
      "        Integer specifying which TrainingsetFraction to use. By default the first (note that TrainingFraction is a list in config.yaml).\n",
      "    \n",
      "    Additional parameters:\n",
      "    \n",
      "    max_snapshots_to_keep: int, or None. Sets how many snapshots are kept, i.e. states of the trained network. Every savinginteration many times\n",
      "        a snapshot is stored, however only the last max_snapshots_to_keep many are kept! If you change this to None, then all are kept.\n",
      "        See: https://github.com/AlexEMG/DeepLabCut/issues/8#issuecomment-387404835\n",
      "    \n",
      "    displayiters: this variable is actually set in pose_config.yaml. However, you can overwrite it with this hack. Don't use this regularly, just if you are too lazy to dig out\n",
      "        the pose_config.yaml file for the corresponding project. If None, the value from there is used, otherwise it is overwritten! Default: None\n",
      "    \n",
      "    saveiters: this variable is actually set in pose_config.yaml. However, you can overwrite it with this hack. Don't use this regularly, just if you are too lazy to dig out\n",
      "        the pose_config.yaml file for the corresponding project. If None, the value from there is used, otherwise it is overwritten! Default: None\n",
      "    \n",
      "    maxiters: this variable is actually set in pose_config.yaml. However, you can overwrite it with this hack. Don't use this regularly, just if you are too lazy to dig out\n",
      "        the pose_config.yaml file for the corresponding project. If None, the value from there is used, otherwise it is overwritten! Default: None\n",
      "    \n",
      "    allow_growth: bool, default false.\n",
      "        For some smaller GPUs the memory issues happen. If true, the memory allocator does not pre-allocate the entire specified\n",
      "        GPU memory region, instead starting small and growing as needed. See issue: https://forum.image.sc/t/how-to-stop-running-out-of-vram/30551/2\n",
      "    \n",
      "    gputouse: int, optional. Natural number indicating the number of your GPU (see number in nvidia-smi). If you do not have a GPU put None.\n",
      "        See: https://nvidia.custhelp.com/app/answers/detail/a_id/3751/~/useful-nvidia-smi-queries\n",
      "    \n",
      "    autotune: property of TensorFlow, somehow faster if 'false' (as Eldar found out, see https://github.com/tensorflow/tensorflow/issues/13317). Default: False\n",
      "    \n",
      "    keepdeconvweights: bool, default: true\n",
      "        Also restores the weights of the deconvolution layers (and the backbone) when training from a snapshot. Note that if you change the number of bodyparts, you need to\n",
      "        set this to false for re-training.\n",
      "    \n",
      "    Example\n",
      "    --------\n",
      "    for training the network for first shuffle of the training dataset.\n",
      "    >>> deeplabcut.train_network('/analysis/project/reaching-task/config.yaml')\n",
      "    --------\n",
      "    \n",
      "    for training the network for second shuffle of the training dataset.\n",
      "    >>> deeplabcut.train_network('/analysis/project/reaching-task/config.yaml',shuffle=2,keepdeconvweights=True)\n",
      "    --------\n",
      "\n"
     ]
    },
    {
     "name": "stderr",
     "output_type": "stream",
     "text": [
      "Gtk-Message: 13:24:00.742: Failed to load module \"atk-bridge\"\n",
      "Gtk-Message: 13:24:00.745: Failed to load module \"canberra-gtk-module\"\n"
     ]
    }
   ],
   "source": [
    "obj = 'teabag'\n",
    "config_path = glob(f'/home/luke/Desktop/project/make_tea/dlc/make_tea_{obj}*/config.yaml')[0]\n",
    "\n",
    "deeplabcut.create_multianimaltraining_dataset(config_path)\n",
    "deeplabcut.train_network(config_path, gputouse = 0, saveiters = 10000, displayiters=100, maxiters=50000)\n"
   ]
  },
  {
   "cell_type": "markdown",
   "id": "b949ad0d",
   "metadata": {},
   "source": [
    "# Pick outliers after training"
   ]
  },
  {
   "cell_type": "code",
   "execution_count": 1,
   "id": "2d028251",
   "metadata": {},
   "outputs": [
    {
     "name": "stderr",
     "output_type": "stream",
     "text": [
      "Gtk-Message: 11:59:23.060: Failed to load module \"atk-bridge\"\n",
      "Gtk-Message: 11:59:23.062: Failed to load module \"canberra-gtk-module\"\n"
     ]
    }
   ],
   "source": [
    "import deeplabcut\n",
    "from deeplabcut.refine_training_dataset import find_outliers_in_raw_data\n",
    "\n",
    "config_path = '/home/luke/Desktop/project/make_tea/dlc/make_tea_01052022-luke_yinghan-2022-01-05/config.yaml'"
   ]
  },
  {
   "cell_type": "markdown",
   "id": "a92832af",
   "metadata": {},
   "source": [
    "## Pick the videos(in a list) to check training result"
   ]
  },
  {
   "cell_type": "code",
   "execution_count": 19,
   "id": "c96c6ce8",
   "metadata": {},
   "outputs": [],
   "source": [
    "videos = ['/home/luke/Desktop/project/make_tea/camera-main/videos/1641420386/1641420386-right.mp4','/home/luke/Desktop/project/make_tea/camera-main/videos/1641421641/1641421641-left.mp4']"
   ]
  },
  {
   "cell_type": "markdown",
   "id": "89fd2a96",
   "metadata": {},
   "source": [
    "## Analyze videos. "
   ]
  },
  {
   "cell_type": "markdown",
   "id": "08a56e8c",
   "metadata": {},
   "source": [
    "***_full.pickle and _meta.pickle file are produced***"
   ]
  },
  {
   "cell_type": "code",
   "execution_count": null,
   "id": "b740f622",
   "metadata": {},
   "outputs": [
    {
     "name": "stdout",
     "output_type": "stream",
     "text": [
      "Using snapshot-50000 for model /home/luke/Desktop/project/make_tea/dlc/make_tea_teabag-luke-2022-01-29/dlc-models/iteration-0/make_tea_teabagJan29-trainset95shuffle1\n"
     ]
    },
    {
     "name": "stderr",
     "output_type": "stream",
     "text": [
      "/home/luke/anaconda3/envs/DEEPLABCUT/lib/python3.8/site-packages/tensorflow/python/keras/engine/base_layer_v1.py:1694: UserWarning: `layer.apply` is deprecated and will be removed in a future version. Please use `layer.__call__` method instead.\n",
      "  warnings.warn('`layer.apply` is deprecated and '\n"
     ]
    },
    {
     "name": "stdout",
     "output_type": "stream",
     "text": [
      "Activating extracting of PAFs\n"
     ]
    },
    {
     "name": "stderr",
     "output_type": "stream",
     "text": [
      "2022-01-31 13:50:14.047483: I tensorflow/stream_executor/cuda/cuda_gpu_executor.cc:939] successful NUMA node read from SysFS had negative value (-1), but there must be at least one NUMA node, so returning NUMA node zero\n",
      "2022-01-31 13:50:14.051546: I tensorflow/stream_executor/cuda/cuda_gpu_executor.cc:939] successful NUMA node read from SysFS had negative value (-1), but there must be at least one NUMA node, so returning NUMA node zero\n",
      "2022-01-31 13:50:14.051823: I tensorflow/stream_executor/cuda/cuda_gpu_executor.cc:939] successful NUMA node read from SysFS had negative value (-1), but there must be at least one NUMA node, so returning NUMA node zero\n",
      "2022-01-31 13:50:14.052145: I tensorflow/core/platform/cpu_feature_guard.cc:151] This TensorFlow binary is optimized with oneAPI Deep Neural Network Library (oneDNN) to use the following CPU instructions in performance-critical operations:  AVX2 FMA\n",
      "To enable them in other operations, rebuild TensorFlow with the appropriate compiler flags.\n",
      "2022-01-31 13:50:14.052815: I tensorflow/stream_executor/cuda/cuda_gpu_executor.cc:939] successful NUMA node read from SysFS had negative value (-1), but there must be at least one NUMA node, so returning NUMA node zero\n",
      "2022-01-31 13:50:14.052957: I tensorflow/stream_executor/cuda/cuda_gpu_executor.cc:939] successful NUMA node read from SysFS had negative value (-1), but there must be at least one NUMA node, so returning NUMA node zero\n",
      "2022-01-31 13:50:14.053083: I tensorflow/stream_executor/cuda/cuda_gpu_executor.cc:939] successful NUMA node read from SysFS had negative value (-1), but there must be at least one NUMA node, so returning NUMA node zero\n",
      "2022-01-31 13:50:14.451191: I tensorflow/stream_executor/cuda/cuda_gpu_executor.cc:939] successful NUMA node read from SysFS had negative value (-1), but there must be at least one NUMA node, so returning NUMA node zero\n",
      "2022-01-31 13:50:14.451476: I tensorflow/stream_executor/cuda/cuda_gpu_executor.cc:939] successful NUMA node read from SysFS had negative value (-1), but there must be at least one NUMA node, so returning NUMA node zero\n",
      "2022-01-31 13:50:14.451670: I tensorflow/stream_executor/cuda/cuda_gpu_executor.cc:939] successful NUMA node read from SysFS had negative value (-1), but there must be at least one NUMA node, so returning NUMA node zero\n",
      "2022-01-31 13:50:14.451803: I tensorflow/core/common_runtime/gpu/gpu_device.cc:1525] Created device /job:localhost/replica:0/task:0/device:GPU:0 with 23 MB memory:  -> device: 0, name: NVIDIA GeForce GTX 1080 Ti, pci bus id: 0000:01:00.0, compute capability: 6.1\n",
      "2022-01-31 13:50:14.752584: I tensorflow/stream_executor/cuda/cuda_driver.cc:739] failed to allocate 23.88M (25034752 bytes) from device: CUDA_ERROR_OUT_OF_MEMORY: out of memory\n",
      "2022-01-31 13:50:14.753045: I tensorflow/stream_executor/cuda/cuda_driver.cc:739] failed to allocate 21.49M (22531328 bytes) from device: CUDA_ERROR_OUT_OF_MEMORY: out of memory\n",
      "2022-01-31 13:50:14.753485: I tensorflow/stream_executor/cuda/cuda_driver.cc:739] failed to allocate 19.34M (20278272 bytes) from device: CUDA_ERROR_OUT_OF_MEMORY: out of memory\n",
      "2022-01-31 13:50:14.753927: I tensorflow/stream_executor/cuda/cuda_driver.cc:739] failed to allocate 17.40M (18250496 bytes) from device: CUDA_ERROR_OUT_OF_MEMORY: out of memory\n",
      "2022-01-31 13:50:14.754421: I tensorflow/stream_executor/cuda/cuda_driver.cc:739] failed to allocate 15.66M (16425472 bytes) from device: CUDA_ERROR_OUT_OF_MEMORY: out of memory\n",
      "2022-01-31 13:50:14.754874: I tensorflow/stream_executor/cuda/cuda_driver.cc:739] failed to allocate 14.10M (14782976 bytes) from device: CUDA_ERROR_OUT_OF_MEMORY: out of memory\n",
      "2022-01-31 13:50:14.762022: I tensorflow/stream_executor/cuda/cuda_driver.cc:739] failed to allocate 11.19M (11729920 bytes) from device: CUDA_ERROR_OUT_OF_MEMORY: out of memory\n",
      "2022-01-31 13:50:14.762546: I tensorflow/stream_executor/cuda/cuda_driver.cc:739] failed to allocate 11.19M (11729920 bytes) from device: CUDA_ERROR_OUT_OF_MEMORY: out of memory\n"
     ]
    }
   ],
   "source": [
    "import deeplabcut\n",
    "from glob import glob\n",
    "\n",
    "obj = 'teabag'\n",
    "config_path = glob(f'/home/luke/Desktop/project/make_tea/dlc/make_tea_{obj}*/config.yaml')[0]\n",
    "vid_id = '1642994619'\n",
    "videos = f'/home/luke/Desktop/project/make_tea/camera-main/videos/{vid_id}/left/{vid_id}-left.mp4'\n",
    "\n",
    "deeplabcut.analyze_videos(config_path, videos , videotype='.mp4')"
   ]
  },
  {
   "cell_type": "markdown",
   "id": "a798b8fd",
   "metadata": {},
   "source": [
    "## Check the result in video. The result videos are in the video directories."
   ]
  },
  {
   "cell_type": "code",
   "execution_count": 4,
   "id": "14b82184",
   "metadata": {
    "scrolled": true
   },
   "outputs": [
    {
     "name": "stdout",
     "output_type": "stream",
     "text": [
      "Creating labeled video for  1642994619-left\n"
     ]
    },
    {
     "name": "stderr",
     "output_type": "stream",
     "text": [
      "100%|█████████████████████████████████████████| 538/538 [00:06<00:00, 87.76it/s]\n"
     ]
    }
   ],
   "source": [
    "deeplabcut.create_video_with_all_detections(config_path, videos, videotype='.mp4')"
   ]
  },
  {
   "cell_type": "markdown",
   "id": "a5dd92a8",
   "metadata": {},
   "source": [
    "## If result good, continue to get tracklets. If not good, find outliers and re-train the network"
   ]
  },
  {
   "cell_type": "code",
   "execution_count": 11,
   "id": "0820d40b",
   "metadata": {},
   "outputs": [
    {
     "name": "stdout",
     "output_type": "stream",
     "text": [
      "Frames from video 1641421641-right  already extracted (more will be added)!\n",
      "Loading video...\n",
      "Duration of video [s]:  43.5 , recorded @  20.0 fps!\n",
      "Overall # of frames:  870 with (cropped) frame dimensions: \n",
      "Kmeans-quantization based extracting of frames from 0.0  seconds to 43.5  seconds.\n",
      "Let's select frames indices: [23, 38, 39, 40, 41, 68, 69, 70, 71, 72, 73, 76, 78, 79, 80, 91, 93, 97, 100, 109, 115, 123, 124, 128, 135, 136, 151, 155, 167, 191, 231, 236, 237, 239, 241, 242, 243, 244, 247, 269, 275, 283, 286, 314, 316, 365, 366, 381, 382, 407, 439, 614, 615, 616, 617, 618, 623, 624, 657, 687]\n",
      "Creating the symbolic link of the video\n",
      "New video was added to the project! Use the function 'extract_frames' to select frames for labeling.\n",
      "The outlier frames are extracted. They are stored in the subdirectory labeled-data\\1641421641-right.\n",
      "Once you extracted frames for all videos, use 'refine_labels' to manually correct the labels.\n"
     ]
    }
   ],
   "source": [
    "pickle_file = '/home/luke/Desktop/project/make_tea/camera-main/videos/1641421641/1641421641-leftDLC_dlcrnetms5_make_tea_01052022Jan5shuffle1_50000_full.pickle'\n",
    "find_outliers_in_raw_data(config_path, pickle_file, videos[1])"
   ]
  },
  {
   "cell_type": "markdown",
   "id": "6da105eb",
   "metadata": {},
   "source": [
    "where pickle_file is the _full.pickle one obtains after video analysis. Flagged frames will be added to your collection of images in the corresponding labeled-data folders for you to label. You can choose to re-train the network after labeling the outlier images."
   ]
  },
  {
   "cell_type": "markdown",
   "id": "4f30381e",
   "metadata": {},
   "source": [
    "# Supposed retrained and now track the objects"
   ]
  },
  {
   "cell_type": "markdown",
   "id": "8c309d88",
   "metadata": {},
   "source": [
    "## Convert detections to tracklets. "
   ]
  },
  {
   "cell_type": "markdown",
   "id": "e4aa4afb",
   "metadata": {},
   "source": [
    "***Remember to set track_method to be 'box' because the default 'ellipse' method does not work. _assemblies.pickle and _bx.pickle file will be produced***"
   ]
  },
  {
   "cell_type": "code",
   "execution_count": 21,
   "id": "b2b9ff3c",
   "metadata": {},
   "outputs": [
    {
     "name": "stdout",
     "output_type": "stream",
     "text": [
      "Using snapshot-50000 for model /home/luke/Desktop/project/make_tea/dlc/make_tea_01052022-luke_yinghan-2022-01-05/dlc-models/iteration-0/make_tea_01052022Jan5-trainset95shuffle1\n",
      "Processing...  /home/luke/Desktop/project/make_tea/camera-main/videos/1641420386/1641420386-right.mp4\n",
      "/home/luke/Desktop/project/make_tea/camera-main/videos/1641420386  already exists!\n",
      "Analyzing /home/luke/Desktop/project/make_tea/camera-main/videos/1641420386/1641420386-rightDLC_dlcrnetms5_make_tea_01052022Jan5shuffle1_50000.h5\n"
     ]
    },
    {
     "name": "stderr",
     "output_type": "stream",
     "text": [
      "100%|███████████████████████████████████████| 776/776 [00:00<00:00, 6861.46it/s]\n",
      "776it [00:00, 831.44it/s] \n"
     ]
    },
    {
     "name": "stdout",
     "output_type": "stream",
     "text": [
      "The tracklets were created. Now you can 'refine_tracklets'.\n",
      "Using snapshot-50000 for model /home/luke/Desktop/project/make_tea/dlc/make_tea_01052022-luke_yinghan-2022-01-05/dlc-models/iteration-0/make_tea_01052022Jan5-trainset95shuffle1\n",
      "Processing...  /home/luke/Desktop/project/make_tea/camera-main/videos/1641421641/1641421641-left.mp4\n",
      "/home/luke/Desktop/project/make_tea/camera-main/videos/1641421641  already exists!\n",
      "Analyzing /home/luke/Desktop/project/make_tea/camera-main/videos/1641421641/1641421641-leftDLC_dlcrnetms5_make_tea_01052022Jan5shuffle1_50000.h5\n"
     ]
    },
    {
     "name": "stderr",
     "output_type": "stream",
     "text": [
      "100%|███████████████████████████████████████| 870/870 [00:00<00:00, 8844.35it/s]\n",
      "870it [00:00, 1938.70it/s]"
     ]
    },
    {
     "name": "stdout",
     "output_type": "stream",
     "text": [
      "The tracklets were created. Now you can 'refine_tracklets'.\n"
     ]
    },
    {
     "name": "stderr",
     "output_type": "stream",
     "text": [
      "\n"
     ]
    }
   ],
   "source": [
    "deeplabcut.convert_detections2tracklets(config_path, videos[0], videotype= 'mp4', overwrite = True, track_method = 'box')\n",
    "deeplabcut.convert_detections2tracklets(config_path, videos[1], videotype= 'mp4', overwrite = True, track_method = 'box')"
   ]
  },
  {
   "cell_type": "markdown",
   "id": "0ced3f18",
   "metadata": {},
   "source": [
    "## Stitch tracklets to get .h5 files"
   ]
  },
  {
   "cell_type": "code",
   "execution_count": 40,
   "id": "daff4b2f",
   "metadata": {},
   "outputs": [
    {
     "name": "stdout",
     "output_type": "stream",
     "text": [
      "Processing...  /home/luke/Desktop/project/make_tea/camera-main/videos/1641420386/1641420386-right.mp4\n",
      "/home/luke/Desktop/project/make_tea/camera-main/videos/1641420386  already exists!\n"
     ]
    },
    {
     "name": "stderr",
     "output_type": "stream",
     "text": [
      "100%|███████████████████████████████████████████| 8/8 [00:00<00:00, 7612.17it/s]\n"
     ]
    },
    {
     "name": "stdout",
     "output_type": "stream",
     "text": [
      "Processing...  /home/luke/Desktop/project/make_tea/camera-main/videos/1641421641/1641421641-left.mp4\n",
      "/home/luke/Desktop/project/make_tea/camera-main/videos/1641421641  already exists!\n"
     ]
    },
    {
     "name": "stderr",
     "output_type": "stream",
     "text": [
      "100%|███████████████████████████████████████████| 6/6 [00:00<00:00, 6785.07it/s]\n"
     ]
    }
   ],
   "source": [
    "deeplabcut.stitch_tracklets(config_path, videos[0], videotype='mp4',\n",
    "                            shuffle=1, trainingsetindex=0, track_method = 'box')\n",
    "deeplabcut.stitch_tracklets(config_path, videos[1], videotype='mp4',\n",
    "                            shuffle=1, trainingsetindex=0, track_method = 'box')"
   ]
  },
  {
   "cell_type": "markdown",
   "id": "5d931676",
   "metadata": {},
   "source": [
    "## Refine tracklets. Not working for now, need to open up the GUI to do so"
   ]
  },
  {
   "cell_type": "code",
   "execution_count": 41,
   "id": "2405a701",
   "metadata": {},
   "outputs": [],
   "source": [
    "track_files =['/home/luke/Desktop/project/make_tea/camera-main/videos/1641420386/1641420386-rightDLC_dlcrnetms5_make_tea_01052022Jan5shuffle1_50000_bx.pickle',\n",
    "              '/home/luke/Desktop/project/make_tea/camera-main/videos/1641421641/1641421641-leftDLC_dlcrnetms5_make_tea_01052022Jan5shuffle1_50000_bx.pickle']\n",
    "\n",
    "deeplabcut.refine_tracklets(config_path, track_files[0], videos[0])\n",
    "deeplabcut.refine_tracklets(config_path, track_files[1], videos[1])"
   ]
  },
  {
   "cell_type": "markdown",
   "id": "97ffe2fc",
   "metadata": {},
   "source": [
    "## Filter the tracks"
   ]
  },
  {
   "cell_type": "code",
   "execution_count": 46,
   "id": "e8b66b40",
   "metadata": {},
   "outputs": [
    {
     "name": "stdout",
     "output_type": "stream",
     "text": [
      "Filtering with median model /home/luke/Desktop/project/make_tea/camera-main/videos/1641420386/1641420386-right.mp4\n",
      "Data from 1641420386-right were already filtered. Skipping...\n",
      "Filtering with median model /home/luke/Desktop/project/make_tea/camera-main/videos/1641421641/1641421641-left.mp4\n",
      "Saving filtered csv poses!\n"
     ]
    }
   ],
   "source": [
    "dlc.filterpredictions(config_path, videos[0], track_method = 'box')\n",
    "dlc.filterpredictions(config_path, videos[1], track_method = 'box')"
   ]
  },
  {
   "cell_type": "markdown",
   "id": "fda52086",
   "metadata": {},
   "source": [
    "## Plots"
   ]
  },
  {
   "cell_type": "code",
   "execution_count": 50,
   "id": "130bb493",
   "metadata": {},
   "outputs": [
    {
     "name": "stdout",
     "output_type": "stream",
     "text": [
      "Loading  /home/luke/Desktop/project/make_tea/camera-main/videos/1641420386/1641420386-right.mp4 and data.\n",
      "Plots created! Please check the directory \"plot-poses\" within the video directory\n"
     ]
    }
   ],
   "source": [
    "dlc.plot_trajectories(config_path, videos,filtered = True, track_method = 'box')"
   ]
  },
  {
   "cell_type": "markdown",
   "id": "94b558fe",
   "metadata": {},
   "source": [
    "## Create videos"
   ]
  },
  {
   "cell_type": "code",
   "execution_count": 51,
   "id": "9fd4f07c",
   "metadata": {},
   "outputs": [
    {
     "name": "stdout",
     "output_type": "stream",
     "text": [
      "/home/luke/Desktop/project/make_tea/camera-main/videos/1641421641/home/luke/Desktop/project/make_tea/camera-main/videos/1641420386   already exists! already exists!\n",
      "\n",
      "Starting to process video: /home/luke/Desktop/project/make_tea/camera-main/videos/1641420386/1641420386-right.mp4\n",
      "Loading /home/luke/Desktop/project/make_tea/camera-main/videos/1641420386/1641420386-right.mp4 and data.\n",
      "Starting to process video: /home/luke/Desktop/project/make_tea/camera-main/videos/1641421641/1641421641-left.mp4\n",
      "Loading /home/luke/Desktop/project/make_tea/camera-main/videos/1641421641/1641421641-left.mp4 and data.\n",
      "Duration of video [s]: 38.8, recorded with 20.0 fps!\n",
      "Overall # of frames: 776 with cropped frame dimensions: 1920 1088\n",
      "Generating frames and creating video.\n",
      "Duration of video [s]: 43.5, recorded with 20.0 fps!\n",
      "Overall # of frames: 870 with cropped frame dimensions: 1920 1088\n",
      "Generating frames and creating video.\n"
     ]
    },
    {
     "name": "stderr",
     "output_type": "stream",
     "text": [
      "100%|█████████████████████████████████████████| 776/776 [00:09<00:00, 79.96it/s]\n",
      "100%|█████████████████████████████████████████| 870/870 [00:11<00:00, 78.84it/s]\n"
     ]
    }
   ],
   "source": [
    "dlc.create_labeled_video(config_path, videos ,filtered = True, track_method = 'box')"
   ]
  },
  {
   "cell_type": "code",
   "execution_count": null,
   "id": "f6dfb1dd",
   "metadata": {},
   "outputs": [],
   "source": []
  }
 ],
 "metadata": {
  "kernelspec": {
   "display_name": "Python [conda env:DEEPLABCUT] *",
   "language": "python",
   "name": "conda-env-DEEPLABCUT-py"
  },
  "language_info": {
   "codemirror_mode": {
    "name": "ipython",
    "version": 3
   },
   "file_extension": ".py",
   "mimetype": "text/x-python",
   "name": "python",
   "nbconvert_exporter": "python",
   "pygments_lexer": "ipython3",
   "version": "3.8.12"
  }
 },
 "nbformat": 4,
 "nbformat_minor": 5
}
