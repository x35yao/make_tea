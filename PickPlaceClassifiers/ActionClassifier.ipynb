{
 "cells": [
  {
   "cell_type": "code",
   "execution_count": 1,
   "id": "stupid-silicon",
   "metadata": {},
   "outputs": [],
   "source": [
    "import numpy as np\n",
    "from math import exp\n",
    "from sklearn.tree import DecisionTreeClassifier, plot_tree\n",
    "from sklearn.linear_model import LogisticRegression\n",
    "\n",
    "bin_separators = [16/(2**i) for i in range(0, 9)][::-1]\n",
    "\n",
    "def createBins(data, bin_sep, normalize=True):\n",
    "    nonzero_bins, freq = np.unique(np.digitize(data, bin_separators), return_counts=True)\n",
    "    result = []\n",
    "    for bin_number in range(len(bin_sep)+1):\n",
    "        if bin_number in nonzero_bins:\n",
    "            index = np.where(bin_number==nonzero_bins)[0]\n",
    "            result.append(freq[index][0])\n",
    "        else: result.append(0)\n",
    "    if normalize:\n",
    "        result /= sum(result)\n",
    "    return result"
   ]
  },
  {
   "cell_type": "code",
   "execution_count": 2,
   "id": "specified-addiction",
   "metadata": {},
   "outputs": [],
   "source": [
    "\n",
    "X_train, y_train = [], [] \n",
    "X_test, y_test = [], []\n",
    "for i in range(100):\n",
    "    a = np.random.uniform(0,20, 20)\n",
    "    X_train.append(createBins(a, bin_separators))\n",
    "    y_train.append(0)\n",
    "    \n",
    "for i in range(100):\n",
    "    a = np.random.normal(5,10, 20)\n",
    "    X_train.append(createBins(a, bin_separators))\n",
    "    y_train.append(1)\n",
    "    \n",
    "for i in range(10):\n",
    "    a = np.random.uniform(0,20, 20)\n",
    "    X_test.append(createBins(a, bin_separators))\n",
    "    y_test.append(0)\n",
    "    \n",
    "for i in range(10):\n",
    "    a = np.random.normal(5,10, 20)\n",
    "    X_test.append(createBins(a, bin_separators))\n",
    "    y_test.append(1)"
   ]
  },
  {
   "cell_type": "code",
   "execution_count": 3,
   "id": "potential-williams",
   "metadata": {},
   "outputs": [
    {
     "data": {
      "text/plain": [
       "DecisionTreeClassifier()"
      ]
     },
     "execution_count": 3,
     "metadata": {},
     "output_type": "execute_result"
    }
   ],
   "source": [
    "dtc = DecisionTreeClassifier()\n",
    "lgr = LogisticRegression()\n",
    "dtc.fit(X_train, y_train)\n"
   ]
  },
  {
   "cell_type": "code",
   "execution_count": 4,
   "id": "hundred-cycle",
   "metadata": {},
   "outputs": [
    {
     "data": {
      "text/plain": [
       "array([0, 0, 0, 0, 0, 0, 0, 0, 0, 0, 1, 1, 1, 1, 1, 1, 1, 1, 1, 1])"
      ]
     },
     "execution_count": 4,
     "metadata": {},
     "output_type": "execute_result"
    }
   ],
   "source": [
    "dtc.predict(X_test)"
   ]
  },
  {
   "cell_type": "code",
   "execution_count": 5,
   "id": "gentle-hebrew",
   "metadata": {},
   "outputs": [
    {
     "data": {
      "text/plain": [
       "[Text(167.4, 195.696, 'X[0] <= 0.075\\ngini = 0.5\\nsamples = 200\\nvalue = [100, 100]'),\n",
       " Text(111.60000000000001, 152.208, 'X[7] <= 0.275\\ngini = 0.02\\nsamples = 101\\nvalue = [100, 1]'),\n",
       " Text(55.800000000000004, 108.72, 'gini = 0.0\\nsamples = 89\\nvalue = [89, 0]'),\n",
       " Text(167.4, 108.72, 'X[0] <= 0.025\\ngini = 0.153\\nsamples = 12\\nvalue = [11, 1]'),\n",
       " Text(111.60000000000001, 65.232, 'gini = 0.0\\nsamples = 10\\nvalue = [10, 0]'),\n",
       " Text(223.20000000000002, 65.232, 'X[9] <= 0.15\\ngini = 0.5\\nsamples = 2\\nvalue = [1, 1]'),\n",
       " Text(167.4, 21.744, 'gini = 0.0\\nsamples = 1\\nvalue = [0, 1]'),\n",
       " Text(279.0, 21.744, 'gini = 0.0\\nsamples = 1\\nvalue = [1, 0]'),\n",
       " Text(223.20000000000002, 152.208, 'gini = 0.0\\nsamples = 99\\nvalue = [0, 99]')]"
      ]
     },
     "execution_count": 5,
     "metadata": {},
     "output_type": "execute_result"
    },
    {
     "data": {
      "image/png": "[encoded data removed]",
      "text/plain": [
       "<Figure size 432x288 with 1 Axes>"
      ]
     },
     "metadata": {
      "needs_background": "light"
     },
     "output_type": "display_data"
    }
   ],
   "source": [
    "plot_tree(dtc)"
   ]
  }
 ],
 "metadata": {
  "kernelspec": {
   "display_name": "Python 3",
   "language": "python",
   "name": "python3"
  },
  "language_info": {
   "codemirror_mode": {
    "name": "ipython",
    "version": 3
   },
   "file_extension": ".py",
   "mimetype": "text/x-python",
   "name": "python",
   "nbconvert_exporter": "python",
   "pygments_lexer": "ipython3",
   "version": "3.8.10"
  }
 },
 "nbformat": 4,
 "nbformat_minor": 5
}
