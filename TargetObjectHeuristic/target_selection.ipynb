{
 "cells": [
  {
   "cell_type": "code",
   "execution_count": 1,
   "id": "promotional-combine",
   "metadata": {},
   "outputs": [
    {
     "name": "stdout",
     "output_type": "stream",
     "text": [
      "obj2_pos\n"
     ]
    }
   ],
   "source": [
    "from heuristic_util import * \n",
    "\n",
    "moving_obj = [(0, 0, 0), (1, 0, 0), (2, 0, 0), (3, 0, 0), (4, 0, 0), (5.5, 0, 0), (6, 0, 0), (7, 0, 0), \n",
    "                   (8, 0, 0), (9, 0, 0), (9, 1, 0), (9, 2, 0), (9, 3, 0), (9, 4, 0), (9, 5, 0), (9, 6, 0), \n",
    "                   (8, 6, 0), (7, 5, 0), (6, 4, 0), (5, 3, 0), (4, 2, 0), (3, 1, 0), (2, 0, 0)]\n",
    "obj1_pos = [(9, 0, 2) for _ in moving_obj]\n",
    "obj2_pos = [(9, 1.1, .9) for _ in moving_obj]\n",
    "obj3_pos = [(9, 2.3, 1) for _ in moving_obj]\n",
    "\n",
    "\n",
    "selector = DistanceBasedSelector(1, 2.1, 'closest')\n",
    "other_objs = {'obj1_pos':obj1_pos, 'obj2_pos':obj2_pos, 'obj3_pos':obj3_pos}\n",
    "print(selector.target_search(moving_obj, other_objs))"
   ]
  }
 ],
 "metadata": {
  "kernelspec": {
   "display_name": "Python 3",
   "language": "python",
   "name": "python3"
  },
  "language_info": {
   "codemirror_mode": {
    "name": "ipython",
    "version": 3
   },
   "file_extension": ".py",
   "mimetype": "text/x-python",
   "name": "python",
   "nbconvert_exporter": "python",
   "pygments_lexer": "ipython3",
   "version": "3.8.10"
  }
 },
 "nbformat": 4,
 "nbformat_minor": 5
}
