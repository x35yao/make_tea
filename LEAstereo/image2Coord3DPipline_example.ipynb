{
 "cells": [
  {
   "cell_type": "code",
   "execution_count": null,
   "id": "4fa33e97",
   "metadata": {},
   "outputs": [],
   "source": [
    "import pandas as pd\n",
    "from predictDepth import *\n",
    "from zedStereoUtility import *\n",
    "\n",
    "image_dir = './dataset/1642520848/'\n",
    "left_image_file = os.path.join(image_dir, 'left', 'frame015.jpg')\n",
    "right_image_file = os.path.join(image_dir, 'right', 'frame015.jpg')\n",
    "left_image = np.array(Image.open(left_image_file))\n",
    "right_image = np.array(Image.open(right_image_file))"
   ]
  },
  {
   "cell_type": "markdown",
   "id": "political-pendant",
   "metadata": {},
   "source": [
    "### 1. Generate Disparity Map"
   ]
  },
  {
   "cell_type": "code",
   "execution_count": null,
   "id": "worthy-principal",
   "metadata": {},
   "outputs": [],
   "source": [
    "disp_map = getDisparityMap(left_image, right_image)"
   ]
  },
  {
   "cell_type": "markdown",
   "id": "homeless-vanilla",
   "metadata": {},
   "source": [
    "### 2. Load Analysed pickle file"
   ]
  },
  {
   "cell_type": "code",
   "execution_count": null,
   "id": "remarkable-composition",
   "metadata": {},
   "outputs": [],
   "source": [
    "object_set = 1642520848\n",
    "l_datafile = '../camera-main/videos/{}/{}-leftDLC_dlcrnetms5_make_tea_01052022Jan5shuffle1_40000_full.pickle'.format(object_set, object_set)\n",
    "with open(l_datafile, 'rb') as file:\n",
    "    l_data = pkl.load(file)\n",
    "    \n",
    "# Getting the best pixels from the file.\n",
    "best_pixels = []\n",
    "frame_coord = l_data['frame0015']\n",
    "coord, confid = frame_coord['coordinates'][0], frame_coord['confidence']\n",
    "for k, _ in enumerate(coord):\n",
    "    confid_k = list(np.reshape(confid[k], (-1)))\n",
    "    best_index = confid_k.index(max(confid_k))\n",
    "    best_pixels.append(coord[k][best_index])\n",
    "\n",
    "# Use LEAStereoCoordinate if there is a image and disparity directory."
   ]
  },
  {
   "cell_type": "code",
   "execution_count": null,
   "id": "primary-slave",
   "metadata": {
    "scrolled": true
   },
   "outputs": [],
   "source": [
    "px, py = [i[0] for i in best_pixels] , [i[1] for i in best_pixels] \n",
    "fig = plt.figure(figsize=(15, 25))\n",
    "fig.add_subplot(1, 2, 1)\n",
    "plt.title('Left Image')\n",
    "plt.scatter(px, py)\n",
    "plt.imshow(left_image)\n",
    "fig.add_subplot(1, 2, 2)\n",
    "plt.title('Disparity')\n",
    "plt.imshow(disp_map)"
   ]
  },
  {
   "cell_type": "markdown",
   "id": "concrete-earthquake",
   "metadata": {},
   "source": [
    "### 3. Convert Image and Disparity to 3D Coordinates"
   ]
  },
  {
   "cell_type": "code",
   "execution_count": null,
   "id": "fifteen-performer",
   "metadata": {},
   "outputs": [],
   "source": [
    "coordinate3D = pixelTo3DCameraCoord(left_image, disp_map, best_pixels)"
   ]
  },
  {
   "cell_type": "code",
   "execution_count": null,
   "id": "inappropriate-resident",
   "metadata": {},
   "outputs": [],
   "source": [
    "import plotly.express as px\n",
    "XYZ = [[i['X'] for i in coordinate3D], [i['Y'] for i in coordinate3D], [i['Z'] for i in coordinate3D]]\n",
    "XYZ = list(zip(*XYZ))\n",
    "tb_dlc_df = pd.DataFrame(np.array(XYZ))\n",
    "tb_dlc_df.columns = ['X', 'Y', 'Z']\n",
    "fig = px.scatter_3d(tb_dlc_df,x='X',y='Y',z='Z')\n",
    "fig.update_traces(marker=dict(size=1))\n",
    "fig.show()"
   ]
  }
 ],
 "metadata": {
  "kernelspec": {
   "display_name": "Python 3",
   "language": "python",
   "name": "python3"
  },
  "language_info": {
   "codemirror_mode": {
    "name": "ipython",
    "version": 3
   },
   "file_extension": ".py",
   "mimetype": "text/x-python",
   "name": "python",
   "nbconvert_exporter": "python",
   "pygments_lexer": "ipython3",
   "version": "3.8.10"
  }
 },
 "nbformat": 4,
 "nbformat_minor": 5
}
