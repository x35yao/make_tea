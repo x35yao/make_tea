{
 "cells": [
  {
   "cell_type": "code",
   "execution_count": 88,
   "id": "fb2f5453",
   "metadata": {},
   "outputs": [],
   "source": [
    "def get_pos_mean(df, scorer, individual, bodyparts):\n",
    "    n_data = len(df)\n",
    "    data = df[scorer][individual]\n",
    "    n_bodyparts = len(bodyparts)\n",
    "    pos_mean = np.zeros((n_data, 3))\n",
    "\n",
    "    for bp in bodyparts:\n",
    "        pos_mean += df[scorer][individual][bp].values \n",
    "        \n",
    "    return pos_mean/n_bodyparts\n",
    "\n",
    "\n",
    "def get_ori_mean(df, scorer, individual, bodyparts):\n",
    "    n_data = len(df)\n",
    "    data = df[scorer][individual]\n",
    "    n_bodyparts = len(bodyparts)\n",
    "    n_pairs = int(n_bodyparts/2) + 1 \n",
    "    ori_mean = np.zeros((n_data, 3))\n",
    "\n",
    "    for i in range(n_pairs):\n",
    "        bp_h = bodyparts[i]\n",
    "        bp_t = bodyparts[-(i+1)]\n",
    "        if not bp_h == bp_t:\n",
    "            ori_mean += normalize((df[scorer][individual][bp_h].values - df[scorer][individual][bp_t].values), axis = 1)\n",
    "    return normalize(ori_mean, axis = 1)"
   ]
  },
  {
   "cell_type": "code",
   "execution_count": 131,
   "id": "87165913",
   "metadata": {},
   "outputs": [],
   "source": [
    "import pandas as pd\n",
    "from glob import glob\n",
    "\n",
    "\n",
    "file = glob('/home/luke/Desktop/project/make_tea/camera-main/videos/1636318271/1636318271_ma*.h5')[0]\n",
    "df = pd.read_hdf(file)\n",
    "df = df.fillna(method = 'ffill').fillna(method = 'bfill') # get rid of NaNs\n",
    "n_dots = 3\n",
    "n = len(df)\n",
    "scorer = df.columns.get_level_values('scorer').unique()[0]\n",
    "individuals = df.columns.get_level_values('individuals').unique()\n",
    "\n",
    "\n",
    "df_new = pd.DataFrame()\n",
    "\n",
    "for individual in individuals:\n",
    "    bodyparts = df[scorer][individual].columns.get_level_values('bodyparts').unique()\n",
    "    n_bp = len(bodyparts)\n",
    "    if individual != 'single':\n",
    "        # this is an individual\n",
    "        pos_mean = get_pos_mean(df, scorer, individual, bodyparts)\n",
    "        ori_mean = get_ori_mean(df, scorer, individual, bodyparts)\n",
    "        pose_mean = np.concatenate((pos_mean, ori_mean), axis = 1)\n",
    "        pdindex = pd.MultiIndex.from_product(\n",
    "                    [[individual], [\"x\", \"y\", \"z\", \"X\", \"Y\",\"Z\"]],\n",
    "                    names=[\"individuals\",\"pose\"],\n",
    "                )\n",
    "        frame = pd.DataFrame(pose_mean, columns=pdindex)\n",
    "        df_new = pd.concat([frame, df_new], axis=1)\n",
    "    else:\n",
    "        # these are the unique objects(pitcher, cup etc there is only one of which in the scene)\n",
    "        individuals_u = set([bp.split('_')[0] for bp in bodyparts])\n",
    "        for individual_u in individuals_u:\n",
    "            bodyparts_u = [bp for bp in bodyparts if bp.split('_')[0] == individual_u]\n",
    "            pos_mean = get_pos_mean(df, scorer, individual, bodyparts_u)\n",
    "            ori_mean = get_ori_mean(df, scorer, individual, bodyparts_u)\n",
    "            pose_mean = np.concatenate((pos_mean, ori_mean), axis = 1)\n",
    "            pdindex = pd.MultiIndex.from_product(\n",
    "                        [[individual_u], [\"x\", \"y\", \"z\", \"X\", \"Y\",\"Z\"]],\n",
    "                        names=[\"individuals\",\"pose\"],\n",
    "                    )\n",
    "            frame = pd.DataFrame(pose_mean, columns=pdindex)\n",
    "            df_new = pd.concat([frame, df_new], axis=1)"
   ]
  },
  {
   "cell_type": "code",
   "execution_count": null,
   "id": "ed073bc3",
   "metadata": {},
   "outputs": [],
   "source": []
  }
 ],
 "metadata": {
  "kernelspec": {
   "display_name": "Python 3",
   "language": "python",
   "name": "python3"
  },
  "language_info": {
   "codemirror_mode": {
    "name": "ipython",
    "version": 3
   },
   "file_extension": ".py",
   "mimetype": "text/x-python",
   "name": "python",
   "nbconvert_exporter": "python",
   "pygments_lexer": "ipython3",
   "version": "3.8.8"
  }
 },
 "nbformat": 4,
 "nbformat_minor": 5
}
